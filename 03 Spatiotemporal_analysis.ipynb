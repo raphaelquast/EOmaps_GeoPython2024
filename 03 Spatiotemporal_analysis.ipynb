{
 "cells": [
  {
   "cell_type": "markdown",
   "id": "9e79b748-e095-4bfd-8b30-da235c3ae021",
   "metadata": {
    "editable": true,
    "slideshow": {
     "slide_type": ""
    },
    "tags": []
   },
   "source": [
    "# EOmaps Workshop GeoPython 2024\n",
    "<font size=3>Interactive geo-data analysis with EOmaps and the scientific python infrastructure.</font>"
   ]
  },
  {
   "cell_type": "code",
   "execution_count": 1,
   "id": "9f390c61-fc70-44be-a54c-6a2996e5e704",
   "metadata": {
    "editable": true,
    "slideshow": {
     "slide_type": ""
    },
    "tags": []
   },
   "outputs": [],
   "source": [
    "from pathlib import Path\n",
    "from functools import lru_cache # to cache already loaded timeseries\n",
    "\n",
    "import pandas as pd\n",
    "import xarray as xar\n",
    "from matplotlib.dates import ConciseDateFormatter  # to get nice datetime ticks\n",
    "\n",
    "from eomaps import Maps, widgets"
   ]
  },
  {
   "cell_type": "code",
   "execution_count": 2,
   "id": "166429c9-e529-4302-8cc0-80e126ff122b",
   "metadata": {
    "editable": true,
    "slideshow": {
     "slide_type": ""
    },
    "tags": []
   },
   "outputs": [],
   "source": [
    "%matplotlib qt\n",
    "Maps.config(always_on_top=True)      # keep figures \"always on top\""
   ]
  },
  {
   "cell_type": "markdown",
   "id": "05549bc4-5882-42c2-b310-c3f77e2848bf",
   "metadata": {
    "editable": true,
    "slideshow": {
     "slide_type": ""
    },
    "tags": []
   },
   "source": [
    "# **Example 2:** Spatio-temporal data analysis"
   ]
  },
  {
   "cell_type": "markdown",
   "id": "0225fce0-de60-4cb1-b84f-38baa73a7ec5",
   "metadata": {},
   "source": [
    "In this example, we will explore how we can analyze a whole stack of images with [EOmaps][eomaps].\n",
    "\n",
    "- Lazily populate layers\n",
    "- Load and visualize timeseries on click\n",
    "\n",
    "[eomaps]: https://eomaps.readthedocs.io/\n"
   ]
  },
  {
   "cell_type": "markdown",
   "id": "6f78b620-3665-4dff-9f5b-01ed0cf10950",
   "metadata": {},
   "source": [
    "Let's have a quick look at one of the files:"
   ]
  },
  {
   "cell_type": "code",
   "execution_count": 3,
   "id": "c6ecb1ef-6b61-4386-9d78-621c6c1b3c83",
   "metadata": {
    "editable": true,
    "slideshow": {
     "slide_type": ""
    },
    "tags": []
   },
   "outputs": [],
   "source": [
    "files = list(Path(\"gridded_data\").iterdir()) # a list of all file paths"
   ]
  },
  {
   "cell_type": "code",
   "execution_count": 4,
   "id": "49001258-4877-45aa-8801-0710add2a702",
   "metadata": {
    "editable": true,
    "slideshow": {
     "slide_type": ""
    },
    "tags": []
   },
   "outputs": [
    {
     "data": {
      "text/html": [
       "<div><svg style=\"position: absolute; width: 0; height: 0; overflow: hidden\">\n",
       "<defs>\n",
       "<symbol id=\"icon-database\" viewBox=\"0 0 32 32\">\n",
       "<path d=\"M16 0c-8.837 0-16 2.239-16 5v4c0 2.761 7.163 5 16 5s16-2.239 16-5v-4c0-2.761-7.163-5-16-5z\"></path>\n",
       "<path d=\"M16 17c-8.837 0-16-2.239-16-5v6c0 2.761 7.163 5 16 5s16-2.239 16-5v-6c0 2.761-7.163 5-16 5z\"></path>\n",
       "<path d=\"M16 26c-8.837 0-16-2.239-16-5v6c0 2.761 7.163 5 16 5s16-2.239 16-5v-6c0 2.761-7.163 5-16 5z\"></path>\n",
       "</symbol>\n",
       "<symbol id=\"icon-file-text2\" viewBox=\"0 0 32 32\">\n",
       "<path d=\"M28.681 7.159c-0.694-0.947-1.662-2.053-2.724-3.116s-2.169-2.030-3.116-2.724c-1.612-1.182-2.393-1.319-2.841-1.319h-15.5c-1.378 0-2.5 1.121-2.5 2.5v27c0 1.378 1.122 2.5 2.5 2.5h23c1.378 0 2.5-1.122 2.5-2.5v-19.5c0-0.448-0.137-1.23-1.319-2.841zM24.543 5.457c0.959 0.959 1.712 1.825 2.268 2.543h-4.811v-4.811c0.718 0.556 1.584 1.309 2.543 2.268zM28 29.5c0 0.271-0.229 0.5-0.5 0.5h-23c-0.271 0-0.5-0.229-0.5-0.5v-27c0-0.271 0.229-0.5 0.5-0.5 0 0 15.499-0 15.5 0v7c0 0.552 0.448 1 1 1h7v19.5z\"></path>\n",
       "<path d=\"M23 26h-14c-0.552 0-1-0.448-1-1s0.448-1 1-1h14c0.552 0 1 0.448 1 1s-0.448 1-1 1z\"></path>\n",
       "<path d=\"M23 22h-14c-0.552 0-1-0.448-1-1s0.448-1 1-1h14c0.552 0 1 0.448 1 1s-0.448 1-1 1z\"></path>\n",
       "<path d=\"M23 18h-14c-0.552 0-1-0.448-1-1s0.448-1 1-1h14c0.552 0 1 0.448 1 1s-0.448 1-1 1z\"></path>\n",
       "</symbol>\n",
       "</defs>\n",
       "</svg>\n",
       "<style>/* CSS stylesheet for displaying xarray objects in jupyterlab.\n",
       " *\n",
       " */\n",
       "\n",
       ":root {\n",
       "  --xr-font-color0: var(--jp-content-font-color0, rgba(0, 0, 0, 1));\n",
       "  --xr-font-color2: var(--jp-content-font-color2, rgba(0, 0, 0, 0.54));\n",
       "  --xr-font-color3: var(--jp-content-font-color3, rgba(0, 0, 0, 0.38));\n",
       "  --xr-border-color: var(--jp-border-color2, #e0e0e0);\n",
       "  --xr-disabled-color: var(--jp-layout-color3, #bdbdbd);\n",
       "  --xr-background-color: var(--jp-layout-color0, white);\n",
       "  --xr-background-color-row-even: var(--jp-layout-color1, white);\n",
       "  --xr-background-color-row-odd: var(--jp-layout-color2, #eeeeee);\n",
       "}\n",
       "\n",
       "html[theme=dark],\n",
       "body[data-theme=dark],\n",
       "body.vscode-dark {\n",
       "  --xr-font-color0: rgba(255, 255, 255, 1);\n",
       "  --xr-font-color2: rgba(255, 255, 255, 0.54);\n",
       "  --xr-font-color3: rgba(255, 255, 255, 0.38);\n",
       "  --xr-border-color: #1F1F1F;\n",
       "  --xr-disabled-color: #515151;\n",
       "  --xr-background-color: #111111;\n",
       "  --xr-background-color-row-even: #111111;\n",
       "  --xr-background-color-row-odd: #313131;\n",
       "}\n",
       "\n",
       ".xr-wrap {\n",
       "  display: block !important;\n",
       "  min-width: 300px;\n",
       "  max-width: 700px;\n",
       "}\n",
       "\n",
       ".xr-text-repr-fallback {\n",
       "  /* fallback to plain text repr when CSS is not injected (untrusted notebook) */\n",
       "  display: none;\n",
       "}\n",
       "\n",
       ".xr-header {\n",
       "  padding-top: 6px;\n",
       "  padding-bottom: 6px;\n",
       "  margin-bottom: 4px;\n",
       "  border-bottom: solid 1px var(--xr-border-color);\n",
       "}\n",
       "\n",
       ".xr-header > div,\n",
       ".xr-header > ul {\n",
       "  display: inline;\n",
       "  margin-top: 0;\n",
       "  margin-bottom: 0;\n",
       "}\n",
       "\n",
       ".xr-obj-type,\n",
       ".xr-array-name {\n",
       "  margin-left: 2px;\n",
       "  margin-right: 10px;\n",
       "}\n",
       "\n",
       ".xr-obj-type {\n",
       "  color: var(--xr-font-color2);\n",
       "}\n",
       "\n",
       ".xr-sections {\n",
       "  padding-left: 0 !important;\n",
       "  display: grid;\n",
       "  grid-template-columns: 150px auto auto 1fr 20px 20px;\n",
       "}\n",
       "\n",
       ".xr-section-item {\n",
       "  display: contents;\n",
       "}\n",
       "\n",
       ".xr-section-item input {\n",
       "  display: none;\n",
       "}\n",
       "\n",
       ".xr-section-item input + label {\n",
       "  color: var(--xr-disabled-color);\n",
       "}\n",
       "\n",
       ".xr-section-item input:enabled + label {\n",
       "  cursor: pointer;\n",
       "  color: var(--xr-font-color2);\n",
       "}\n",
       "\n",
       ".xr-section-item input:enabled + label:hover {\n",
       "  color: var(--xr-font-color0);\n",
       "}\n",
       "\n",
       ".xr-section-summary {\n",
       "  grid-column: 1;\n",
       "  color: var(--xr-font-color2);\n",
       "  font-weight: 500;\n",
       "}\n",
       "\n",
       ".xr-section-summary > span {\n",
       "  display: inline-block;\n",
       "  padding-left: 0.5em;\n",
       "}\n",
       "\n",
       ".xr-section-summary-in:disabled + label {\n",
       "  color: var(--xr-font-color2);\n",
       "}\n",
       "\n",
       ".xr-section-summary-in + label:before {\n",
       "  display: inline-block;\n",
       "  content: '►';\n",
       "  font-size: 11px;\n",
       "  width: 15px;\n",
       "  text-align: center;\n",
       "}\n",
       "\n",
       ".xr-section-summary-in:disabled + label:before {\n",
       "  color: var(--xr-disabled-color);\n",
       "}\n",
       "\n",
       ".xr-section-summary-in:checked + label:before {\n",
       "  content: '▼';\n",
       "}\n",
       "\n",
       ".xr-section-summary-in:checked + label > span {\n",
       "  display: none;\n",
       "}\n",
       "\n",
       ".xr-section-summary,\n",
       ".xr-section-inline-details {\n",
       "  padding-top: 4px;\n",
       "  padding-bottom: 4px;\n",
       "}\n",
       "\n",
       ".xr-section-inline-details {\n",
       "  grid-column: 2 / -1;\n",
       "}\n",
       "\n",
       ".xr-section-details {\n",
       "  display: none;\n",
       "  grid-column: 1 / -1;\n",
       "  margin-bottom: 5px;\n",
       "}\n",
       "\n",
       ".xr-section-summary-in:checked ~ .xr-section-details {\n",
       "  display: contents;\n",
       "}\n",
       "\n",
       ".xr-array-wrap {\n",
       "  grid-column: 1 / -1;\n",
       "  display: grid;\n",
       "  grid-template-columns: 20px auto;\n",
       "}\n",
       "\n",
       ".xr-array-wrap > label {\n",
       "  grid-column: 1;\n",
       "  vertical-align: top;\n",
       "}\n",
       "\n",
       ".xr-preview {\n",
       "  color: var(--xr-font-color3);\n",
       "}\n",
       "\n",
       ".xr-array-preview,\n",
       ".xr-array-data {\n",
       "  padding: 0 5px !important;\n",
       "  grid-column: 2;\n",
       "}\n",
       "\n",
       ".xr-array-data,\n",
       ".xr-array-in:checked ~ .xr-array-preview {\n",
       "  display: none;\n",
       "}\n",
       "\n",
       ".xr-array-in:checked ~ .xr-array-data,\n",
       ".xr-array-preview {\n",
       "  display: inline-block;\n",
       "}\n",
       "\n",
       ".xr-dim-list {\n",
       "  display: inline-block !important;\n",
       "  list-style: none;\n",
       "  padding: 0 !important;\n",
       "  margin: 0;\n",
       "}\n",
       "\n",
       ".xr-dim-list li {\n",
       "  display: inline-block;\n",
       "  padding: 0;\n",
       "  margin: 0;\n",
       "}\n",
       "\n",
       ".xr-dim-list:before {\n",
       "  content: '(';\n",
       "}\n",
       "\n",
       ".xr-dim-list:after {\n",
       "  content: ')';\n",
       "}\n",
       "\n",
       ".xr-dim-list li:not(:last-child):after {\n",
       "  content: ',';\n",
       "  padding-right: 5px;\n",
       "}\n",
       "\n",
       ".xr-has-index {\n",
       "  font-weight: bold;\n",
       "}\n",
       "\n",
       ".xr-var-list,\n",
       ".xr-var-item {\n",
       "  display: contents;\n",
       "}\n",
       "\n",
       ".xr-var-item > div,\n",
       ".xr-var-item label,\n",
       ".xr-var-item > .xr-var-name span {\n",
       "  background-color: var(--xr-background-color-row-even);\n",
       "  margin-bottom: 0;\n",
       "}\n",
       "\n",
       ".xr-var-item > .xr-var-name:hover span {\n",
       "  padding-right: 5px;\n",
       "}\n",
       "\n",
       ".xr-var-list > li:nth-child(odd) > div,\n",
       ".xr-var-list > li:nth-child(odd) > label,\n",
       ".xr-var-list > li:nth-child(odd) > .xr-var-name span {\n",
       "  background-color: var(--xr-background-color-row-odd);\n",
       "}\n",
       "\n",
       ".xr-var-name {\n",
       "  grid-column: 1;\n",
       "}\n",
       "\n",
       ".xr-var-dims {\n",
       "  grid-column: 2;\n",
       "}\n",
       "\n",
       ".xr-var-dtype {\n",
       "  grid-column: 3;\n",
       "  text-align: right;\n",
       "  color: var(--xr-font-color2);\n",
       "}\n",
       "\n",
       ".xr-var-preview {\n",
       "  grid-column: 4;\n",
       "}\n",
       "\n",
       ".xr-index-preview {\n",
       "  grid-column: 2 / 5;\n",
       "  color: var(--xr-font-color2);\n",
       "}\n",
       "\n",
       ".xr-var-name,\n",
       ".xr-var-dims,\n",
       ".xr-var-dtype,\n",
       ".xr-preview,\n",
       ".xr-attrs dt {\n",
       "  white-space: nowrap;\n",
       "  overflow: hidden;\n",
       "  text-overflow: ellipsis;\n",
       "  padding-right: 10px;\n",
       "}\n",
       "\n",
       ".xr-var-name:hover,\n",
       ".xr-var-dims:hover,\n",
       ".xr-var-dtype:hover,\n",
       ".xr-attrs dt:hover {\n",
       "  overflow: visible;\n",
       "  width: auto;\n",
       "  z-index: 1;\n",
       "}\n",
       "\n",
       ".xr-var-attrs,\n",
       ".xr-var-data,\n",
       ".xr-index-data {\n",
       "  display: none;\n",
       "  background-color: var(--xr-background-color) !important;\n",
       "  padding-bottom: 5px !important;\n",
       "}\n",
       "\n",
       ".xr-var-attrs-in:checked ~ .xr-var-attrs,\n",
       ".xr-var-data-in:checked ~ .xr-var-data,\n",
       ".xr-index-data-in:checked ~ .xr-index-data {\n",
       "  display: block;\n",
       "}\n",
       "\n",
       ".xr-var-data > table {\n",
       "  float: right;\n",
       "}\n",
       "\n",
       ".xr-var-name span,\n",
       ".xr-var-data,\n",
       ".xr-index-name div,\n",
       ".xr-index-data,\n",
       ".xr-attrs {\n",
       "  padding-left: 25px !important;\n",
       "}\n",
       "\n",
       ".xr-attrs,\n",
       ".xr-var-attrs,\n",
       ".xr-var-data,\n",
       ".xr-index-data {\n",
       "  grid-column: 1 / -1;\n",
       "}\n",
       "\n",
       "dl.xr-attrs {\n",
       "  padding: 0;\n",
       "  margin: 0;\n",
       "  display: grid;\n",
       "  grid-template-columns: 125px auto;\n",
       "}\n",
       "\n",
       ".xr-attrs dt,\n",
       ".xr-attrs dd {\n",
       "  padding: 0;\n",
       "  margin: 0;\n",
       "  float: left;\n",
       "  padding-right: 10px;\n",
       "  width: auto;\n",
       "}\n",
       "\n",
       ".xr-attrs dt {\n",
       "  font-weight: normal;\n",
       "  grid-column: 1;\n",
       "}\n",
       "\n",
       ".xr-attrs dt:hover span {\n",
       "  display: inline-block;\n",
       "  background: var(--xr-background-color);\n",
       "  padding-right: 10px;\n",
       "}\n",
       "\n",
       ".xr-attrs dd {\n",
       "  grid-column: 2;\n",
       "  white-space: pre-wrap;\n",
       "  word-break: break-all;\n",
       "}\n",
       "\n",
       ".xr-icon-database,\n",
       ".xr-icon-file-text2,\n",
       ".xr-no-icon {\n",
       "  display: inline-block;\n",
       "  vertical-align: middle;\n",
       "  width: 1em;\n",
       "  height: 1.5em !important;\n",
       "  stroke-width: 0;\n",
       "  stroke: currentColor;\n",
       "  fill: currentColor;\n",
       "}\n",
       "</style><pre class='xr-text-repr-fallback'>&lt;xarray.Dataset&gt; Size: 441MB\n",
       "Dimensions:    (lat: 1800, lon: 3600, time: 1)\n",
       "Coordinates:\n",
       "  * lat        (lat) float64 14kB 89.95 89.85 89.75 ... -89.75 -89.85 -89.95\n",
       "  * lon        (lon) float64 29kB -179.9 -179.8 -179.8 ... 179.7 179.8 179.9\n",
       "  * time       (time) datetime64[ns] 8B 2023-06-01T12:00:00\n",
       "Data variables: (12/18)\n",
       "    crs        |S1 1B ...\n",
       "    SWI_005    (time, lat, lon) float32 26MB ...\n",
       "    SWI_010    (time, lat, lon) float32 26MB ...\n",
       "    SWI_001    (time, lat, lon) float32 26MB ...\n",
       "    SWI_015    (time, lat, lon) float32 26MB ...\n",
       "    SWI_100    (time, lat, lon) float32 26MB ...\n",
       "    ...         ...\n",
       "    QFLAG_100  (time, lat, lon) float32 26MB ...\n",
       "    QFLAG_020  (time, lat, lon) float32 26MB ...\n",
       "    QFLAG_005  (time, lat, lon) float32 26MB ...\n",
       "    QFLAG_001  (time, lat, lon) float32 26MB ...\n",
       "    QFLAG_060  (time, lat, lon) float32 26MB ...\n",
       "    SSF        (time, lat, lon) float32 26MB ...\n",
       "Attributes: (12/25)\n",
       "    Conventions:          CF-1.6\n",
       "    archive_facility:     VITO\n",
       "    copyright:            Copernicus Service information 2023\n",
       "    geospatial_lat_max:   89.95\n",
       "    geospatial_lat_min:   -89.95\n",
       "    geospatial_lon_max:   179.95\n",
       "    ...                   ...\n",
       "    region_name:          GLOBE\n",
       "    sensor:               ASCAT\n",
       "    source:               Derived from EO microwave scatterometer observations\n",
       "    time_coverage_end:    2023-06-01T12:00:00Z\n",
       "    time_coverage_start:  2023-05-31T12:00:00Z\n",
       "    title:                Daily Soil Water Index 0.1degree: GLOBE 2023-06-01T...</pre><div class='xr-wrap' style='display:none'><div class='xr-header'><div class='xr-obj-type'>xarray.Dataset</div></div><ul class='xr-sections'><li class='xr-section-item'><input id='section-dae1de1b-0c52-4af9-9d99-d2948db698d9' class='xr-section-summary-in' type='checkbox' disabled ><label for='section-dae1de1b-0c52-4af9-9d99-d2948db698d9' class='xr-section-summary'  title='Expand/collapse section'>Dimensions:</label><div class='xr-section-inline-details'><ul class='xr-dim-list'><li><span class='xr-has-index'>lat</span>: 1800</li><li><span class='xr-has-index'>lon</span>: 3600</li><li><span class='xr-has-index'>time</span>: 1</li></ul></div><div class='xr-section-details'></div></li><li class='xr-section-item'><input id='section-74216b0c-3560-4b5b-b4c4-08770a52d27a' class='xr-section-summary-in' type='checkbox'  checked><label for='section-74216b0c-3560-4b5b-b4c4-08770a52d27a' class='xr-section-summary' >Coordinates: <span>(3)</span></label><div class='xr-section-inline-details'></div><div class='xr-section-details'><ul class='xr-var-list'><li class='xr-var-item'><div class='xr-var-name'><span class='xr-has-index'>lat</span></div><div class='xr-var-dims'>(lat)</div><div class='xr-var-dtype'>float64</div><div class='xr-var-preview xr-preview'>89.95 89.85 89.75 ... -89.85 -89.95</div><input id='attrs-dfaa3215-882c-4920-9bfa-440b83daec50' class='xr-var-attrs-in' type='checkbox' ><label for='attrs-dfaa3215-882c-4920-9bfa-440b83daec50' title='Show/Hide attributes'><svg class='icon xr-icon-file-text2'><use xlink:href='#icon-file-text2'></use></svg></label><input id='data-7e4ed3e7-d9e6-4372-aef3-f08453775213' class='xr-var-data-in' type='checkbox'><label for='data-7e4ed3e7-d9e6-4372-aef3-f08453775213' title='Show/Hide data repr'><svg class='icon xr-icon-database'><use xlink:href='#icon-database'></use></svg></label><div class='xr-var-attrs'><dl class='xr-attrs'><dt><span>standard_name :</span></dt><dd>latitude</dd><dt><span>long_name :</span></dt><dd>latitude</dd><dt><span>units :</span></dt><dd>degrees_north</dd><dt><span>axis :</span></dt><dd>Y</dd><dt><span>valid_range :</span></dt><dd>[-90.  90.]</dd></dl></div><div class='xr-var-data'><pre>array([ 89.95,  89.85,  89.75, ..., -89.75, -89.85, -89.95])</pre></div></li><li class='xr-var-item'><div class='xr-var-name'><span class='xr-has-index'>lon</span></div><div class='xr-var-dims'>(lon)</div><div class='xr-var-dtype'>float64</div><div class='xr-var-preview xr-preview'>-179.9 -179.8 ... 179.8 179.9</div><input id='attrs-97ef7c27-4060-4894-bcfc-3b1bf9657d3c' class='xr-var-attrs-in' type='checkbox' ><label for='attrs-97ef7c27-4060-4894-bcfc-3b1bf9657d3c' title='Show/Hide attributes'><svg class='icon xr-icon-file-text2'><use xlink:href='#icon-file-text2'></use></svg></label><input id='data-014fc19a-e8b0-4788-ba50-5c5b579a0947' class='xr-var-data-in' type='checkbox'><label for='data-014fc19a-e8b0-4788-ba50-5c5b579a0947' title='Show/Hide data repr'><svg class='icon xr-icon-database'><use xlink:href='#icon-database'></use></svg></label><div class='xr-var-attrs'><dl class='xr-attrs'><dt><span>standard_name :</span></dt><dd>longitude</dd><dt><span>long_name :</span></dt><dd>longitude</dd><dt><span>units :</span></dt><dd>degrees_east</dd><dt><span>axis :</span></dt><dd>X</dd><dt><span>valid_range :</span></dt><dd>[-180.  180.]</dd></dl></div><div class='xr-var-data'><pre>array([-179.95, -179.85, -179.75, ...,  179.75,  179.85,  179.95])</pre></div></li><li class='xr-var-item'><div class='xr-var-name'><span class='xr-has-index'>time</span></div><div class='xr-var-dims'>(time)</div><div class='xr-var-dtype'>datetime64[ns]</div><div class='xr-var-preview xr-preview'>2023-06-01T12:00:00</div><input id='attrs-5ad5d94a-0daf-4709-b5af-731d91175330' class='xr-var-attrs-in' type='checkbox' ><label for='attrs-5ad5d94a-0daf-4709-b5af-731d91175330' title='Show/Hide attributes'><svg class='icon xr-icon-file-text2'><use xlink:href='#icon-file-text2'></use></svg></label><input id='data-d3b706e6-4d28-40df-9504-64785dab0424' class='xr-var-data-in' type='checkbox'><label for='data-d3b706e6-4d28-40df-9504-64785dab0424' title='Show/Hide data repr'><svg class='icon xr-icon-database'><use xlink:href='#icon-database'></use></svg></label><div class='xr-var-attrs'><dl class='xr-attrs'><dt><span>standard_name :</span></dt><dd>time</dd><dt><span>long_name :</span></dt><dd>time</dd><dt><span>axis :</span></dt><dd>T</dd></dl></div><div class='xr-var-data'><pre>array([&#x27;2023-06-01T12:00:00.000000000&#x27;], dtype=&#x27;datetime64[ns]&#x27;)</pre></div></li></ul></div></li><li class='xr-section-item'><input id='section-1b72f5f3-14b4-421f-aca4-f633640ecab5' class='xr-section-summary-in' type='checkbox'  ><label for='section-1b72f5f3-14b4-421f-aca4-f633640ecab5' class='xr-section-summary' >Data variables: <span>(18)</span></label><div class='xr-section-inline-details'></div><div class='xr-section-details'><ul class='xr-var-list'><li class='xr-var-item'><div class='xr-var-name'><span>crs</span></div><div class='xr-var-dims'>()</div><div class='xr-var-dtype'>|S1</div><div class='xr-var-preview xr-preview'>...</div><input id='attrs-753e2451-ac08-4dcf-bebd-8a2dbabaf918' class='xr-var-attrs-in' type='checkbox' ><label for='attrs-753e2451-ac08-4dcf-bebd-8a2dbabaf918' title='Show/Hide attributes'><svg class='icon xr-icon-file-text2'><use xlink:href='#icon-file-text2'></use></svg></label><input id='data-25d4c42d-317d-48d3-bf37-bc46e8f62c0f' class='xr-var-data-in' type='checkbox'><label for='data-25d4c42d-317d-48d3-bf37-bc46e8f62c0f' title='Show/Hide data repr'><svg class='icon xr-icon-database'><use xlink:href='#icon-database'></use></svg></label><div class='xr-var-attrs'><dl class='xr-attrs'><dt><span>inverse_flattening :</span></dt><dd>298.257223563</dd><dt><span>spatial_ref :</span></dt><dd>GEOGCS[&quot;WGS 84&quot;,DATUM[&quot;WGS_1984&quot;,SPHEROID[&quot;WGS 84&quot;,6378137,298.257223563,AUTHORITY[&quot;EPSG&quot;,&quot;7030&quot;]],AUTHORITY[&quot;EPSG&quot;,&quot;6326&quot;]],PRIMEM[&quot;Greenwich&quot;,0,AUTHORITY[&quot;EPSG&quot;,&quot;8901&quot;]],UNIT[&quot;degree&quot;,0.0174532925199433,AUTHORITY[&quot;EPSG&quot;,&quot;9122&quot;]],AUTHORITY[&quot;EPSG&quot;,&quot;4326&quot;]]</dd><dt><span>semi_major_axis :</span></dt><dd>6378137.0</dd><dt><span>GeoTransform :</span></dt><dd>-180 0.1 0 90 0 -0.1</dd><dt><span>long_name :</span></dt><dd>CRS definition</dd><dt><span>grid_mapping_name :</span></dt><dd>latitude_longitude</dd><dt><span>longitude_of_prime_meridian :</span></dt><dd>0.0</dd></dl></div><div class='xr-var-data'><pre>[1 values with dtype=|S1]</pre></div></li><li class='xr-var-item'><div class='xr-var-name'><span>SWI_005</span></div><div class='xr-var-dims'>(time, lat, lon)</div><div class='xr-var-dtype'>float32</div><div class='xr-var-preview xr-preview'>...</div><input id='attrs-3eece6cf-3d63-413f-9aa0-5523f633bb1d' class='xr-var-attrs-in' type='checkbox' ><label for='attrs-3eece6cf-3d63-413f-9aa0-5523f633bb1d' title='Show/Hide attributes'><svg class='icon xr-icon-file-text2'><use xlink:href='#icon-file-text2'></use></svg></label><input id='data-a80584ec-632e-403d-903c-e6b0e817dc9d' class='xr-var-data-in' type='checkbox'><label for='data-a80584ec-632e-403d-903c-e6b0e817dc9d' title='Show/Hide data repr'><svg class='icon xr-icon-database'><use xlink:href='#icon-database'></use></svg></label><div class='xr-var-attrs'><dl class='xr-attrs'><dt><span>Class :</span></dt><dd>DATA</dd><dt><span>grid_mapping :</span></dt><dd>crs</dd><dt><span>long_name :</span></dt><dd>Soil Water Index with T=5</dd><dt><span>units :</span></dt><dd>%</dd><dt><span>valid_range :</span></dt><dd>[  0 200]</dd></dl></div><div class='xr-var-data'><pre>[6480000 values with dtype=float32]</pre></div></li><li class='xr-var-item'><div class='xr-var-name'><span>SWI_010</span></div><div class='xr-var-dims'>(time, lat, lon)</div><div class='xr-var-dtype'>float32</div><div class='xr-var-preview xr-preview'>...</div><input id='attrs-03d58d5e-03fe-4fd9-b8b7-6cef26b49bf7' class='xr-var-attrs-in' type='checkbox' ><label for='attrs-03d58d5e-03fe-4fd9-b8b7-6cef26b49bf7' title='Show/Hide attributes'><svg class='icon xr-icon-file-text2'><use xlink:href='#icon-file-text2'></use></svg></label><input id='data-f2465607-95ca-4c61-bed1-2c19cdacf7e6' class='xr-var-data-in' type='checkbox'><label for='data-f2465607-95ca-4c61-bed1-2c19cdacf7e6' title='Show/Hide data repr'><svg class='icon xr-icon-database'><use xlink:href='#icon-database'></use></svg></label><div class='xr-var-attrs'><dl class='xr-attrs'><dt><span>Class :</span></dt><dd>DATA</dd><dt><span>grid_mapping :</span></dt><dd>crs</dd><dt><span>long_name :</span></dt><dd>Soil Water Index with T=10</dd><dt><span>units :</span></dt><dd>%</dd><dt><span>valid_range :</span></dt><dd>[  0 200]</dd></dl></div><div class='xr-var-data'><pre>[6480000 values with dtype=float32]</pre></div></li><li class='xr-var-item'><div class='xr-var-name'><span>SWI_001</span></div><div class='xr-var-dims'>(time, lat, lon)</div><div class='xr-var-dtype'>float32</div><div class='xr-var-preview xr-preview'>...</div><input id='attrs-f0ad4162-f988-424a-9da3-1597a46004ad' class='xr-var-attrs-in' type='checkbox' ><label for='attrs-f0ad4162-f988-424a-9da3-1597a46004ad' title='Show/Hide attributes'><svg class='icon xr-icon-file-text2'><use xlink:href='#icon-file-text2'></use></svg></label><input id='data-8afc1f06-f6e3-428b-8fba-6c83b894710a' class='xr-var-data-in' type='checkbox'><label for='data-8afc1f06-f6e3-428b-8fba-6c83b894710a' title='Show/Hide data repr'><svg class='icon xr-icon-database'><use xlink:href='#icon-database'></use></svg></label><div class='xr-var-attrs'><dl class='xr-attrs'><dt><span>Class :</span></dt><dd>DATA</dd><dt><span>grid_mapping :</span></dt><dd>crs</dd><dt><span>long_name :</span></dt><dd>Soil Water Index with T=1</dd><dt><span>units :</span></dt><dd>%</dd><dt><span>valid_range :</span></dt><dd>[  0 200]</dd></dl></div><div class='xr-var-data'><pre>[6480000 values with dtype=float32]</pre></div></li><li class='xr-var-item'><div class='xr-var-name'><span>SWI_015</span></div><div class='xr-var-dims'>(time, lat, lon)</div><div class='xr-var-dtype'>float32</div><div class='xr-var-preview xr-preview'>...</div><input id='attrs-a4851120-7aa3-4352-a992-da433ad2a8de' class='xr-var-attrs-in' type='checkbox' ><label for='attrs-a4851120-7aa3-4352-a992-da433ad2a8de' title='Show/Hide attributes'><svg class='icon xr-icon-file-text2'><use xlink:href='#icon-file-text2'></use></svg></label><input id='data-087e8f6b-3be5-473c-95b3-99cacd0af655' class='xr-var-data-in' type='checkbox'><label for='data-087e8f6b-3be5-473c-95b3-99cacd0af655' title='Show/Hide data repr'><svg class='icon xr-icon-database'><use xlink:href='#icon-database'></use></svg></label><div class='xr-var-attrs'><dl class='xr-attrs'><dt><span>Class :</span></dt><dd>DATA</dd><dt><span>grid_mapping :</span></dt><dd>crs</dd><dt><span>long_name :</span></dt><dd>Soil Water Index with T=15</dd><dt><span>units :</span></dt><dd>%</dd><dt><span>valid_range :</span></dt><dd>[  0 200]</dd></dl></div><div class='xr-var-data'><pre>[6480000 values with dtype=float32]</pre></div></li><li class='xr-var-item'><div class='xr-var-name'><span>SWI_100</span></div><div class='xr-var-dims'>(time, lat, lon)</div><div class='xr-var-dtype'>float32</div><div class='xr-var-preview xr-preview'>...</div><input id='attrs-34d1864a-ce75-4975-b226-25e03a68ce4b' class='xr-var-attrs-in' type='checkbox' ><label for='attrs-34d1864a-ce75-4975-b226-25e03a68ce4b' title='Show/Hide attributes'><svg class='icon xr-icon-file-text2'><use xlink:href='#icon-file-text2'></use></svg></label><input id='data-88b20834-998f-4264-b63d-bad57b351579' class='xr-var-data-in' type='checkbox'><label for='data-88b20834-998f-4264-b63d-bad57b351579' title='Show/Hide data repr'><svg class='icon xr-icon-database'><use xlink:href='#icon-database'></use></svg></label><div class='xr-var-attrs'><dl class='xr-attrs'><dt><span>Class :</span></dt><dd>DATA</dd><dt><span>grid_mapping :</span></dt><dd>crs</dd><dt><span>long_name :</span></dt><dd>Soil Water Index with T=100</dd><dt><span>units :</span></dt><dd>%</dd><dt><span>valid_range :</span></dt><dd>[  0 200]</dd></dl></div><div class='xr-var-data'><pre>[6480000 values with dtype=float32]</pre></div></li><li class='xr-var-item'><div class='xr-var-name'><span>SWI_040</span></div><div class='xr-var-dims'>(time, lat, lon)</div><div class='xr-var-dtype'>float32</div><div class='xr-var-preview xr-preview'>...</div><input id='attrs-fa685494-93f4-4f2e-999e-be33e0a95f2a' class='xr-var-attrs-in' type='checkbox' ><label for='attrs-fa685494-93f4-4f2e-999e-be33e0a95f2a' title='Show/Hide attributes'><svg class='icon xr-icon-file-text2'><use xlink:href='#icon-file-text2'></use></svg></label><input id='data-b0357ff9-cda6-4f7d-b14e-430e9af2beb5' class='xr-var-data-in' type='checkbox'><label for='data-b0357ff9-cda6-4f7d-b14e-430e9af2beb5' title='Show/Hide data repr'><svg class='icon xr-icon-database'><use xlink:href='#icon-database'></use></svg></label><div class='xr-var-attrs'><dl class='xr-attrs'><dt><span>Class :</span></dt><dd>DATA</dd><dt><span>grid_mapping :</span></dt><dd>crs</dd><dt><span>long_name :</span></dt><dd>Soil Water Index with T=40</dd><dt><span>units :</span></dt><dd>%</dd><dt><span>valid_range :</span></dt><dd>[  0 200]</dd></dl></div><div class='xr-var-data'><pre>[6480000 values with dtype=float32]</pre></div></li><li class='xr-var-item'><div class='xr-var-name'><span>SWI_060</span></div><div class='xr-var-dims'>(time, lat, lon)</div><div class='xr-var-dtype'>float32</div><div class='xr-var-preview xr-preview'>...</div><input id='attrs-096272e3-8c11-428c-8378-de040d4cad70' class='xr-var-attrs-in' type='checkbox' ><label for='attrs-096272e3-8c11-428c-8378-de040d4cad70' title='Show/Hide attributes'><svg class='icon xr-icon-file-text2'><use xlink:href='#icon-file-text2'></use></svg></label><input id='data-99de44b2-aa0b-489e-9b1b-2e4eeb519835' class='xr-var-data-in' type='checkbox'><label for='data-99de44b2-aa0b-489e-9b1b-2e4eeb519835' title='Show/Hide data repr'><svg class='icon xr-icon-database'><use xlink:href='#icon-database'></use></svg></label><div class='xr-var-attrs'><dl class='xr-attrs'><dt><span>Class :</span></dt><dd>DATA</dd><dt><span>grid_mapping :</span></dt><dd>crs</dd><dt><span>long_name :</span></dt><dd>Soil Water Index with T=60</dd><dt><span>units :</span></dt><dd>%</dd><dt><span>valid_range :</span></dt><dd>[  0 200]</dd></dl></div><div class='xr-var-data'><pre>[6480000 values with dtype=float32]</pre></div></li><li class='xr-var-item'><div class='xr-var-name'><span>SWI_020</span></div><div class='xr-var-dims'>(time, lat, lon)</div><div class='xr-var-dtype'>float32</div><div class='xr-var-preview xr-preview'>...</div><input id='attrs-7f5add46-dd51-482d-9183-862a09aa6807' class='xr-var-attrs-in' type='checkbox' ><label for='attrs-7f5add46-dd51-482d-9183-862a09aa6807' title='Show/Hide attributes'><svg class='icon xr-icon-file-text2'><use xlink:href='#icon-file-text2'></use></svg></label><input id='data-e53a5946-c6fc-40fc-bafa-71abaccf2376' class='xr-var-data-in' type='checkbox'><label for='data-e53a5946-c6fc-40fc-bafa-71abaccf2376' title='Show/Hide data repr'><svg class='icon xr-icon-database'><use xlink:href='#icon-database'></use></svg></label><div class='xr-var-attrs'><dl class='xr-attrs'><dt><span>Class :</span></dt><dd>DATA</dd><dt><span>grid_mapping :</span></dt><dd>crs</dd><dt><span>long_name :</span></dt><dd>Soil Water Index with T=20</dd><dt><span>units :</span></dt><dd>%</dd><dt><span>valid_range :</span></dt><dd>[  0 200]</dd></dl></div><div class='xr-var-data'><pre>[6480000 values with dtype=float32]</pre></div></li><li class='xr-var-item'><div class='xr-var-name'><span>QFLAG_040</span></div><div class='xr-var-dims'>(time, lat, lon)</div><div class='xr-var-dtype'>float32</div><div class='xr-var-preview xr-preview'>...</div><input id='attrs-3eb8550c-7a6d-46cd-a905-a55ac534c142' class='xr-var-attrs-in' type='checkbox' ><label for='attrs-3eb8550c-7a6d-46cd-a905-a55ac534c142' title='Show/Hide attributes'><svg class='icon xr-icon-file-text2'><use xlink:href='#icon-file-text2'></use></svg></label><input id='data-a9f20000-dd85-4039-bf9d-44e515842575' class='xr-var-data-in' type='checkbox'><label for='data-a9f20000-dd85-4039-bf9d-44e515842575' title='Show/Hide data repr'><svg class='icon xr-icon-database'><use xlink:href='#icon-database'></use></svg></label><div class='xr-var-attrs'><dl class='xr-attrs'><dt><span>Class :</span></dt><dd>DATA</dd><dt><span>grid_mapping :</span></dt><dd>crs</dd><dt><span>long_name :</span></dt><dd>Quality Flag with T=40</dd><dt><span>units :</span></dt><dd>%</dd><dt><span>valid_range :</span></dt><dd>[  0 200]</dd></dl></div><div class='xr-var-data'><pre>[6480000 values with dtype=float32]</pre></div></li><li class='xr-var-item'><div class='xr-var-name'><span>QFLAG_010</span></div><div class='xr-var-dims'>(time, lat, lon)</div><div class='xr-var-dtype'>float32</div><div class='xr-var-preview xr-preview'>...</div><input id='attrs-bd6a7365-3fde-4905-8b34-4a4e76f1c947' class='xr-var-attrs-in' type='checkbox' ><label for='attrs-bd6a7365-3fde-4905-8b34-4a4e76f1c947' title='Show/Hide attributes'><svg class='icon xr-icon-file-text2'><use xlink:href='#icon-file-text2'></use></svg></label><input id='data-0ed10766-1c59-4d2c-b720-2230377e6824' class='xr-var-data-in' type='checkbox'><label for='data-0ed10766-1c59-4d2c-b720-2230377e6824' title='Show/Hide data repr'><svg class='icon xr-icon-database'><use xlink:href='#icon-database'></use></svg></label><div class='xr-var-attrs'><dl class='xr-attrs'><dt><span>Class :</span></dt><dd>DATA</dd><dt><span>grid_mapping :</span></dt><dd>crs</dd><dt><span>long_name :</span></dt><dd>Quality Flag with T=10</dd><dt><span>units :</span></dt><dd>%</dd><dt><span>valid_range :</span></dt><dd>[  0 200]</dd></dl></div><div class='xr-var-data'><pre>[6480000 values with dtype=float32]</pre></div></li><li class='xr-var-item'><div class='xr-var-name'><span>QFLAG_015</span></div><div class='xr-var-dims'>(time, lat, lon)</div><div class='xr-var-dtype'>float32</div><div class='xr-var-preview xr-preview'>...</div><input id='attrs-b1afd105-6d08-43ad-b99e-1bd01666fca6' class='xr-var-attrs-in' type='checkbox' ><label for='attrs-b1afd105-6d08-43ad-b99e-1bd01666fca6' title='Show/Hide attributes'><svg class='icon xr-icon-file-text2'><use xlink:href='#icon-file-text2'></use></svg></label><input id='data-cd403925-69e4-4c32-a198-3ffdff581051' class='xr-var-data-in' type='checkbox'><label for='data-cd403925-69e4-4c32-a198-3ffdff581051' title='Show/Hide data repr'><svg class='icon xr-icon-database'><use xlink:href='#icon-database'></use></svg></label><div class='xr-var-attrs'><dl class='xr-attrs'><dt><span>Class :</span></dt><dd>DATA</dd><dt><span>grid_mapping :</span></dt><dd>crs</dd><dt><span>long_name :</span></dt><dd>Quality Flag with T=15</dd><dt><span>units :</span></dt><dd>%</dd><dt><span>valid_range :</span></dt><dd>[  0 200]</dd></dl></div><div class='xr-var-data'><pre>[6480000 values with dtype=float32]</pre></div></li><li class='xr-var-item'><div class='xr-var-name'><span>QFLAG_100</span></div><div class='xr-var-dims'>(time, lat, lon)</div><div class='xr-var-dtype'>float32</div><div class='xr-var-preview xr-preview'>...</div><input id='attrs-b1697af1-6d7e-4b90-823e-3082e641cfff' class='xr-var-attrs-in' type='checkbox' ><label for='attrs-b1697af1-6d7e-4b90-823e-3082e641cfff' title='Show/Hide attributes'><svg class='icon xr-icon-file-text2'><use xlink:href='#icon-file-text2'></use></svg></label><input id='data-42bb54bc-ca57-4831-98e1-02478898d54f' class='xr-var-data-in' type='checkbox'><label for='data-42bb54bc-ca57-4831-98e1-02478898d54f' title='Show/Hide data repr'><svg class='icon xr-icon-database'><use xlink:href='#icon-database'></use></svg></label><div class='xr-var-attrs'><dl class='xr-attrs'><dt><span>Class :</span></dt><dd>DATA</dd><dt><span>grid_mapping :</span></dt><dd>crs</dd><dt><span>long_name :</span></dt><dd>Quality Flag with T=100</dd><dt><span>units :</span></dt><dd>%</dd><dt><span>valid_range :</span></dt><dd>[  0 200]</dd></dl></div><div class='xr-var-data'><pre>[6480000 values with dtype=float32]</pre></div></li><li class='xr-var-item'><div class='xr-var-name'><span>QFLAG_020</span></div><div class='xr-var-dims'>(time, lat, lon)</div><div class='xr-var-dtype'>float32</div><div class='xr-var-preview xr-preview'>...</div><input id='attrs-3aeae4a2-a8d3-47e0-a1e0-d21a493845a3' class='xr-var-attrs-in' type='checkbox' ><label for='attrs-3aeae4a2-a8d3-47e0-a1e0-d21a493845a3' title='Show/Hide attributes'><svg class='icon xr-icon-file-text2'><use xlink:href='#icon-file-text2'></use></svg></label><input id='data-82006b12-c3ff-44d7-9c17-7bef5bd8210a' class='xr-var-data-in' type='checkbox'><label for='data-82006b12-c3ff-44d7-9c17-7bef5bd8210a' title='Show/Hide data repr'><svg class='icon xr-icon-database'><use xlink:href='#icon-database'></use></svg></label><div class='xr-var-attrs'><dl class='xr-attrs'><dt><span>Class :</span></dt><dd>DATA</dd><dt><span>grid_mapping :</span></dt><dd>crs</dd><dt><span>long_name :</span></dt><dd>Quality Flag with T=20</dd><dt><span>units :</span></dt><dd>%</dd><dt><span>valid_range :</span></dt><dd>[  0 200]</dd></dl></div><div class='xr-var-data'><pre>[6480000 values with dtype=float32]</pre></div></li><li class='xr-var-item'><div class='xr-var-name'><span>QFLAG_005</span></div><div class='xr-var-dims'>(time, lat, lon)</div><div class='xr-var-dtype'>float32</div><div class='xr-var-preview xr-preview'>...</div><input id='attrs-2a1ce6ee-089d-4ad7-82ce-fee9d284997b' class='xr-var-attrs-in' type='checkbox' ><label for='attrs-2a1ce6ee-089d-4ad7-82ce-fee9d284997b' title='Show/Hide attributes'><svg class='icon xr-icon-file-text2'><use xlink:href='#icon-file-text2'></use></svg></label><input id='data-86c7b8ea-8f9c-4f6c-b76c-46f727cfceb9' class='xr-var-data-in' type='checkbox'><label for='data-86c7b8ea-8f9c-4f6c-b76c-46f727cfceb9' title='Show/Hide data repr'><svg class='icon xr-icon-database'><use xlink:href='#icon-database'></use></svg></label><div class='xr-var-attrs'><dl class='xr-attrs'><dt><span>Class :</span></dt><dd>DATA</dd><dt><span>grid_mapping :</span></dt><dd>crs</dd><dt><span>long_name :</span></dt><dd>Quality Flag with T=5</dd><dt><span>units :</span></dt><dd>%</dd><dt><span>valid_range :</span></dt><dd>[  0 200]</dd></dl></div><div class='xr-var-data'><pre>[6480000 values with dtype=float32]</pre></div></li><li class='xr-var-item'><div class='xr-var-name'><span>QFLAG_001</span></div><div class='xr-var-dims'>(time, lat, lon)</div><div class='xr-var-dtype'>float32</div><div class='xr-var-preview xr-preview'>...</div><input id='attrs-05b88c35-014e-44c2-80f0-3173dad47f63' class='xr-var-attrs-in' type='checkbox' ><label for='attrs-05b88c35-014e-44c2-80f0-3173dad47f63' title='Show/Hide attributes'><svg class='icon xr-icon-file-text2'><use xlink:href='#icon-file-text2'></use></svg></label><input id='data-016c8013-50dc-4315-b9e6-165ce02ee28c' class='xr-var-data-in' type='checkbox'><label for='data-016c8013-50dc-4315-b9e6-165ce02ee28c' title='Show/Hide data repr'><svg class='icon xr-icon-database'><use xlink:href='#icon-database'></use></svg></label><div class='xr-var-attrs'><dl class='xr-attrs'><dt><span>Class :</span></dt><dd>DATA</dd><dt><span>grid_mapping :</span></dt><dd>crs</dd><dt><span>long_name :</span></dt><dd>Quality Flag with T=1</dd><dt><span>units :</span></dt><dd>%</dd><dt><span>valid_range :</span></dt><dd>[  0 200]</dd></dl></div><div class='xr-var-data'><pre>[6480000 values with dtype=float32]</pre></div></li><li class='xr-var-item'><div class='xr-var-name'><span>QFLAG_060</span></div><div class='xr-var-dims'>(time, lat, lon)</div><div class='xr-var-dtype'>float32</div><div class='xr-var-preview xr-preview'>...</div><input id='attrs-31624e2d-9cb5-4310-9148-80510338b7bb' class='xr-var-attrs-in' type='checkbox' ><label for='attrs-31624e2d-9cb5-4310-9148-80510338b7bb' title='Show/Hide attributes'><svg class='icon xr-icon-file-text2'><use xlink:href='#icon-file-text2'></use></svg></label><input id='data-6b2096db-f037-43dc-a555-0d0e8a0430f1' class='xr-var-data-in' type='checkbox'><label for='data-6b2096db-f037-43dc-a555-0d0e8a0430f1' title='Show/Hide data repr'><svg class='icon xr-icon-database'><use xlink:href='#icon-database'></use></svg></label><div class='xr-var-attrs'><dl class='xr-attrs'><dt><span>Class :</span></dt><dd>DATA</dd><dt><span>grid_mapping :</span></dt><dd>crs</dd><dt><span>long_name :</span></dt><dd>Quality Flag with T=60</dd><dt><span>units :</span></dt><dd>%</dd><dt><span>valid_range :</span></dt><dd>[  0 200]</dd></dl></div><div class='xr-var-data'><pre>[6480000 values with dtype=float32]</pre></div></li><li class='xr-var-item'><div class='xr-var-name'><span>SSF</span></div><div class='xr-var-dims'>(time, lat, lon)</div><div class='xr-var-dtype'>float32</div><div class='xr-var-preview xr-preview'>...</div><input id='attrs-03ed0029-7e48-4682-9008-b2c5736f55b2' class='xr-var-attrs-in' type='checkbox' ><label for='attrs-03ed0029-7e48-4682-9008-b2c5736f55b2' title='Show/Hide attributes'><svg class='icon xr-icon-file-text2'><use xlink:href='#icon-file-text2'></use></svg></label><input id='data-e6eba187-e4c3-4b98-8814-7f0e6d758c7f' class='xr-var-data-in' type='checkbox'><label for='data-e6eba187-e4c3-4b98-8814-7f0e6d758c7f' title='Show/Hide data repr'><svg class='icon xr-icon-database'><use xlink:href='#icon-database'></use></svg></label><div class='xr-var-attrs'><dl class='xr-attrs'><dt><span>Class :</span></dt><dd>DATA</dd><dt><span>flag_meanings :</span></dt><dd>Unknown Unfrozen Frozen Melting_or_Surface_Water Missing</dd><dt><span>flag_values :</span></dt><dd>[  0   1   2   3 255]</dd><dt><span>grid_mapping :</span></dt><dd>crs</dd><dt><span>long_name :</span></dt><dd>Surface State Flag</dd><dt><span>valid_range :</span></dt><dd>[0 4]</dd></dl></div><div class='xr-var-data'><pre>[6480000 values with dtype=float32]</pre></div></li></ul></div></li><li class='xr-section-item'><input id='section-8e76f210-6054-4de2-95e1-8405d2de9749' class='xr-section-summary-in' type='checkbox'  ><label for='section-8e76f210-6054-4de2-95e1-8405d2de9749' class='xr-section-summary' >Indexes: <span>(3)</span></label><div class='xr-section-inline-details'></div><div class='xr-section-details'><ul class='xr-var-list'><li class='xr-var-item'><div class='xr-index-name'><div>lat</div></div><div class='xr-index-preview'>PandasIndex</div><div></div><input id='index-b2c1ae09-623e-476a-b25f-a97a674d76dc' class='xr-index-data-in' type='checkbox'/><label for='index-b2c1ae09-623e-476a-b25f-a97a674d76dc' title='Show/Hide index repr'><svg class='icon xr-icon-database'><use xlink:href='#icon-database'></use></svg></label><div class='xr-index-data'><pre>PandasIndex(Index([ 89.94999999998977,  89.84999999998978,  89.74999999998978,\n",
       "        89.64999999998979,   89.5499999999898,   89.4499999999898,\n",
       "         89.3499999999898,  89.24999999998981,  89.14999999998982,\n",
       "        89.04999999998982,\n",
       "       ...\n",
       "       -89.05000000000005, -89.15000000000005, -89.25000000000004,\n",
       "       -89.35000000000004, -89.45000000000003, -89.55000000000003,\n",
       "       -89.65000000000002, -89.75000000000001, -89.85000000000001,\n",
       "                   -89.95],\n",
       "      dtype=&#x27;float64&#x27;, name=&#x27;lat&#x27;, length=1800))</pre></div></li><li class='xr-var-item'><div class='xr-index-name'><div>lon</div></div><div class='xr-index-preview'>PandasIndex</div><div></div><input id='index-54f476df-eb03-449f-984a-bfb89856a158' class='xr-index-data-in' type='checkbox'/><label for='index-54f476df-eb03-449f-984a-bfb89856a158' title='Show/Hide index repr'><svg class='icon xr-icon-database'><use xlink:href='#icon-database'></use></svg></label><div class='xr-index-data'><pre>PandasIndex(Index([            -179.95,             -179.85,             -179.75,\n",
       "                   -179.65,             -179.55, -179.45000000000002,\n",
       "       -179.35000000000002, -179.25000000000003, -179.15000000000003,\n",
       "       -179.05000000000004,\n",
       "       ...\n",
       "         179.0499999999796,  179.14999999997957,   179.2499999999796,\n",
       "        179.34999999997962,  179.44999999997958,  179.54999999997955,\n",
       "        179.64999999997957,   179.7499999999796,  179.84999999997956,\n",
       "        179.94999999997953],\n",
       "      dtype=&#x27;float64&#x27;, name=&#x27;lon&#x27;, length=3600))</pre></div></li><li class='xr-var-item'><div class='xr-index-name'><div>time</div></div><div class='xr-index-preview'>PandasIndex</div><div></div><input id='index-30445700-8774-40ae-b32c-55038bbc236a' class='xr-index-data-in' type='checkbox'/><label for='index-30445700-8774-40ae-b32c-55038bbc236a' title='Show/Hide index repr'><svg class='icon xr-icon-database'><use xlink:href='#icon-database'></use></svg></label><div class='xr-index-data'><pre>PandasIndex(DatetimeIndex([&#x27;2023-06-01 12:00:00&#x27;], dtype=&#x27;datetime64[ns]&#x27;, name=&#x27;time&#x27;, freq=None))</pre></div></li></ul></div></li><li class='xr-section-item'><input id='section-0d0913b5-b625-47b7-83de-7a4f6f333aa6' class='xr-section-summary-in' type='checkbox'  ><label for='section-0d0913b5-b625-47b7-83de-7a4f6f333aa6' class='xr-section-summary' >Attributes: <span>(25)</span></label><div class='xr-section-inline-details'></div><div class='xr-section-details'><dl class='xr-attrs'><dt><span>Conventions :</span></dt><dd>CF-1.6</dd><dt><span>archive_facility :</span></dt><dd>VITO</dd><dt><span>copyright :</span></dt><dd>Copernicus Service information 2023</dd><dt><span>geospatial_lat_max :</span></dt><dd>89.95</dd><dt><span>geospatial_lat_min :</span></dt><dd>-89.95</dd><dt><span>geospatial_lon_max :</span></dt><dd>179.95</dd><dt><span>geospatial_lon_min :</span></dt><dd>-179.95</dd><dt><span>history :</span></dt><dd>2023-06-01 -- SWI NRT Production</dd><dt><span>identifier :</span></dt><dd>urn:cgls:global:swi_v3_0.1degree:SWI_202306011200_GLOBE_ASCAT_V3.2.1</dd><dt><span>institution :</span></dt><dd>TU Wien</dd><dt><span>long_name :</span></dt><dd>Soil Water Index</dd><dt><span>orbit_type :</span></dt><dd>LEO</dd><dt><span>parent_identifier :</span></dt><dd>urn:cgls:global:swi_v3_0.1degree</dd><dt><span>pixel_size :</span></dt><dd>0.1 degrees</dd><dt><span>platform :</span></dt><dd>METOP B+C</dd><dt><span>processing_level :</span></dt><dd>L3</dd><dt><span>processing_mode :</span></dt><dd>NRT Production</dd><dt><span>product_version :</span></dt><dd>V3.1.2</dd><dt><span>references :</span></dt><dd>https://land.copernicus.eu/global/products/swi</dd><dt><span>region_name :</span></dt><dd>GLOBE</dd><dt><span>sensor :</span></dt><dd>ASCAT</dd><dt><span>source :</span></dt><dd>Derived from EO microwave scatterometer observations</dd><dt><span>time_coverage_end :</span></dt><dd>2023-06-01T12:00:00Z</dd><dt><span>time_coverage_start :</span></dt><dd>2023-05-31T12:00:00Z</dd><dt><span>title :</span></dt><dd>Daily Soil Water Index 0.1degree: GLOBE 2023-06-01T12:00:00Z</dd></dl></div></li></ul></div></div>"
      ],
      "text/plain": [
       "<xarray.Dataset> Size: 441MB\n",
       "Dimensions:    (lat: 1800, lon: 3600, time: 1)\n",
       "Coordinates:\n",
       "  * lat        (lat) float64 14kB 89.95 89.85 89.75 ... -89.75 -89.85 -89.95\n",
       "  * lon        (lon) float64 29kB -179.9 -179.8 -179.8 ... 179.7 179.8 179.9\n",
       "  * time       (time) datetime64[ns] 8B 2023-06-01T12:00:00\n",
       "Data variables: (12/18)\n",
       "    crs        |S1 1B ...\n",
       "    SWI_005    (time, lat, lon) float32 26MB ...\n",
       "    SWI_010    (time, lat, lon) float32 26MB ...\n",
       "    SWI_001    (time, lat, lon) float32 26MB ...\n",
       "    SWI_015    (time, lat, lon) float32 26MB ...\n",
       "    SWI_100    (time, lat, lon) float32 26MB ...\n",
       "    ...         ...\n",
       "    QFLAG_100  (time, lat, lon) float32 26MB ...\n",
       "    QFLAG_020  (time, lat, lon) float32 26MB ...\n",
       "    QFLAG_005  (time, lat, lon) float32 26MB ...\n",
       "    QFLAG_001  (time, lat, lon) float32 26MB ...\n",
       "    QFLAG_060  (time, lat, lon) float32 26MB ...\n",
       "    SSF        (time, lat, lon) float32 26MB ...\n",
       "Attributes: (12/25)\n",
       "    Conventions:          CF-1.6\n",
       "    archive_facility:     VITO\n",
       "    copyright:            Copernicus Service information 2023\n",
       "    geospatial_lat_max:   89.95\n",
       "    geospatial_lat_min:   -89.95\n",
       "    geospatial_lon_max:   179.95\n",
       "    ...                   ...\n",
       "    region_name:          GLOBE\n",
       "    sensor:               ASCAT\n",
       "    source:               Derived from EO microwave scatterometer observations\n",
       "    time_coverage_end:    2023-06-01T12:00:00Z\n",
       "    time_coverage_start:  2023-05-31T12:00:00Z\n",
       "    title:                Daily Soil Water Index 0.1degree: GLOBE 2023-06-01T..."
      ]
     },
     "metadata": {},
     "output_type": "display_data"
    }
   ],
   "source": [
    "with xar.open_dataset(files[0]) as ncfile:\n",
    "    display(ncfile)"
   ]
  },
  {
   "cell_type": "markdown",
   "id": "762edb4a-b8a5-409b-b93a-19eb866c61fd",
   "metadata": {},
   "source": [
    "## Setup functions to load data"
   ]
  },
  {
   "cell_type": "markdown",
   "id": "13403591-37aa-4ed6-a148-7dc901c4ac70",
   "metadata": {},
   "source": [
    "Define a function to load a timeseries based on a given (flat) index.\n",
    "\n",
    "We will use this function in a [**custom callback**][callbacks] to extract timeseries if we click on the map.\n",
    "\n",
    "[callbacks]: https://eomaps.readthedocs.io/en/latest/api_callbacks.html#custom-callbacks"
   ]
  },
  {
   "cell_type": "code",
   "execution_count": 5,
   "id": "7c61a6ce-d12b-4db4-a5d1-e7d7d4f7e977",
   "metadata": {},
   "outputs": [],
   "source": [
    "@lru_cache\n",
    "def get_ts(ind, parameter):\n",
    "    data = {}\n",
    "    for filepath in files:\n",
    "        with xar.open_dataset(filepath) as ncfile:\n",
    "            data[ncfile.time.values[0]] = ncfile[parameter].item(ind)\n",
    "            \n",
    "    return pd.DataFrame.from_dict(data, orient=\"index\", columns=[parameter])"
   ]
  },
  {
   "cell_type": "code",
   "execution_count": 6,
   "id": "ddc146d2-84ac-4ea7-977d-fa0c3a338ab2",
   "metadata": {},
   "outputs": [
    {
     "data": {
      "text/html": [
       "<div>\n",
       "<style scoped>\n",
       "    .dataframe tbody tr th:only-of-type {\n",
       "        vertical-align: middle;\n",
       "    }\n",
       "\n",
       "    .dataframe tbody tr th {\n",
       "        vertical-align: top;\n",
       "    }\n",
       "\n",
       "    .dataframe thead th {\n",
       "        text-align: right;\n",
       "    }\n",
       "</style>\n",
       "<table border=\"1\" class=\"dataframe\">\n",
       "  <thead>\n",
       "    <tr style=\"text-align: right;\">\n",
       "      <th></th>\n",
       "      <th>SWI_010</th>\n",
       "    </tr>\n",
       "  </thead>\n",
       "  <tbody>\n",
       "    <tr>\n",
       "      <th>2023-06-01 12:00:00</th>\n",
       "      <td>54.5</td>\n",
       "    </tr>\n",
       "    <tr>\n",
       "      <th>2023-06-02 12:00:00</th>\n",
       "      <td>55.0</td>\n",
       "    </tr>\n",
       "    <tr>\n",
       "      <th>2023-06-03 12:00:00</th>\n",
       "      <td>55.0</td>\n",
       "    </tr>\n",
       "    <tr>\n",
       "      <th>2023-06-04 12:00:00</th>\n",
       "      <td>57.0</td>\n",
       "    </tr>\n",
       "    <tr>\n",
       "      <th>2023-06-05 12:00:00</th>\n",
       "      <td>57.0</td>\n",
       "    </tr>\n",
       "  </tbody>\n",
       "</table>\n",
       "</div>"
      ],
      "text/plain": [
       "                     SWI_010\n",
       "2023-06-01 12:00:00     54.5\n",
       "2023-06-02 12:00:00     55.0\n",
       "2023-06-03 12:00:00     55.0\n",
       "2023-06-04 12:00:00     57.0\n",
       "2023-06-05 12:00:00     57.0"
      ]
     },
     "execution_count": 6,
     "metadata": {},
     "output_type": "execute_result"
    }
   ],
   "source": [
    "df = get_ts(1618422, \"SWI_010\")\n",
    "df.head()"
   ]
  },
  {
   "cell_type": "markdown",
   "id": "a5ce832d-4948-4b28-9a43-e9597050db37",
   "metadata": {},
   "source": [
    "Create a [**custom callback**][callbacks] to plot the timeseries.\n",
    "\n",
    "The general call-signature for callbacks is:\n",
    "\n",
    "```python\n",
    "def some_callback(ID, pos, val, ind, **custom_kwargs):\n",
    "    # ID:   The ID of the clicked pixel (if available else same as \"ind\")\n",
    "    # pos:  The position (x, y) of the clicked pixel (in plot crs)\n",
    "    # val:  The value of the clicked pixel\n",
    "    # ind:  The numerical index of the pixel in the flattened data array\n",
    "```\n",
    "\n",
    "[callbacks]: https://eomaps.readthedocs.io/en/latest/api_callbacks.html#custom-callbacks"
   ]
  },
  {
   "cell_type": "code",
   "execution_count": 7,
   "id": "b36b4ae5-1e9f-48cc-8db8-c17fa5437ca8",
   "metadata": {},
   "outputs": [],
   "source": [
    "def print_ts(ind, val, m, ax, parameter, time, **kwargs):\n",
    "    df = get_ts(ind, parameter=parameter)             # load the timeseries\n",
    "    a, = ax.plot(df, c=\"k\")                          # plot the timeseries\n",
    "    marker, = ax.plot(time, val, marker=\"o\", c=\"r\")  # add a marker to indicate the current day\n",
    "    \n",
    "    m.cb.pick.add_temporary_artist(a)                # remove the timeseries on next pick\n",
    "    m.cb.pick.add_temporary_artist(marker)           # remote the marker on next pick\n",
    "    m.redraw()                                       # redraw the figure (optional, only here to avoid glitches in Jupyter Notebooks) "
   ]
  },
  {
   "cell_type": "markdown",
   "id": "61f1aab2-cb0b-4506-9086-b48820768c5b",
   "metadata": {},
   "source": [
    "Define a function to [**lazily add data layers**][on_layer_activation] to a map\n",
    "\n",
    "The general call-signature for a layer-activation callback is:\n",
    "\n",
    "```python\n",
    "def some_callback(m, **custom_kwargs):\n",
    "    # m:   The Maps object of the layer\n",
    "```\n",
    "\n",
    "[on_layer_activation]: https://eomaps.readthedocs.io/en/latest/generated/eomaps.eomaps.Maps.on_layer_activation.html#eomaps.eomaps.Maps.on_layer_activation"
   ]
  },
  {
   "cell_type": "code",
   "execution_count": 8,
   "id": "72d0054a-948e-44d5-a79b-9426c8eaad4a",
   "metadata": {},
   "outputs": [],
   "source": [
    "# a function that will be executed if the layer becomes visible\n",
    "def on_layer(m, ax, filepath, parameter):\n",
    "    with xar.open_dataset(filepath) as ncfile:\n",
    "        data = ncfile.isel(time=0)[parameter]\n",
    "        \n",
    "        m.set_data(data, \"lon\", \"lat\", parameter=parameter, crs=ncfile.crs.spatial_ref)\n",
    "        m.set_shape.shade_raster()\n",
    "        m.plot_map(set_extent=False)\n",
    "        \n",
    "    m.cb.pick.set_execute_on_all_layers(True)                                      # execute callbacks irrespective of the visible layer\n",
    "    m.cb.pick.attach.annotate()                                                    # add a basic annotation on pick\n",
    "    m.cb.pick.attach(print_ts, m=m, ax=ax, parameter=parameter, time=ncfile.time)  # run the custom callback on pick"
   ]
  },
  {
   "cell_type": "markdown",
   "id": "89276042-386f-4025-b32a-db79760a0af2",
   "metadata": {},
   "source": [
    "## Visualize the data"
   ]
  },
  {
   "cell_type": "code",
   "execution_count": 9,
   "id": "b75f048d-e925-4aa1-91d6-8a0344e62b70",
   "metadata": {},
   "outputs": [],
   "source": [
    "m = Maps(layer=\"all\")\n",
    "m.add_feature.preset(\"ocean\", \"land\")\n",
    "m.set_extent((-0.6416666666666515, 30.15833333333336, 32.25, 50.85833333333335))"
   ]
  },
  {
   "cell_type": "markdown",
   "id": "9a23d327-a4fb-4d45-a7f6-c19d28556059",
   "metadata": {},
   "source": [
    "Since we want to plot timeseries as well, we add an ordinary [matplotlib][mpl] axes to the plot.\n",
    "\n",
    "[mpl]: https://matplotlib.org/"
   ]
  },
  {
   "cell_type": "code",
   "execution_count": 10,
   "id": "23f9092b-21a7-4513-b95f-cfe594948c1b",
   "metadata": {},
   "outputs": [],
   "source": [
    "ax = m.f.add_subplot(211)\n",
    "ax.xaxis.set_major_formatter(ConciseDateFormatter(ax.xaxis.get_major_locator()))"
   ]
  },
  {
   "cell_type": "markdown",
   "id": "fe314a73-65b5-4039-a6b6-a34631fde8c7",
   "metadata": {},
   "source": [
    "Re-position the axes with respect to a given layout.\n",
    "- Make sure to checkout the [**LaouytEditor**][layouteditor] (you can activate it by pressing `alt  + L`)!\n",
    "\n",
    "[layouteditor]: https://eomaps.readthedocs.io/en/latest/api_layout_editor.html"
   ]
  },
  {
   "cell_type": "code",
   "execution_count": 11,
   "id": "703af44c-79ea-47b1-b88b-47ba480e0940",
   "metadata": {},
   "outputs": [],
   "source": [
    "layout = {\n",
    "    \"figsize\": [6.4, 4.8],\n",
    "    \"0_map\": [0.10129, 0.35, 0.78621, 0.63333],\n",
    "    \"1_\": [0.075, 0.08333, 0.8625, 0.25],\n",
    "}\n",
    "m.apply_layout(layout)"
   ]
  },
  {
   "cell_type": "markdown",
   "id": "0ebb720b-c751-4a8c-b573-fe36ce371644",
   "metadata": {},
   "source": [
    "**Lazily** add all availalble datasets to the map"
   ]
  },
  {
   "cell_type": "code",
   "execution_count": 12,
   "id": "7daa590f-419f-4656-9028-42d1b4579f32",
   "metadata": {},
   "outputs": [],
   "source": [
    "for filepath in files:\n",
    "    m.on_layer_activation(on_layer, layer=filepath.stem, ax=ax, filepath=filepath, parameter=\"SWI_001\")"
   ]
  },
  {
   "cell_type": "markdown",
   "id": "21c3175c-ebfc-42bf-97fe-90fb0281016b",
   "metadata": {},
   "source": [
    "Show the first layer"
   ]
  },
  {
   "cell_type": "code",
   "execution_count": 13,
   "id": "4a73936b-66ac-41a3-bc27-89dc7bbec458",
   "metadata": {},
   "outputs": [],
   "source": [
    "m.show_layer(files[0].stem)\n",
    "m.show()"
   ]
  },
  {
   "cell_type": "markdown",
   "id": "382162d6-1836-4ac0-aa34-0d1021cd164e",
   "metadata": {},
   "source": [
    "Get a slider to switch layers"
   ]
  },
  {
   "cell_type": "code",
   "execution_count": 14,
   "id": "d8cf4f99-d740-45d1-9ddd-b85c3f6d52e8",
   "metadata": {},
   "outputs": [
    {
     "data": {
      "application/vnd.jupyter.widget-view+json": {
       "model_id": "7e9bfb1bad6b46249330064c57daa32a",
       "version_major": 2,
       "version_minor": 0
      },
      "text/plain": [
       "LayerSelectionSlider(description='Layers', layout=Layout(width='500px'), options=(('c_gls_SWI_202306011200_GLO…"
      ]
     },
     "execution_count": 14,
     "metadata": {},
     "output_type": "execute_result"
    }
   ],
   "source": [
    "widgets.LayerSelectionSlider(m, layers=[i.stem for i in files], layout=dict(width='500px'))"
   ]
  },
  {
   "cell_type": "code",
   "execution_count": 15,
   "id": "38b21672-1123-4575-92dc-041aebec8c59",
   "metadata": {},
   "outputs": [],
   "source": [
    "m.fetch_layers()"
   ]
  },
  {
   "cell_type": "markdown",
   "id": "0f71d780-99f8-4a0a-95ba-a6f972dfb5cb",
   "metadata": {
    "editable": true,
    "slideshow": {
     "slide_type": ""
    },
    "tags": []
   },
   "source": [
    "# [$\\Rightarrow$ Irregularly sampled data](<04 Irregularly Sampled Data.ipynb>)"
   ]
  }
 ],
 "metadata": {
  "kernelspec": {
   "display_name": "Python 3 (ipykernel)",
   "language": "python",
   "name": "python3"
  },
  "language_info": {
   "codemirror_mode": {
    "name": "ipython",
    "version": 3
   },
   "file_extension": ".py",
   "mimetype": "text/x-python",
   "name": "python",
   "nbconvert_exporter": "python",
   "pygments_lexer": "ipython3",
   "version": "3.11.4"
  },
  "widgets": {
   "application/vnd.jupyter.widget-state+json": {
    "state": {
     "64f376807d32450799e53308f4f1892f": {
      "model_module": "@jupyter-widgets/base",
      "model_module_version": "2.0.0",
      "model_name": "LayoutModel",
      "state": {
       "width": "500px"
      }
     },
     "7e9bfb1bad6b46249330064c57daa32a": {
      "model_module": "@jupyter-widgets/controls",
      "model_module_version": "2.0.0",
      "model_name": "SelectionSliderModel",
      "state": {
       "_options_labels": [
        "c_gls_SWI_202306011200_GLOBE_ASCAT_V3.2.1",
        "c_gls_SWI_202306021200_GLOBE_ASCAT_V3.2.1",
        "c_gls_SWI_202306031200_GLOBE_ASCAT_V3.2.1",
        "c_gls_SWI_202306041200_GLOBE_ASCAT_V3.2.1",
        "c_gls_SWI_202306051200_GLOBE_ASCAT_V3.2.1",
        "c_gls_SWI_202306061200_GLOBE_ASCAT_V3.2.1",
        "c_gls_SWI_202306071200_GLOBE_ASCAT_V3.2.1",
        "c_gls_SWI_202306081200_GLOBE_ASCAT_V3.2.1",
        "c_gls_SWI_202306091200_GLOBE_ASCAT_V3.2.1",
        "c_gls_SWI_202306101200_GLOBE_ASCAT_V3.2.1",
        "c_gls_SWI_202306111200_GLOBE_ASCAT_V3.2.1",
        "c_gls_SWI_202306121200_GLOBE_ASCAT_V3.2.1",
        "c_gls_SWI_202306131200_GLOBE_ASCAT_V3.2.1",
        "c_gls_SWI_202306141200_GLOBE_ASCAT_V3.2.1",
        "c_gls_SWI_202306151200_GLOBE_ASCAT_V3.2.1",
        "c_gls_SWI_202306161200_GLOBE_ASCAT_V3.2.1",
        "c_gls_SWI_202306171200_GLOBE_ASCAT_V3.2.1",
        "c_gls_SWI_202306181200_GLOBE_ASCAT_V3.2.1",
        "c_gls_SWI_202306191200_GLOBE_ASCAT_V3.2.1",
        "c_gls_SWI_202306201200_GLOBE_ASCAT_V3.2.1",
        "c_gls_SWI_202306211200_GLOBE_ASCAT_V3.2.1",
        "c_gls_SWI_202306221200_GLOBE_ASCAT_V3.2.1",
        "c_gls_SWI_202306231200_GLOBE_ASCAT_V3.2.1",
        "c_gls_SWI_202306241200_GLOBE_ASCAT_V3.2.1",
        "c_gls_SWI_202306251200_GLOBE_ASCAT_V3.2.1",
        "c_gls_SWI_202306261200_GLOBE_ASCAT_V3.2.1",
        "c_gls_SWI_202306271200_GLOBE_ASCAT_V3.2.1",
        "c_gls_SWI_202306281200_GLOBE_ASCAT_V3.2.1",
        "c_gls_SWI_202306291200_GLOBE_ASCAT_V3.2.1",
        "c_gls_SWI_202306301200_GLOBE_ASCAT_V3.2.1"
       ],
       "behavior": "drag-tap",
       "description": "Layers",
       "index": 0,
       "layout": "IPY_MODEL_64f376807d32450799e53308f4f1892f",
       "style": "IPY_MODEL_f56e4818de9644b790221097760a6c49"
      }
     },
     "f56e4818de9644b790221097760a6c49": {
      "model_module": "@jupyter-widgets/controls",
      "model_module_version": "2.0.0",
      "model_name": "SliderStyleModel",
      "state": {
       "description_width": ""
      }
     }
    },
    "version_major": 2,
    "version_minor": 0
   }
  }
 },
 "nbformat": 4,
 "nbformat_minor": 5
}
