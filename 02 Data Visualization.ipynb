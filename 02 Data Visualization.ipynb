{
 "cells": [
  {
   "cell_type": "markdown",
   "id": "75d349aa-9ec0-4ab9-b3aa-beb98ea01213",
   "metadata": {
    "editable": true,
    "slideshow": {
     "slide_type": ""
    },
    "tags": []
   },
   "source": [
    "# EOmaps Workshop GeoPython 2024\n",
    "<font size=3>Interactive geo-data analysis with EOmaps and the scientific python infrastructure.</font>"
   ]
  },
  {
   "attachments": {},
   "cell_type": "markdown",
   "id": "69af2a30-07e5-4ba6-b4c6-467844d825df",
   "metadata": {
    "editable": true,
    "slideshow": {
     "slide_type": ""
    },
    "tags": []
   },
   "source": [
    "# Data Visualization\n",
    "\n",
    "EOmaps can be used to visualize both gridded (raster) data or unsorted lists of coordinates and values.  \n",
    "It provides means to render small datasets as well as millions of datapoints.\n",
    "\n",
    "A detailed overview on how to visualize datasets is provided in the [**Data Visualization**][docs] section of the EOmaps documentation\n",
    "\n",
    "<div style=\"display: inline-block\">\n",
    "\n",
    "| Steps to visualize data |  |  |\n",
    "| ----------------------- | ---- | ---- |\n",
    "| **1.** [Assign the data to a `Maps` object (`m`)][assign] |  | `m.set_data(...)` |\n",
    "| **2.** [(**optionally**) set the plot-shape][shape] |  | `m.set_shape.< shape >(...)` |\n",
    "| **3.** [(**optionally**) classify the data][classify] |  | `m.set_classify.< method >(...)` |\n",
    "| **4.** [Plot the data][plot] |  | `m.plot_map(...)` |\n",
    "\n",
    "</div>\n",
    "\n",
    "\n",
    "There are many shapes suitable for all kinds of datasets and applications!  \n",
    "\n",
    "[<img src=\"shapes.png\" width=\"40%\"/>][shape]\n",
    "\n",
    "\n",
    "[Maps]: https://eomaps.readthedocs.io/en/latest/generated/eomaps.eomaps.Maps.html\n",
    "[docs]: https://eomaps.readthedocs.io/en/latest/api_data_visualization.html\n",
    "\n",
    "[assign]: https://eomaps.readthedocs.io/en/latest/api_data_visualization.html#assign-the-data\n",
    "[shape]: https://eomaps.readthedocs.io/en/latest/api_data_visualization.html#plot-shapes\n",
    "[classify]: https://eomaps.readthedocs.io/en/latest/api_data_visualization.html#classify-the-data\n",
    "[plot]: https://eomaps.readthedocs.io/en/latest/api_data_visualization.html#plot-the-data"
   ]
  },
  {
   "cell_type": "markdown",
   "id": "28e431f9-59ab-4ee2-9942-d7de0b4493d5",
   "metadata": {},
   "source": [
    "## **Example 1:** Working with gridded data"
   ]
  },
  {
   "cell_type": "markdown",
   "id": "61c95551-2025-4a3f-a86b-d0bdd0a7f2e9",
   "metadata": {},
   "source": [
    "In the following we will have a look at how we can visualize some [**Copernicus Soil Water Index**][swi] data!\n",
    "\n",
    "> [**xarray**][xarray] provides the means to read (and write) most commonly used (raster) data formats\n",
    "> - NetCDF\n",
    "> - HDF5\n",
    "> - Zarr\n",
    "> - GeoTIFF (with [rioxarray][rioxarray] extension)\n",
    "> - ...  \n",
    "\n",
    "[xarray]: https://docs.xarray.dev/en/stable/index.html\n",
    "[rioxarray]: https://github.com/corteva/rioxarray\n",
    "[swi]: https://land.copernicus.eu/en/products/soil-moisture/daily-soil-water-index-global-v3-0-12-5km\n"
   ]
  },
  {
   "cell_type": "code",
   "execution_count": 45,
   "id": "e0be887a-d38a-4620-bdbe-b6fe12caefc4",
   "metadata": {},
   "outputs": [],
   "source": [
    "%matplotlib qt\n",
    "\n",
    "from pathlib import Path\n",
    "import xarray as xar\n",
    "\n",
    "from eomaps import Maps\n",
    "Maps.config(always_on_top=True)      # keep figures \"always on top\""
   ]
  },
  {
   "cell_type": "markdown",
   "id": "cc325cb0-4058-4433-b76b-aebd9c54532e",
   "metadata": {},
   "source": [
    "Open one of the NetCDF files:"
   ]
  },
  {
   "cell_type": "code",
   "execution_count": 46,
   "id": "a898b835-1b0a-430b-94b2-852fea451780",
   "metadata": {},
   "outputs": [
    {
     "data": {
      "text/html": [
       "<div><svg style=\"position: absolute; width: 0; height: 0; overflow: hidden\">\n",
       "<defs>\n",
       "<symbol id=\"icon-database\" viewBox=\"0 0 32 32\">\n",
       "<path d=\"M16 0c-8.837 0-16 2.239-16 5v4c0 2.761 7.163 5 16 5s16-2.239 16-5v-4c0-2.761-7.163-5-16-5z\"></path>\n",
       "<path d=\"M16 17c-8.837 0-16-2.239-16-5v6c0 2.761 7.163 5 16 5s16-2.239 16-5v-6c0 2.761-7.163 5-16 5z\"></path>\n",
       "<path d=\"M16 26c-8.837 0-16-2.239-16-5v6c0 2.761 7.163 5 16 5s16-2.239 16-5v-6c0 2.761-7.163 5-16 5z\"></path>\n",
       "</symbol>\n",
       "<symbol id=\"icon-file-text2\" viewBox=\"0 0 32 32\">\n",
       "<path d=\"M28.681 7.159c-0.694-0.947-1.662-2.053-2.724-3.116s-2.169-2.030-3.116-2.724c-1.612-1.182-2.393-1.319-2.841-1.319h-15.5c-1.378 0-2.5 1.121-2.5 2.5v27c0 1.378 1.122 2.5 2.5 2.5h23c1.378 0 2.5-1.122 2.5-2.5v-19.5c0-0.448-0.137-1.23-1.319-2.841zM24.543 5.457c0.959 0.959 1.712 1.825 2.268 2.543h-4.811v-4.811c0.718 0.556 1.584 1.309 2.543 2.268zM28 29.5c0 0.271-0.229 0.5-0.5 0.5h-23c-0.271 0-0.5-0.229-0.5-0.5v-27c0-0.271 0.229-0.5 0.5-0.5 0 0 15.499-0 15.5 0v7c0 0.552 0.448 1 1 1h7v19.5z\"></path>\n",
       "<path d=\"M23 26h-14c-0.552 0-1-0.448-1-1s0.448-1 1-1h14c0.552 0 1 0.448 1 1s-0.448 1-1 1z\"></path>\n",
       "<path d=\"M23 22h-14c-0.552 0-1-0.448-1-1s0.448-1 1-1h14c0.552 0 1 0.448 1 1s-0.448 1-1 1z\"></path>\n",
       "<path d=\"M23 18h-14c-0.552 0-1-0.448-1-1s0.448-1 1-1h14c0.552 0 1 0.448 1 1s-0.448 1-1 1z\"></path>\n",
       "</symbol>\n",
       "</defs>\n",
       "</svg>\n",
       "<style>/* CSS stylesheet for displaying xarray objects in jupyterlab.\n",
       " *\n",
       " */\n",
       "\n",
       ":root {\n",
       "  --xr-font-color0: var(--jp-content-font-color0, rgba(0, 0, 0, 1));\n",
       "  --xr-font-color2: var(--jp-content-font-color2, rgba(0, 0, 0, 0.54));\n",
       "  --xr-font-color3: var(--jp-content-font-color3, rgba(0, 0, 0, 0.38));\n",
       "  --xr-border-color: var(--jp-border-color2, #e0e0e0);\n",
       "  --xr-disabled-color: var(--jp-layout-color3, #bdbdbd);\n",
       "  --xr-background-color: var(--jp-layout-color0, white);\n",
       "  --xr-background-color-row-even: var(--jp-layout-color1, white);\n",
       "  --xr-background-color-row-odd: var(--jp-layout-color2, #eeeeee);\n",
       "}\n",
       "\n",
       "html[theme=dark],\n",
       "body[data-theme=dark],\n",
       "body.vscode-dark {\n",
       "  --xr-font-color0: rgba(255, 255, 255, 1);\n",
       "  --xr-font-color2: rgba(255, 255, 255, 0.54);\n",
       "  --xr-font-color3: rgba(255, 255, 255, 0.38);\n",
       "  --xr-border-color: #1F1F1F;\n",
       "  --xr-disabled-color: #515151;\n",
       "  --xr-background-color: #111111;\n",
       "  --xr-background-color-row-even: #111111;\n",
       "  --xr-background-color-row-odd: #313131;\n",
       "}\n",
       "\n",
       ".xr-wrap {\n",
       "  display: block !important;\n",
       "  min-width: 300px;\n",
       "  max-width: 700px;\n",
       "}\n",
       "\n",
       ".xr-text-repr-fallback {\n",
       "  /* fallback to plain text repr when CSS is not injected (untrusted notebook) */\n",
       "  display: none;\n",
       "}\n",
       "\n",
       ".xr-header {\n",
       "  padding-top: 6px;\n",
       "  padding-bottom: 6px;\n",
       "  margin-bottom: 4px;\n",
       "  border-bottom: solid 1px var(--xr-border-color);\n",
       "}\n",
       "\n",
       ".xr-header > div,\n",
       ".xr-header > ul {\n",
       "  display: inline;\n",
       "  margin-top: 0;\n",
       "  margin-bottom: 0;\n",
       "}\n",
       "\n",
       ".xr-obj-type,\n",
       ".xr-array-name {\n",
       "  margin-left: 2px;\n",
       "  margin-right: 10px;\n",
       "}\n",
       "\n",
       ".xr-obj-type {\n",
       "  color: var(--xr-font-color2);\n",
       "}\n",
       "\n",
       ".xr-sections {\n",
       "  padding-left: 0 !important;\n",
       "  display: grid;\n",
       "  grid-template-columns: 150px auto auto 1fr 20px 20px;\n",
       "}\n",
       "\n",
       ".xr-section-item {\n",
       "  display: contents;\n",
       "}\n",
       "\n",
       ".xr-section-item input {\n",
       "  display: none;\n",
       "}\n",
       "\n",
       ".xr-section-item input + label {\n",
       "  color: var(--xr-disabled-color);\n",
       "}\n",
       "\n",
       ".xr-section-item input:enabled + label {\n",
       "  cursor: pointer;\n",
       "  color: var(--xr-font-color2);\n",
       "}\n",
       "\n",
       ".xr-section-item input:enabled + label:hover {\n",
       "  color: var(--xr-font-color0);\n",
       "}\n",
       "\n",
       ".xr-section-summary {\n",
       "  grid-column: 1;\n",
       "  color: var(--xr-font-color2);\n",
       "  font-weight: 500;\n",
       "}\n",
       "\n",
       ".xr-section-summary > span {\n",
       "  display: inline-block;\n",
       "  padding-left: 0.5em;\n",
       "}\n",
       "\n",
       ".xr-section-summary-in:disabled + label {\n",
       "  color: var(--xr-font-color2);\n",
       "}\n",
       "\n",
       ".xr-section-summary-in + label:before {\n",
       "  display: inline-block;\n",
       "  content: '►';\n",
       "  font-size: 11px;\n",
       "  width: 15px;\n",
       "  text-align: center;\n",
       "}\n",
       "\n",
       ".xr-section-summary-in:disabled + label:before {\n",
       "  color: var(--xr-disabled-color);\n",
       "}\n",
       "\n",
       ".xr-section-summary-in:checked + label:before {\n",
       "  content: '▼';\n",
       "}\n",
       "\n",
       ".xr-section-summary-in:checked + label > span {\n",
       "  display: none;\n",
       "}\n",
       "\n",
       ".xr-section-summary,\n",
       ".xr-section-inline-details {\n",
       "  padding-top: 4px;\n",
       "  padding-bottom: 4px;\n",
       "}\n",
       "\n",
       ".xr-section-inline-details {\n",
       "  grid-column: 2 / -1;\n",
       "}\n",
       "\n",
       ".xr-section-details {\n",
       "  display: none;\n",
       "  grid-column: 1 / -1;\n",
       "  margin-bottom: 5px;\n",
       "}\n",
       "\n",
       ".xr-section-summary-in:checked ~ .xr-section-details {\n",
       "  display: contents;\n",
       "}\n",
       "\n",
       ".xr-array-wrap {\n",
       "  grid-column: 1 / -1;\n",
       "  display: grid;\n",
       "  grid-template-columns: 20px auto;\n",
       "}\n",
       "\n",
       ".xr-array-wrap > label {\n",
       "  grid-column: 1;\n",
       "  vertical-align: top;\n",
       "}\n",
       "\n",
       ".xr-preview {\n",
       "  color: var(--xr-font-color3);\n",
       "}\n",
       "\n",
       ".xr-array-preview,\n",
       ".xr-array-data {\n",
       "  padding: 0 5px !important;\n",
       "  grid-column: 2;\n",
       "}\n",
       "\n",
       ".xr-array-data,\n",
       ".xr-array-in:checked ~ .xr-array-preview {\n",
       "  display: none;\n",
       "}\n",
       "\n",
       ".xr-array-in:checked ~ .xr-array-data,\n",
       ".xr-array-preview {\n",
       "  display: inline-block;\n",
       "}\n",
       "\n",
       ".xr-dim-list {\n",
       "  display: inline-block !important;\n",
       "  list-style: none;\n",
       "  padding: 0 !important;\n",
       "  margin: 0;\n",
       "}\n",
       "\n",
       ".xr-dim-list li {\n",
       "  display: inline-block;\n",
       "  padding: 0;\n",
       "  margin: 0;\n",
       "}\n",
       "\n",
       ".xr-dim-list:before {\n",
       "  content: '(';\n",
       "}\n",
       "\n",
       ".xr-dim-list:after {\n",
       "  content: ')';\n",
       "}\n",
       "\n",
       ".xr-dim-list li:not(:last-child):after {\n",
       "  content: ',';\n",
       "  padding-right: 5px;\n",
       "}\n",
       "\n",
       ".xr-has-index {\n",
       "  font-weight: bold;\n",
       "}\n",
       "\n",
       ".xr-var-list,\n",
       ".xr-var-item {\n",
       "  display: contents;\n",
       "}\n",
       "\n",
       ".xr-var-item > div,\n",
       ".xr-var-item label,\n",
       ".xr-var-item > .xr-var-name span {\n",
       "  background-color: var(--xr-background-color-row-even);\n",
       "  margin-bottom: 0;\n",
       "}\n",
       "\n",
       ".xr-var-item > .xr-var-name:hover span {\n",
       "  padding-right: 5px;\n",
       "}\n",
       "\n",
       ".xr-var-list > li:nth-child(odd) > div,\n",
       ".xr-var-list > li:nth-child(odd) > label,\n",
       ".xr-var-list > li:nth-child(odd) > .xr-var-name span {\n",
       "  background-color: var(--xr-background-color-row-odd);\n",
       "}\n",
       "\n",
       ".xr-var-name {\n",
       "  grid-column: 1;\n",
       "}\n",
       "\n",
       ".xr-var-dims {\n",
       "  grid-column: 2;\n",
       "}\n",
       "\n",
       ".xr-var-dtype {\n",
       "  grid-column: 3;\n",
       "  text-align: right;\n",
       "  color: var(--xr-font-color2);\n",
       "}\n",
       "\n",
       ".xr-var-preview {\n",
       "  grid-column: 4;\n",
       "}\n",
       "\n",
       ".xr-index-preview {\n",
       "  grid-column: 2 / 5;\n",
       "  color: var(--xr-font-color2);\n",
       "}\n",
       "\n",
       ".xr-var-name,\n",
       ".xr-var-dims,\n",
       ".xr-var-dtype,\n",
       ".xr-preview,\n",
       ".xr-attrs dt {\n",
       "  white-space: nowrap;\n",
       "  overflow: hidden;\n",
       "  text-overflow: ellipsis;\n",
       "  padding-right: 10px;\n",
       "}\n",
       "\n",
       ".xr-var-name:hover,\n",
       ".xr-var-dims:hover,\n",
       ".xr-var-dtype:hover,\n",
       ".xr-attrs dt:hover {\n",
       "  overflow: visible;\n",
       "  width: auto;\n",
       "  z-index: 1;\n",
       "}\n",
       "\n",
       ".xr-var-attrs,\n",
       ".xr-var-data,\n",
       ".xr-index-data {\n",
       "  display: none;\n",
       "  background-color: var(--xr-background-color) !important;\n",
       "  padding-bottom: 5px !important;\n",
       "}\n",
       "\n",
       ".xr-var-attrs-in:checked ~ .xr-var-attrs,\n",
       ".xr-var-data-in:checked ~ .xr-var-data,\n",
       ".xr-index-data-in:checked ~ .xr-index-data {\n",
       "  display: block;\n",
       "}\n",
       "\n",
       ".xr-var-data > table {\n",
       "  float: right;\n",
       "}\n",
       "\n",
       ".xr-var-name span,\n",
       ".xr-var-data,\n",
       ".xr-index-name div,\n",
       ".xr-index-data,\n",
       ".xr-attrs {\n",
       "  padding-left: 25px !important;\n",
       "}\n",
       "\n",
       ".xr-attrs,\n",
       ".xr-var-attrs,\n",
       ".xr-var-data,\n",
       ".xr-index-data {\n",
       "  grid-column: 1 / -1;\n",
       "}\n",
       "\n",
       "dl.xr-attrs {\n",
       "  padding: 0;\n",
       "  margin: 0;\n",
       "  display: grid;\n",
       "  grid-template-columns: 125px auto;\n",
       "}\n",
       "\n",
       ".xr-attrs dt,\n",
       ".xr-attrs dd {\n",
       "  padding: 0;\n",
       "  margin: 0;\n",
       "  float: left;\n",
       "  padding-right: 10px;\n",
       "  width: auto;\n",
       "}\n",
       "\n",
       ".xr-attrs dt {\n",
       "  font-weight: normal;\n",
       "  grid-column: 1;\n",
       "}\n",
       "\n",
       ".xr-attrs dt:hover span {\n",
       "  display: inline-block;\n",
       "  background: var(--xr-background-color);\n",
       "  padding-right: 10px;\n",
       "}\n",
       "\n",
       ".xr-attrs dd {\n",
       "  grid-column: 2;\n",
       "  white-space: pre-wrap;\n",
       "  word-break: break-all;\n",
       "}\n",
       "\n",
       ".xr-icon-database,\n",
       ".xr-icon-file-text2,\n",
       ".xr-no-icon {\n",
       "  display: inline-block;\n",
       "  vertical-align: middle;\n",
       "  width: 1em;\n",
       "  height: 1.5em !important;\n",
       "  stroke-width: 0;\n",
       "  stroke: currentColor;\n",
       "  fill: currentColor;\n",
       "}\n",
       "</style><pre class='xr-text-repr-fallback'>&lt;xarray.Dataset&gt; Size: 441MB\n",
       "Dimensions:    (lat: 1800, lon: 3600, time: 1)\n",
       "Coordinates:\n",
       "  * lat        (lat) float64 14kB 89.95 89.85 89.75 ... -89.75 -89.85 -89.95\n",
       "  * lon        (lon) float64 29kB -179.9 -179.8 -179.8 ... 179.7 179.8 179.9\n",
       "  * time       (time) datetime64[ns] 8B 2023-06-01T12:00:00\n",
       "Data variables: (12/18)\n",
       "    crs        |S1 1B ...\n",
       "    SWI_005    (time, lat, lon) float32 26MB ...\n",
       "    SWI_010    (time, lat, lon) float32 26MB ...\n",
       "    SWI_001    (time, lat, lon) float32 26MB ...\n",
       "    SWI_015    (time, lat, lon) float32 26MB ...\n",
       "    SWI_100    (time, lat, lon) float32 26MB ...\n",
       "    ...         ...\n",
       "    QFLAG_100  (time, lat, lon) float32 26MB ...\n",
       "    QFLAG_020  (time, lat, lon) float32 26MB ...\n",
       "    QFLAG_005  (time, lat, lon) float32 26MB ...\n",
       "    QFLAG_001  (time, lat, lon) float32 26MB ...\n",
       "    QFLAG_060  (time, lat, lon) float32 26MB ...\n",
       "    SSF        (time, lat, lon) float32 26MB ...\n",
       "Attributes: (12/25)\n",
       "    Conventions:          CF-1.6\n",
       "    archive_facility:     VITO\n",
       "    copyright:            Copernicus Service information 2023\n",
       "    geospatial_lat_max:   89.95\n",
       "    geospatial_lat_min:   -89.95\n",
       "    geospatial_lon_max:   179.95\n",
       "    ...                   ...\n",
       "    region_name:          GLOBE\n",
       "    sensor:               ASCAT\n",
       "    source:               Derived from EO microwave scatterometer observations\n",
       "    time_coverage_end:    2023-06-01T12:00:00Z\n",
       "    time_coverage_start:  2023-05-31T12:00:00Z\n",
       "    title:                Daily Soil Water Index 0.1degree: GLOBE 2023-06-01T...</pre><div class='xr-wrap' style='display:none'><div class='xr-header'><div class='xr-obj-type'>xarray.Dataset</div></div><ul class='xr-sections'><li class='xr-section-item'><input id='section-b4817cc9-e3e0-45f6-b3cb-b48184e62882' class='xr-section-summary-in' type='checkbox' disabled ><label for='section-b4817cc9-e3e0-45f6-b3cb-b48184e62882' class='xr-section-summary'  title='Expand/collapse section'>Dimensions:</label><div class='xr-section-inline-details'><ul class='xr-dim-list'><li><span class='xr-has-index'>lat</span>: 1800</li><li><span class='xr-has-index'>lon</span>: 3600</li><li><span class='xr-has-index'>time</span>: 1</li></ul></div><div class='xr-section-details'></div></li><li class='xr-section-item'><input id='section-f4d41e24-76bc-4b39-adea-6d7359d0ed37' class='xr-section-summary-in' type='checkbox'  checked><label for='section-f4d41e24-76bc-4b39-adea-6d7359d0ed37' class='xr-section-summary' >Coordinates: <span>(3)</span></label><div class='xr-section-inline-details'></div><div class='xr-section-details'><ul class='xr-var-list'><li class='xr-var-item'><div class='xr-var-name'><span class='xr-has-index'>lat</span></div><div class='xr-var-dims'>(lat)</div><div class='xr-var-dtype'>float64</div><div class='xr-var-preview xr-preview'>89.95 89.85 89.75 ... -89.85 -89.95</div><input id='attrs-dbd8a079-be56-40c1-9584-c132591018b1' class='xr-var-attrs-in' type='checkbox' ><label for='attrs-dbd8a079-be56-40c1-9584-c132591018b1' title='Show/Hide attributes'><svg class='icon xr-icon-file-text2'><use xlink:href='#icon-file-text2'></use></svg></label><input id='data-6422c33a-1e1f-4afb-ab68-3b5fc7ddf082' class='xr-var-data-in' type='checkbox'><label for='data-6422c33a-1e1f-4afb-ab68-3b5fc7ddf082' title='Show/Hide data repr'><svg class='icon xr-icon-database'><use xlink:href='#icon-database'></use></svg></label><div class='xr-var-attrs'><dl class='xr-attrs'><dt><span>standard_name :</span></dt><dd>latitude</dd><dt><span>long_name :</span></dt><dd>latitude</dd><dt><span>units :</span></dt><dd>degrees_north</dd><dt><span>axis :</span></dt><dd>Y</dd><dt><span>valid_range :</span></dt><dd>[-90.  90.]</dd></dl></div><div class='xr-var-data'><pre>array([ 89.95,  89.85,  89.75, ..., -89.75, -89.85, -89.95])</pre></div></li><li class='xr-var-item'><div class='xr-var-name'><span class='xr-has-index'>lon</span></div><div class='xr-var-dims'>(lon)</div><div class='xr-var-dtype'>float64</div><div class='xr-var-preview xr-preview'>-179.9 -179.8 ... 179.8 179.9</div><input id='attrs-181a6148-262c-407d-9e2b-28b5321f84c9' class='xr-var-attrs-in' type='checkbox' ><label for='attrs-181a6148-262c-407d-9e2b-28b5321f84c9' title='Show/Hide attributes'><svg class='icon xr-icon-file-text2'><use xlink:href='#icon-file-text2'></use></svg></label><input id='data-07dda7da-f2f3-4239-979e-1f8484599c26' class='xr-var-data-in' type='checkbox'><label for='data-07dda7da-f2f3-4239-979e-1f8484599c26' title='Show/Hide data repr'><svg class='icon xr-icon-database'><use xlink:href='#icon-database'></use></svg></label><div class='xr-var-attrs'><dl class='xr-attrs'><dt><span>standard_name :</span></dt><dd>longitude</dd><dt><span>long_name :</span></dt><dd>longitude</dd><dt><span>units :</span></dt><dd>degrees_east</dd><dt><span>axis :</span></dt><dd>X</dd><dt><span>valid_range :</span></dt><dd>[-180.  180.]</dd></dl></div><div class='xr-var-data'><pre>array([-179.95, -179.85, -179.75, ...,  179.75,  179.85,  179.95])</pre></div></li><li class='xr-var-item'><div class='xr-var-name'><span class='xr-has-index'>time</span></div><div class='xr-var-dims'>(time)</div><div class='xr-var-dtype'>datetime64[ns]</div><div class='xr-var-preview xr-preview'>2023-06-01T12:00:00</div><input id='attrs-be6b8628-3f26-487a-b50b-c323192f66ea' class='xr-var-attrs-in' type='checkbox' ><label for='attrs-be6b8628-3f26-487a-b50b-c323192f66ea' title='Show/Hide attributes'><svg class='icon xr-icon-file-text2'><use xlink:href='#icon-file-text2'></use></svg></label><input id='data-d5796e1d-fc21-4abc-a406-7c336f846f8b' class='xr-var-data-in' type='checkbox'><label for='data-d5796e1d-fc21-4abc-a406-7c336f846f8b' title='Show/Hide data repr'><svg class='icon xr-icon-database'><use xlink:href='#icon-database'></use></svg></label><div class='xr-var-attrs'><dl class='xr-attrs'><dt><span>standard_name :</span></dt><dd>time</dd><dt><span>long_name :</span></dt><dd>time</dd><dt><span>axis :</span></dt><dd>T</dd></dl></div><div class='xr-var-data'><pre>array([&#x27;2023-06-01T12:00:00.000000000&#x27;], dtype=&#x27;datetime64[ns]&#x27;)</pre></div></li></ul></div></li><li class='xr-section-item'><input id='section-e5e354de-454c-4fb0-bb8e-2ad21740289f' class='xr-section-summary-in' type='checkbox'  ><label for='section-e5e354de-454c-4fb0-bb8e-2ad21740289f' class='xr-section-summary' >Data variables: <span>(18)</span></label><div class='xr-section-inline-details'></div><div class='xr-section-details'><ul class='xr-var-list'><li class='xr-var-item'><div class='xr-var-name'><span>crs</span></div><div class='xr-var-dims'>()</div><div class='xr-var-dtype'>|S1</div><div class='xr-var-preview xr-preview'>...</div><input id='attrs-6b8a245f-ede6-4f81-9e35-1ab186170680' class='xr-var-attrs-in' type='checkbox' ><label for='attrs-6b8a245f-ede6-4f81-9e35-1ab186170680' title='Show/Hide attributes'><svg class='icon xr-icon-file-text2'><use xlink:href='#icon-file-text2'></use></svg></label><input id='data-6f68bd4a-70c9-449e-a52e-b7f67931af3d' class='xr-var-data-in' type='checkbox'><label for='data-6f68bd4a-70c9-449e-a52e-b7f67931af3d' title='Show/Hide data repr'><svg class='icon xr-icon-database'><use xlink:href='#icon-database'></use></svg></label><div class='xr-var-attrs'><dl class='xr-attrs'><dt><span>inverse_flattening :</span></dt><dd>298.257223563</dd><dt><span>spatial_ref :</span></dt><dd>GEOGCS[&quot;WGS 84&quot;,DATUM[&quot;WGS_1984&quot;,SPHEROID[&quot;WGS 84&quot;,6378137,298.257223563,AUTHORITY[&quot;EPSG&quot;,&quot;7030&quot;]],AUTHORITY[&quot;EPSG&quot;,&quot;6326&quot;]],PRIMEM[&quot;Greenwich&quot;,0,AUTHORITY[&quot;EPSG&quot;,&quot;8901&quot;]],UNIT[&quot;degree&quot;,0.0174532925199433,AUTHORITY[&quot;EPSG&quot;,&quot;9122&quot;]],AUTHORITY[&quot;EPSG&quot;,&quot;4326&quot;]]</dd><dt><span>semi_major_axis :</span></dt><dd>6378137.0</dd><dt><span>GeoTransform :</span></dt><dd>-180 0.1 0 90 0 -0.1</dd><dt><span>long_name :</span></dt><dd>CRS definition</dd><dt><span>grid_mapping_name :</span></dt><dd>latitude_longitude</dd><dt><span>longitude_of_prime_meridian :</span></dt><dd>0.0</dd></dl></div><div class='xr-var-data'><pre>[1 values with dtype=|S1]</pre></div></li><li class='xr-var-item'><div class='xr-var-name'><span>SWI_005</span></div><div class='xr-var-dims'>(time, lat, lon)</div><div class='xr-var-dtype'>float32</div><div class='xr-var-preview xr-preview'>...</div><input id='attrs-c3209194-a517-47aa-bf64-c6b9c5849245' class='xr-var-attrs-in' type='checkbox' ><label for='attrs-c3209194-a517-47aa-bf64-c6b9c5849245' title='Show/Hide attributes'><svg class='icon xr-icon-file-text2'><use xlink:href='#icon-file-text2'></use></svg></label><input id='data-b00f0429-b467-43cd-a5b7-8f3fa4f1fafc' class='xr-var-data-in' type='checkbox'><label for='data-b00f0429-b467-43cd-a5b7-8f3fa4f1fafc' title='Show/Hide data repr'><svg class='icon xr-icon-database'><use xlink:href='#icon-database'></use></svg></label><div class='xr-var-attrs'><dl class='xr-attrs'><dt><span>Class :</span></dt><dd>DATA</dd><dt><span>grid_mapping :</span></dt><dd>crs</dd><dt><span>long_name :</span></dt><dd>Soil Water Index with T=5</dd><dt><span>units :</span></dt><dd>%</dd><dt><span>valid_range :</span></dt><dd>[  0 200]</dd></dl></div><div class='xr-var-data'><pre>[6480000 values with dtype=float32]</pre></div></li><li class='xr-var-item'><div class='xr-var-name'><span>SWI_010</span></div><div class='xr-var-dims'>(time, lat, lon)</div><div class='xr-var-dtype'>float32</div><div class='xr-var-preview xr-preview'>...</div><input id='attrs-0491f56f-db52-41fe-a3d3-c21ba51685aa' class='xr-var-attrs-in' type='checkbox' ><label for='attrs-0491f56f-db52-41fe-a3d3-c21ba51685aa' title='Show/Hide attributes'><svg class='icon xr-icon-file-text2'><use xlink:href='#icon-file-text2'></use></svg></label><input id='data-8b40cf02-8066-4cf6-bc89-0daa42eafee7' class='xr-var-data-in' type='checkbox'><label for='data-8b40cf02-8066-4cf6-bc89-0daa42eafee7' title='Show/Hide data repr'><svg class='icon xr-icon-database'><use xlink:href='#icon-database'></use></svg></label><div class='xr-var-attrs'><dl class='xr-attrs'><dt><span>Class :</span></dt><dd>DATA</dd><dt><span>grid_mapping :</span></dt><dd>crs</dd><dt><span>long_name :</span></dt><dd>Soil Water Index with T=10</dd><dt><span>units :</span></dt><dd>%</dd><dt><span>valid_range :</span></dt><dd>[  0 200]</dd></dl></div><div class='xr-var-data'><pre>[6480000 values with dtype=float32]</pre></div></li><li class='xr-var-item'><div class='xr-var-name'><span>SWI_001</span></div><div class='xr-var-dims'>(time, lat, lon)</div><div class='xr-var-dtype'>float32</div><div class='xr-var-preview xr-preview'>...</div><input id='attrs-3ff42760-75fd-4d40-a9f7-b515596ec5fa' class='xr-var-attrs-in' type='checkbox' ><label for='attrs-3ff42760-75fd-4d40-a9f7-b515596ec5fa' title='Show/Hide attributes'><svg class='icon xr-icon-file-text2'><use xlink:href='#icon-file-text2'></use></svg></label><input id='data-53a4cd10-726a-4635-9799-763fdb657a42' class='xr-var-data-in' type='checkbox'><label for='data-53a4cd10-726a-4635-9799-763fdb657a42' title='Show/Hide data repr'><svg class='icon xr-icon-database'><use xlink:href='#icon-database'></use></svg></label><div class='xr-var-attrs'><dl class='xr-attrs'><dt><span>Class :</span></dt><dd>DATA</dd><dt><span>grid_mapping :</span></dt><dd>crs</dd><dt><span>long_name :</span></dt><dd>Soil Water Index with T=1</dd><dt><span>units :</span></dt><dd>%</dd><dt><span>valid_range :</span></dt><dd>[  0 200]</dd></dl></div><div class='xr-var-data'><pre>[6480000 values with dtype=float32]</pre></div></li><li class='xr-var-item'><div class='xr-var-name'><span>SWI_015</span></div><div class='xr-var-dims'>(time, lat, lon)</div><div class='xr-var-dtype'>float32</div><div class='xr-var-preview xr-preview'>...</div><input id='attrs-6c233430-1e96-4731-a152-d8cd6e47bfa0' class='xr-var-attrs-in' type='checkbox' ><label for='attrs-6c233430-1e96-4731-a152-d8cd6e47bfa0' title='Show/Hide attributes'><svg class='icon xr-icon-file-text2'><use xlink:href='#icon-file-text2'></use></svg></label><input id='data-1dc89040-636b-4a5f-bc9a-2d0835062c8e' class='xr-var-data-in' type='checkbox'><label for='data-1dc89040-636b-4a5f-bc9a-2d0835062c8e' title='Show/Hide data repr'><svg class='icon xr-icon-database'><use xlink:href='#icon-database'></use></svg></label><div class='xr-var-attrs'><dl class='xr-attrs'><dt><span>Class :</span></dt><dd>DATA</dd><dt><span>grid_mapping :</span></dt><dd>crs</dd><dt><span>long_name :</span></dt><dd>Soil Water Index with T=15</dd><dt><span>units :</span></dt><dd>%</dd><dt><span>valid_range :</span></dt><dd>[  0 200]</dd></dl></div><div class='xr-var-data'><pre>[6480000 values with dtype=float32]</pre></div></li><li class='xr-var-item'><div class='xr-var-name'><span>SWI_100</span></div><div class='xr-var-dims'>(time, lat, lon)</div><div class='xr-var-dtype'>float32</div><div class='xr-var-preview xr-preview'>...</div><input id='attrs-6001f630-0b7d-4af0-8405-fa72ef6f8ae5' class='xr-var-attrs-in' type='checkbox' ><label for='attrs-6001f630-0b7d-4af0-8405-fa72ef6f8ae5' title='Show/Hide attributes'><svg class='icon xr-icon-file-text2'><use xlink:href='#icon-file-text2'></use></svg></label><input id='data-0229e21d-4e84-4ddb-8bbd-e45889cbb18b' class='xr-var-data-in' type='checkbox'><label for='data-0229e21d-4e84-4ddb-8bbd-e45889cbb18b' title='Show/Hide data repr'><svg class='icon xr-icon-database'><use xlink:href='#icon-database'></use></svg></label><div class='xr-var-attrs'><dl class='xr-attrs'><dt><span>Class :</span></dt><dd>DATA</dd><dt><span>grid_mapping :</span></dt><dd>crs</dd><dt><span>long_name :</span></dt><dd>Soil Water Index with T=100</dd><dt><span>units :</span></dt><dd>%</dd><dt><span>valid_range :</span></dt><dd>[  0 200]</dd></dl></div><div class='xr-var-data'><pre>[6480000 values with dtype=float32]</pre></div></li><li class='xr-var-item'><div class='xr-var-name'><span>SWI_040</span></div><div class='xr-var-dims'>(time, lat, lon)</div><div class='xr-var-dtype'>float32</div><div class='xr-var-preview xr-preview'>...</div><input id='attrs-0eb1c576-ddb0-46a6-a290-e79a0124787d' class='xr-var-attrs-in' type='checkbox' ><label for='attrs-0eb1c576-ddb0-46a6-a290-e79a0124787d' title='Show/Hide attributes'><svg class='icon xr-icon-file-text2'><use xlink:href='#icon-file-text2'></use></svg></label><input id='data-6ebc7ebf-b999-4cc6-b65c-9a605064c74a' class='xr-var-data-in' type='checkbox'><label for='data-6ebc7ebf-b999-4cc6-b65c-9a605064c74a' title='Show/Hide data repr'><svg class='icon xr-icon-database'><use xlink:href='#icon-database'></use></svg></label><div class='xr-var-attrs'><dl class='xr-attrs'><dt><span>Class :</span></dt><dd>DATA</dd><dt><span>grid_mapping :</span></dt><dd>crs</dd><dt><span>long_name :</span></dt><dd>Soil Water Index with T=40</dd><dt><span>units :</span></dt><dd>%</dd><dt><span>valid_range :</span></dt><dd>[  0 200]</dd></dl></div><div class='xr-var-data'><pre>[6480000 values with dtype=float32]</pre></div></li><li class='xr-var-item'><div class='xr-var-name'><span>SWI_060</span></div><div class='xr-var-dims'>(time, lat, lon)</div><div class='xr-var-dtype'>float32</div><div class='xr-var-preview xr-preview'>...</div><input id='attrs-36a0029e-86f7-49bf-9689-3ad37b548e0f' class='xr-var-attrs-in' type='checkbox' ><label for='attrs-36a0029e-86f7-49bf-9689-3ad37b548e0f' title='Show/Hide attributes'><svg class='icon xr-icon-file-text2'><use xlink:href='#icon-file-text2'></use></svg></label><input id='data-5340cd19-3fe2-4cae-934a-072db62d468e' class='xr-var-data-in' type='checkbox'><label for='data-5340cd19-3fe2-4cae-934a-072db62d468e' title='Show/Hide data repr'><svg class='icon xr-icon-database'><use xlink:href='#icon-database'></use></svg></label><div class='xr-var-attrs'><dl class='xr-attrs'><dt><span>Class :</span></dt><dd>DATA</dd><dt><span>grid_mapping :</span></dt><dd>crs</dd><dt><span>long_name :</span></dt><dd>Soil Water Index with T=60</dd><dt><span>units :</span></dt><dd>%</dd><dt><span>valid_range :</span></dt><dd>[  0 200]</dd></dl></div><div class='xr-var-data'><pre>[6480000 values with dtype=float32]</pre></div></li><li class='xr-var-item'><div class='xr-var-name'><span>SWI_020</span></div><div class='xr-var-dims'>(time, lat, lon)</div><div class='xr-var-dtype'>float32</div><div class='xr-var-preview xr-preview'>...</div><input id='attrs-30cb3932-6c66-40a6-b032-3a8bf3678320' class='xr-var-attrs-in' type='checkbox' ><label for='attrs-30cb3932-6c66-40a6-b032-3a8bf3678320' title='Show/Hide attributes'><svg class='icon xr-icon-file-text2'><use xlink:href='#icon-file-text2'></use></svg></label><input id='data-da5be526-e7d0-4ede-a3ce-ff46329a2d18' class='xr-var-data-in' type='checkbox'><label for='data-da5be526-e7d0-4ede-a3ce-ff46329a2d18' title='Show/Hide data repr'><svg class='icon xr-icon-database'><use xlink:href='#icon-database'></use></svg></label><div class='xr-var-attrs'><dl class='xr-attrs'><dt><span>Class :</span></dt><dd>DATA</dd><dt><span>grid_mapping :</span></dt><dd>crs</dd><dt><span>long_name :</span></dt><dd>Soil Water Index with T=20</dd><dt><span>units :</span></dt><dd>%</dd><dt><span>valid_range :</span></dt><dd>[  0 200]</dd></dl></div><div class='xr-var-data'><pre>[6480000 values with dtype=float32]</pre></div></li><li class='xr-var-item'><div class='xr-var-name'><span>QFLAG_040</span></div><div class='xr-var-dims'>(time, lat, lon)</div><div class='xr-var-dtype'>float32</div><div class='xr-var-preview xr-preview'>...</div><input id='attrs-32e6ea8f-5183-404d-aea2-3a097cb968d1' class='xr-var-attrs-in' type='checkbox' ><label for='attrs-32e6ea8f-5183-404d-aea2-3a097cb968d1' title='Show/Hide attributes'><svg class='icon xr-icon-file-text2'><use xlink:href='#icon-file-text2'></use></svg></label><input id='data-768bbffb-9e03-444d-b645-4dd46b00406a' class='xr-var-data-in' type='checkbox'><label for='data-768bbffb-9e03-444d-b645-4dd46b00406a' title='Show/Hide data repr'><svg class='icon xr-icon-database'><use xlink:href='#icon-database'></use></svg></label><div class='xr-var-attrs'><dl class='xr-attrs'><dt><span>Class :</span></dt><dd>DATA</dd><dt><span>grid_mapping :</span></dt><dd>crs</dd><dt><span>long_name :</span></dt><dd>Quality Flag with T=40</dd><dt><span>units :</span></dt><dd>%</dd><dt><span>valid_range :</span></dt><dd>[  0 200]</dd></dl></div><div class='xr-var-data'><pre>[6480000 values with dtype=float32]</pre></div></li><li class='xr-var-item'><div class='xr-var-name'><span>QFLAG_010</span></div><div class='xr-var-dims'>(time, lat, lon)</div><div class='xr-var-dtype'>float32</div><div class='xr-var-preview xr-preview'>...</div><input id='attrs-8900a641-b96f-4aee-bc4a-2ee8a7fd4825' class='xr-var-attrs-in' type='checkbox' ><label for='attrs-8900a641-b96f-4aee-bc4a-2ee8a7fd4825' title='Show/Hide attributes'><svg class='icon xr-icon-file-text2'><use xlink:href='#icon-file-text2'></use></svg></label><input id='data-5da1c906-2b28-4491-bedb-1289422d4526' class='xr-var-data-in' type='checkbox'><label for='data-5da1c906-2b28-4491-bedb-1289422d4526' title='Show/Hide data repr'><svg class='icon xr-icon-database'><use xlink:href='#icon-database'></use></svg></label><div class='xr-var-attrs'><dl class='xr-attrs'><dt><span>Class :</span></dt><dd>DATA</dd><dt><span>grid_mapping :</span></dt><dd>crs</dd><dt><span>long_name :</span></dt><dd>Quality Flag with T=10</dd><dt><span>units :</span></dt><dd>%</dd><dt><span>valid_range :</span></dt><dd>[  0 200]</dd></dl></div><div class='xr-var-data'><pre>[6480000 values with dtype=float32]</pre></div></li><li class='xr-var-item'><div class='xr-var-name'><span>QFLAG_015</span></div><div class='xr-var-dims'>(time, lat, lon)</div><div class='xr-var-dtype'>float32</div><div class='xr-var-preview xr-preview'>...</div><input id='attrs-3c30f3c5-1680-48c1-bdba-37e772c82da6' class='xr-var-attrs-in' type='checkbox' ><label for='attrs-3c30f3c5-1680-48c1-bdba-37e772c82da6' title='Show/Hide attributes'><svg class='icon xr-icon-file-text2'><use xlink:href='#icon-file-text2'></use></svg></label><input id='data-d273f415-88c5-4ec9-98b7-de5fb85c0251' class='xr-var-data-in' type='checkbox'><label for='data-d273f415-88c5-4ec9-98b7-de5fb85c0251' title='Show/Hide data repr'><svg class='icon xr-icon-database'><use xlink:href='#icon-database'></use></svg></label><div class='xr-var-attrs'><dl class='xr-attrs'><dt><span>Class :</span></dt><dd>DATA</dd><dt><span>grid_mapping :</span></dt><dd>crs</dd><dt><span>long_name :</span></dt><dd>Quality Flag with T=15</dd><dt><span>units :</span></dt><dd>%</dd><dt><span>valid_range :</span></dt><dd>[  0 200]</dd></dl></div><div class='xr-var-data'><pre>[6480000 values with dtype=float32]</pre></div></li><li class='xr-var-item'><div class='xr-var-name'><span>QFLAG_100</span></div><div class='xr-var-dims'>(time, lat, lon)</div><div class='xr-var-dtype'>float32</div><div class='xr-var-preview xr-preview'>...</div><input id='attrs-495eac07-109a-4a3c-b04c-ca0c0b056637' class='xr-var-attrs-in' type='checkbox' ><label for='attrs-495eac07-109a-4a3c-b04c-ca0c0b056637' title='Show/Hide attributes'><svg class='icon xr-icon-file-text2'><use xlink:href='#icon-file-text2'></use></svg></label><input id='data-41ff909f-c4cb-4d3d-a61e-128bec7e3935' class='xr-var-data-in' type='checkbox'><label for='data-41ff909f-c4cb-4d3d-a61e-128bec7e3935' title='Show/Hide data repr'><svg class='icon xr-icon-database'><use xlink:href='#icon-database'></use></svg></label><div class='xr-var-attrs'><dl class='xr-attrs'><dt><span>Class :</span></dt><dd>DATA</dd><dt><span>grid_mapping :</span></dt><dd>crs</dd><dt><span>long_name :</span></dt><dd>Quality Flag with T=100</dd><dt><span>units :</span></dt><dd>%</dd><dt><span>valid_range :</span></dt><dd>[  0 200]</dd></dl></div><div class='xr-var-data'><pre>[6480000 values with dtype=float32]</pre></div></li><li class='xr-var-item'><div class='xr-var-name'><span>QFLAG_020</span></div><div class='xr-var-dims'>(time, lat, lon)</div><div class='xr-var-dtype'>float32</div><div class='xr-var-preview xr-preview'>...</div><input id='attrs-b8441718-4015-4212-9694-988af3adb1de' class='xr-var-attrs-in' type='checkbox' ><label for='attrs-b8441718-4015-4212-9694-988af3adb1de' title='Show/Hide attributes'><svg class='icon xr-icon-file-text2'><use xlink:href='#icon-file-text2'></use></svg></label><input id='data-d250195e-01bc-4f6f-8607-c117148a57cb' class='xr-var-data-in' type='checkbox'><label for='data-d250195e-01bc-4f6f-8607-c117148a57cb' title='Show/Hide data repr'><svg class='icon xr-icon-database'><use xlink:href='#icon-database'></use></svg></label><div class='xr-var-attrs'><dl class='xr-attrs'><dt><span>Class :</span></dt><dd>DATA</dd><dt><span>grid_mapping :</span></dt><dd>crs</dd><dt><span>long_name :</span></dt><dd>Quality Flag with T=20</dd><dt><span>units :</span></dt><dd>%</dd><dt><span>valid_range :</span></dt><dd>[  0 200]</dd></dl></div><div class='xr-var-data'><pre>[6480000 values with dtype=float32]</pre></div></li><li class='xr-var-item'><div class='xr-var-name'><span>QFLAG_005</span></div><div class='xr-var-dims'>(time, lat, lon)</div><div class='xr-var-dtype'>float32</div><div class='xr-var-preview xr-preview'>...</div><input id='attrs-911dc466-b9e6-4e4e-a9ce-aa380a91afd3' class='xr-var-attrs-in' type='checkbox' ><label for='attrs-911dc466-b9e6-4e4e-a9ce-aa380a91afd3' title='Show/Hide attributes'><svg class='icon xr-icon-file-text2'><use xlink:href='#icon-file-text2'></use></svg></label><input id='data-68f6def4-3f86-4006-9e04-0ece67cc2c6e' class='xr-var-data-in' type='checkbox'><label for='data-68f6def4-3f86-4006-9e04-0ece67cc2c6e' title='Show/Hide data repr'><svg class='icon xr-icon-database'><use xlink:href='#icon-database'></use></svg></label><div class='xr-var-attrs'><dl class='xr-attrs'><dt><span>Class :</span></dt><dd>DATA</dd><dt><span>grid_mapping :</span></dt><dd>crs</dd><dt><span>long_name :</span></dt><dd>Quality Flag with T=5</dd><dt><span>units :</span></dt><dd>%</dd><dt><span>valid_range :</span></dt><dd>[  0 200]</dd></dl></div><div class='xr-var-data'><pre>[6480000 values with dtype=float32]</pre></div></li><li class='xr-var-item'><div class='xr-var-name'><span>QFLAG_001</span></div><div class='xr-var-dims'>(time, lat, lon)</div><div class='xr-var-dtype'>float32</div><div class='xr-var-preview xr-preview'>...</div><input id='attrs-6b043a5f-691a-4737-869a-ef8dac177c1c' class='xr-var-attrs-in' type='checkbox' ><label for='attrs-6b043a5f-691a-4737-869a-ef8dac177c1c' title='Show/Hide attributes'><svg class='icon xr-icon-file-text2'><use xlink:href='#icon-file-text2'></use></svg></label><input id='data-ea6e254d-19ee-4147-bc4a-ddcd029cac84' class='xr-var-data-in' type='checkbox'><label for='data-ea6e254d-19ee-4147-bc4a-ddcd029cac84' title='Show/Hide data repr'><svg class='icon xr-icon-database'><use xlink:href='#icon-database'></use></svg></label><div class='xr-var-attrs'><dl class='xr-attrs'><dt><span>Class :</span></dt><dd>DATA</dd><dt><span>grid_mapping :</span></dt><dd>crs</dd><dt><span>long_name :</span></dt><dd>Quality Flag with T=1</dd><dt><span>units :</span></dt><dd>%</dd><dt><span>valid_range :</span></dt><dd>[  0 200]</dd></dl></div><div class='xr-var-data'><pre>[6480000 values with dtype=float32]</pre></div></li><li class='xr-var-item'><div class='xr-var-name'><span>QFLAG_060</span></div><div class='xr-var-dims'>(time, lat, lon)</div><div class='xr-var-dtype'>float32</div><div class='xr-var-preview xr-preview'>...</div><input id='attrs-3556a8e7-5df5-4d10-9e71-fb9a5be292e7' class='xr-var-attrs-in' type='checkbox' ><label for='attrs-3556a8e7-5df5-4d10-9e71-fb9a5be292e7' title='Show/Hide attributes'><svg class='icon xr-icon-file-text2'><use xlink:href='#icon-file-text2'></use></svg></label><input id='data-6ecdfe0a-a59c-4c91-88b4-73a39839c453' class='xr-var-data-in' type='checkbox'><label for='data-6ecdfe0a-a59c-4c91-88b4-73a39839c453' title='Show/Hide data repr'><svg class='icon xr-icon-database'><use xlink:href='#icon-database'></use></svg></label><div class='xr-var-attrs'><dl class='xr-attrs'><dt><span>Class :</span></dt><dd>DATA</dd><dt><span>grid_mapping :</span></dt><dd>crs</dd><dt><span>long_name :</span></dt><dd>Quality Flag with T=60</dd><dt><span>units :</span></dt><dd>%</dd><dt><span>valid_range :</span></dt><dd>[  0 200]</dd></dl></div><div class='xr-var-data'><pre>[6480000 values with dtype=float32]</pre></div></li><li class='xr-var-item'><div class='xr-var-name'><span>SSF</span></div><div class='xr-var-dims'>(time, lat, lon)</div><div class='xr-var-dtype'>float32</div><div class='xr-var-preview xr-preview'>...</div><input id='attrs-115894da-c1cb-41d3-9029-be686ab034fb' class='xr-var-attrs-in' type='checkbox' ><label for='attrs-115894da-c1cb-41d3-9029-be686ab034fb' title='Show/Hide attributes'><svg class='icon xr-icon-file-text2'><use xlink:href='#icon-file-text2'></use></svg></label><input id='data-eb8f76c0-abd5-416e-85ab-2cc91050a5f5' class='xr-var-data-in' type='checkbox'><label for='data-eb8f76c0-abd5-416e-85ab-2cc91050a5f5' title='Show/Hide data repr'><svg class='icon xr-icon-database'><use xlink:href='#icon-database'></use></svg></label><div class='xr-var-attrs'><dl class='xr-attrs'><dt><span>Class :</span></dt><dd>DATA</dd><dt><span>flag_meanings :</span></dt><dd>Unknown Unfrozen Frozen Melting_or_Surface_Water Missing</dd><dt><span>flag_values :</span></dt><dd>[  0   1   2   3 255]</dd><dt><span>grid_mapping :</span></dt><dd>crs</dd><dt><span>long_name :</span></dt><dd>Surface State Flag</dd><dt><span>valid_range :</span></dt><dd>[0 4]</dd></dl></div><div class='xr-var-data'><pre>[6480000 values with dtype=float32]</pre></div></li></ul></div></li><li class='xr-section-item'><input id='section-042593ed-3f23-4ed6-b734-b06b0d07c2b4' class='xr-section-summary-in' type='checkbox'  ><label for='section-042593ed-3f23-4ed6-b734-b06b0d07c2b4' class='xr-section-summary' >Indexes: <span>(3)</span></label><div class='xr-section-inline-details'></div><div class='xr-section-details'><ul class='xr-var-list'><li class='xr-var-item'><div class='xr-index-name'><div>lat</div></div><div class='xr-index-preview'>PandasIndex</div><div></div><input id='index-b6d8fb2c-41a7-4a03-8fde-50a79526cefa' class='xr-index-data-in' type='checkbox'/><label for='index-b6d8fb2c-41a7-4a03-8fde-50a79526cefa' title='Show/Hide index repr'><svg class='icon xr-icon-database'><use xlink:href='#icon-database'></use></svg></label><div class='xr-index-data'><pre>PandasIndex(Index([ 89.94999999998977,  89.84999999998978,  89.74999999998978,\n",
       "        89.64999999998979,   89.5499999999898,   89.4499999999898,\n",
       "         89.3499999999898,  89.24999999998981,  89.14999999998982,\n",
       "        89.04999999998982,\n",
       "       ...\n",
       "       -89.05000000000005, -89.15000000000005, -89.25000000000004,\n",
       "       -89.35000000000004, -89.45000000000003, -89.55000000000003,\n",
       "       -89.65000000000002, -89.75000000000001, -89.85000000000001,\n",
       "                   -89.95],\n",
       "      dtype=&#x27;float64&#x27;, name=&#x27;lat&#x27;, length=1800))</pre></div></li><li class='xr-var-item'><div class='xr-index-name'><div>lon</div></div><div class='xr-index-preview'>PandasIndex</div><div></div><input id='index-af4f1b14-a1f8-4c2d-a52b-7648abc33925' class='xr-index-data-in' type='checkbox'/><label for='index-af4f1b14-a1f8-4c2d-a52b-7648abc33925' title='Show/Hide index repr'><svg class='icon xr-icon-database'><use xlink:href='#icon-database'></use></svg></label><div class='xr-index-data'><pre>PandasIndex(Index([            -179.95,             -179.85,             -179.75,\n",
       "                   -179.65,             -179.55, -179.45000000000002,\n",
       "       -179.35000000000002, -179.25000000000003, -179.15000000000003,\n",
       "       -179.05000000000004,\n",
       "       ...\n",
       "         179.0499999999796,  179.14999999997957,   179.2499999999796,\n",
       "        179.34999999997962,  179.44999999997958,  179.54999999997955,\n",
       "        179.64999999997957,   179.7499999999796,  179.84999999997956,\n",
       "        179.94999999997953],\n",
       "      dtype=&#x27;float64&#x27;, name=&#x27;lon&#x27;, length=3600))</pre></div></li><li class='xr-var-item'><div class='xr-index-name'><div>time</div></div><div class='xr-index-preview'>PandasIndex</div><div></div><input id='index-653c09a5-99b4-4b80-b0ee-59cfab37faef' class='xr-index-data-in' type='checkbox'/><label for='index-653c09a5-99b4-4b80-b0ee-59cfab37faef' title='Show/Hide index repr'><svg class='icon xr-icon-database'><use xlink:href='#icon-database'></use></svg></label><div class='xr-index-data'><pre>PandasIndex(DatetimeIndex([&#x27;2023-06-01 12:00:00&#x27;], dtype=&#x27;datetime64[ns]&#x27;, name=&#x27;time&#x27;, freq=None))</pre></div></li></ul></div></li><li class='xr-section-item'><input id='section-06485243-36ef-4163-b6a1-308a1f847fff' class='xr-section-summary-in' type='checkbox'  ><label for='section-06485243-36ef-4163-b6a1-308a1f847fff' class='xr-section-summary' >Attributes: <span>(25)</span></label><div class='xr-section-inline-details'></div><div class='xr-section-details'><dl class='xr-attrs'><dt><span>Conventions :</span></dt><dd>CF-1.6</dd><dt><span>archive_facility :</span></dt><dd>VITO</dd><dt><span>copyright :</span></dt><dd>Copernicus Service information 2023</dd><dt><span>geospatial_lat_max :</span></dt><dd>89.95</dd><dt><span>geospatial_lat_min :</span></dt><dd>-89.95</dd><dt><span>geospatial_lon_max :</span></dt><dd>179.95</dd><dt><span>geospatial_lon_min :</span></dt><dd>-179.95</dd><dt><span>history :</span></dt><dd>2023-06-01 -- SWI NRT Production</dd><dt><span>identifier :</span></dt><dd>urn:cgls:global:swi_v3_0.1degree:SWI_202306011200_GLOBE_ASCAT_V3.2.1</dd><dt><span>institution :</span></dt><dd>TU Wien</dd><dt><span>long_name :</span></dt><dd>Soil Water Index</dd><dt><span>orbit_type :</span></dt><dd>LEO</dd><dt><span>parent_identifier :</span></dt><dd>urn:cgls:global:swi_v3_0.1degree</dd><dt><span>pixel_size :</span></dt><dd>0.1 degrees</dd><dt><span>platform :</span></dt><dd>METOP B+C</dd><dt><span>processing_level :</span></dt><dd>L3</dd><dt><span>processing_mode :</span></dt><dd>NRT Production</dd><dt><span>product_version :</span></dt><dd>V3.1.2</dd><dt><span>references :</span></dt><dd>https://land.copernicus.eu/global/products/swi</dd><dt><span>region_name :</span></dt><dd>GLOBE</dd><dt><span>sensor :</span></dt><dd>ASCAT</dd><dt><span>source :</span></dt><dd>Derived from EO microwave scatterometer observations</dd><dt><span>time_coverage_end :</span></dt><dd>2023-06-01T12:00:00Z</dd><dt><span>time_coverage_start :</span></dt><dd>2023-05-31T12:00:00Z</dd><dt><span>title :</span></dt><dd>Daily Soil Water Index 0.1degree: GLOBE 2023-06-01T12:00:00Z</dd></dl></div></li></ul></div></div>"
      ],
      "text/plain": [
       "<xarray.Dataset> Size: 441MB\n",
       "Dimensions:    (lat: 1800, lon: 3600, time: 1)\n",
       "Coordinates:\n",
       "  * lat        (lat) float64 14kB 89.95 89.85 89.75 ... -89.75 -89.85 -89.95\n",
       "  * lon        (lon) float64 29kB -179.9 -179.8 -179.8 ... 179.7 179.8 179.9\n",
       "  * time       (time) datetime64[ns] 8B 2023-06-01T12:00:00\n",
       "Data variables: (12/18)\n",
       "    crs        |S1 1B ...\n",
       "    SWI_005    (time, lat, lon) float32 26MB ...\n",
       "    SWI_010    (time, lat, lon) float32 26MB ...\n",
       "    SWI_001    (time, lat, lon) float32 26MB ...\n",
       "    SWI_015    (time, lat, lon) float32 26MB ...\n",
       "    SWI_100    (time, lat, lon) float32 26MB ...\n",
       "    ...         ...\n",
       "    QFLAG_100  (time, lat, lon) float32 26MB ...\n",
       "    QFLAG_020  (time, lat, lon) float32 26MB ...\n",
       "    QFLAG_005  (time, lat, lon) float32 26MB ...\n",
       "    QFLAG_001  (time, lat, lon) float32 26MB ...\n",
       "    QFLAG_060  (time, lat, lon) float32 26MB ...\n",
       "    SSF        (time, lat, lon) float32 26MB ...\n",
       "Attributes: (12/25)\n",
       "    Conventions:          CF-1.6\n",
       "    archive_facility:     VITO\n",
       "    copyright:            Copernicus Service information 2023\n",
       "    geospatial_lat_max:   89.95\n",
       "    geospatial_lat_min:   -89.95\n",
       "    geospatial_lon_max:   179.95\n",
       "    ...                   ...\n",
       "    region_name:          GLOBE\n",
       "    sensor:               ASCAT\n",
       "    source:               Derived from EO microwave scatterometer observations\n",
       "    time_coverage_end:    2023-06-01T12:00:00Z\n",
       "    time_coverage_start:  2023-05-31T12:00:00Z\n",
       "    title:                Daily Soil Water Index 0.1degree: GLOBE 2023-06-01T..."
      ]
     },
     "execution_count": 46,
     "metadata": {},
     "output_type": "execute_result"
    }
   ],
   "source": [
    "ncfile = xar.open_dataset(next(Path(\"gridded_data\").iterdir()))\n",
    "ncfile"
   ]
  },
  {
   "cell_type": "markdown",
   "id": "0c87cc5e-cf7b-4768-bde1-cce957b2a885",
   "metadata": {},
   "source": [
    "Since the data contains a 3rd dimension (\"time\"), we select the first entry to obtain a single layer"
   ]
  },
  {
   "cell_type": "code",
   "execution_count": 47,
   "id": "3a9cad24-d6e6-4a1b-9b4f-e2a52869fd44",
   "metadata": {},
   "outputs": [
    {
     "data": {
      "text/html": [
       "<div><svg style=\"position: absolute; width: 0; height: 0; overflow: hidden\">\n",
       "<defs>\n",
       "<symbol id=\"icon-database\" viewBox=\"0 0 32 32\">\n",
       "<path d=\"M16 0c-8.837 0-16 2.239-16 5v4c0 2.761 7.163 5 16 5s16-2.239 16-5v-4c0-2.761-7.163-5-16-5z\"></path>\n",
       "<path d=\"M16 17c-8.837 0-16-2.239-16-5v6c0 2.761 7.163 5 16 5s16-2.239 16-5v-6c0 2.761-7.163 5-16 5z\"></path>\n",
       "<path d=\"M16 26c-8.837 0-16-2.239-16-5v6c0 2.761 7.163 5 16 5s16-2.239 16-5v-6c0 2.761-7.163 5-16 5z\"></path>\n",
       "</symbol>\n",
       "<symbol id=\"icon-file-text2\" viewBox=\"0 0 32 32\">\n",
       "<path d=\"M28.681 7.159c-0.694-0.947-1.662-2.053-2.724-3.116s-2.169-2.030-3.116-2.724c-1.612-1.182-2.393-1.319-2.841-1.319h-15.5c-1.378 0-2.5 1.121-2.5 2.5v27c0 1.378 1.122 2.5 2.5 2.5h23c1.378 0 2.5-1.122 2.5-2.5v-19.5c0-0.448-0.137-1.23-1.319-2.841zM24.543 5.457c0.959 0.959 1.712 1.825 2.268 2.543h-4.811v-4.811c0.718 0.556 1.584 1.309 2.543 2.268zM28 29.5c0 0.271-0.229 0.5-0.5 0.5h-23c-0.271 0-0.5-0.229-0.5-0.5v-27c0-0.271 0.229-0.5 0.5-0.5 0 0 15.499-0 15.5 0v7c0 0.552 0.448 1 1 1h7v19.5z\"></path>\n",
       "<path d=\"M23 26h-14c-0.552 0-1-0.448-1-1s0.448-1 1-1h14c0.552 0 1 0.448 1 1s-0.448 1-1 1z\"></path>\n",
       "<path d=\"M23 22h-14c-0.552 0-1-0.448-1-1s0.448-1 1-1h14c0.552 0 1 0.448 1 1s-0.448 1-1 1z\"></path>\n",
       "<path d=\"M23 18h-14c-0.552 0-1-0.448-1-1s0.448-1 1-1h14c0.552 0 1 0.448 1 1s-0.448 1-1 1z\"></path>\n",
       "</symbol>\n",
       "</defs>\n",
       "</svg>\n",
       "<style>/* CSS stylesheet for displaying xarray objects in jupyterlab.\n",
       " *\n",
       " */\n",
       "\n",
       ":root {\n",
       "  --xr-font-color0: var(--jp-content-font-color0, rgba(0, 0, 0, 1));\n",
       "  --xr-font-color2: var(--jp-content-font-color2, rgba(0, 0, 0, 0.54));\n",
       "  --xr-font-color3: var(--jp-content-font-color3, rgba(0, 0, 0, 0.38));\n",
       "  --xr-border-color: var(--jp-border-color2, #e0e0e0);\n",
       "  --xr-disabled-color: var(--jp-layout-color3, #bdbdbd);\n",
       "  --xr-background-color: var(--jp-layout-color0, white);\n",
       "  --xr-background-color-row-even: var(--jp-layout-color1, white);\n",
       "  --xr-background-color-row-odd: var(--jp-layout-color2, #eeeeee);\n",
       "}\n",
       "\n",
       "html[theme=dark],\n",
       "body[data-theme=dark],\n",
       "body.vscode-dark {\n",
       "  --xr-font-color0: rgba(255, 255, 255, 1);\n",
       "  --xr-font-color2: rgba(255, 255, 255, 0.54);\n",
       "  --xr-font-color3: rgba(255, 255, 255, 0.38);\n",
       "  --xr-border-color: #1F1F1F;\n",
       "  --xr-disabled-color: #515151;\n",
       "  --xr-background-color: #111111;\n",
       "  --xr-background-color-row-even: #111111;\n",
       "  --xr-background-color-row-odd: #313131;\n",
       "}\n",
       "\n",
       ".xr-wrap {\n",
       "  display: block !important;\n",
       "  min-width: 300px;\n",
       "  max-width: 700px;\n",
       "}\n",
       "\n",
       ".xr-text-repr-fallback {\n",
       "  /* fallback to plain text repr when CSS is not injected (untrusted notebook) */\n",
       "  display: none;\n",
       "}\n",
       "\n",
       ".xr-header {\n",
       "  padding-top: 6px;\n",
       "  padding-bottom: 6px;\n",
       "  margin-bottom: 4px;\n",
       "  border-bottom: solid 1px var(--xr-border-color);\n",
       "}\n",
       "\n",
       ".xr-header > div,\n",
       ".xr-header > ul {\n",
       "  display: inline;\n",
       "  margin-top: 0;\n",
       "  margin-bottom: 0;\n",
       "}\n",
       "\n",
       ".xr-obj-type,\n",
       ".xr-array-name {\n",
       "  margin-left: 2px;\n",
       "  margin-right: 10px;\n",
       "}\n",
       "\n",
       ".xr-obj-type {\n",
       "  color: var(--xr-font-color2);\n",
       "}\n",
       "\n",
       ".xr-sections {\n",
       "  padding-left: 0 !important;\n",
       "  display: grid;\n",
       "  grid-template-columns: 150px auto auto 1fr 20px 20px;\n",
       "}\n",
       "\n",
       ".xr-section-item {\n",
       "  display: contents;\n",
       "}\n",
       "\n",
       ".xr-section-item input {\n",
       "  display: none;\n",
       "}\n",
       "\n",
       ".xr-section-item input + label {\n",
       "  color: var(--xr-disabled-color);\n",
       "}\n",
       "\n",
       ".xr-section-item input:enabled + label {\n",
       "  cursor: pointer;\n",
       "  color: var(--xr-font-color2);\n",
       "}\n",
       "\n",
       ".xr-section-item input:enabled + label:hover {\n",
       "  color: var(--xr-font-color0);\n",
       "}\n",
       "\n",
       ".xr-section-summary {\n",
       "  grid-column: 1;\n",
       "  color: var(--xr-font-color2);\n",
       "  font-weight: 500;\n",
       "}\n",
       "\n",
       ".xr-section-summary > span {\n",
       "  display: inline-block;\n",
       "  padding-left: 0.5em;\n",
       "}\n",
       "\n",
       ".xr-section-summary-in:disabled + label {\n",
       "  color: var(--xr-font-color2);\n",
       "}\n",
       "\n",
       ".xr-section-summary-in + label:before {\n",
       "  display: inline-block;\n",
       "  content: '►';\n",
       "  font-size: 11px;\n",
       "  width: 15px;\n",
       "  text-align: center;\n",
       "}\n",
       "\n",
       ".xr-section-summary-in:disabled + label:before {\n",
       "  color: var(--xr-disabled-color);\n",
       "}\n",
       "\n",
       ".xr-section-summary-in:checked + label:before {\n",
       "  content: '▼';\n",
       "}\n",
       "\n",
       ".xr-section-summary-in:checked + label > span {\n",
       "  display: none;\n",
       "}\n",
       "\n",
       ".xr-section-summary,\n",
       ".xr-section-inline-details {\n",
       "  padding-top: 4px;\n",
       "  padding-bottom: 4px;\n",
       "}\n",
       "\n",
       ".xr-section-inline-details {\n",
       "  grid-column: 2 / -1;\n",
       "}\n",
       "\n",
       ".xr-section-details {\n",
       "  display: none;\n",
       "  grid-column: 1 / -1;\n",
       "  margin-bottom: 5px;\n",
       "}\n",
       "\n",
       ".xr-section-summary-in:checked ~ .xr-section-details {\n",
       "  display: contents;\n",
       "}\n",
       "\n",
       ".xr-array-wrap {\n",
       "  grid-column: 1 / -1;\n",
       "  display: grid;\n",
       "  grid-template-columns: 20px auto;\n",
       "}\n",
       "\n",
       ".xr-array-wrap > label {\n",
       "  grid-column: 1;\n",
       "  vertical-align: top;\n",
       "}\n",
       "\n",
       ".xr-preview {\n",
       "  color: var(--xr-font-color3);\n",
       "}\n",
       "\n",
       ".xr-array-preview,\n",
       ".xr-array-data {\n",
       "  padding: 0 5px !important;\n",
       "  grid-column: 2;\n",
       "}\n",
       "\n",
       ".xr-array-data,\n",
       ".xr-array-in:checked ~ .xr-array-preview {\n",
       "  display: none;\n",
       "}\n",
       "\n",
       ".xr-array-in:checked ~ .xr-array-data,\n",
       ".xr-array-preview {\n",
       "  display: inline-block;\n",
       "}\n",
       "\n",
       ".xr-dim-list {\n",
       "  display: inline-block !important;\n",
       "  list-style: none;\n",
       "  padding: 0 !important;\n",
       "  margin: 0;\n",
       "}\n",
       "\n",
       ".xr-dim-list li {\n",
       "  display: inline-block;\n",
       "  padding: 0;\n",
       "  margin: 0;\n",
       "}\n",
       "\n",
       ".xr-dim-list:before {\n",
       "  content: '(';\n",
       "}\n",
       "\n",
       ".xr-dim-list:after {\n",
       "  content: ')';\n",
       "}\n",
       "\n",
       ".xr-dim-list li:not(:last-child):after {\n",
       "  content: ',';\n",
       "  padding-right: 5px;\n",
       "}\n",
       "\n",
       ".xr-has-index {\n",
       "  font-weight: bold;\n",
       "}\n",
       "\n",
       ".xr-var-list,\n",
       ".xr-var-item {\n",
       "  display: contents;\n",
       "}\n",
       "\n",
       ".xr-var-item > div,\n",
       ".xr-var-item label,\n",
       ".xr-var-item > .xr-var-name span {\n",
       "  background-color: var(--xr-background-color-row-even);\n",
       "  margin-bottom: 0;\n",
       "}\n",
       "\n",
       ".xr-var-item > .xr-var-name:hover span {\n",
       "  padding-right: 5px;\n",
       "}\n",
       "\n",
       ".xr-var-list > li:nth-child(odd) > div,\n",
       ".xr-var-list > li:nth-child(odd) > label,\n",
       ".xr-var-list > li:nth-child(odd) > .xr-var-name span {\n",
       "  background-color: var(--xr-background-color-row-odd);\n",
       "}\n",
       "\n",
       ".xr-var-name {\n",
       "  grid-column: 1;\n",
       "}\n",
       "\n",
       ".xr-var-dims {\n",
       "  grid-column: 2;\n",
       "}\n",
       "\n",
       ".xr-var-dtype {\n",
       "  grid-column: 3;\n",
       "  text-align: right;\n",
       "  color: var(--xr-font-color2);\n",
       "}\n",
       "\n",
       ".xr-var-preview {\n",
       "  grid-column: 4;\n",
       "}\n",
       "\n",
       ".xr-index-preview {\n",
       "  grid-column: 2 / 5;\n",
       "  color: var(--xr-font-color2);\n",
       "}\n",
       "\n",
       ".xr-var-name,\n",
       ".xr-var-dims,\n",
       ".xr-var-dtype,\n",
       ".xr-preview,\n",
       ".xr-attrs dt {\n",
       "  white-space: nowrap;\n",
       "  overflow: hidden;\n",
       "  text-overflow: ellipsis;\n",
       "  padding-right: 10px;\n",
       "}\n",
       "\n",
       ".xr-var-name:hover,\n",
       ".xr-var-dims:hover,\n",
       ".xr-var-dtype:hover,\n",
       ".xr-attrs dt:hover {\n",
       "  overflow: visible;\n",
       "  width: auto;\n",
       "  z-index: 1;\n",
       "}\n",
       "\n",
       ".xr-var-attrs,\n",
       ".xr-var-data,\n",
       ".xr-index-data {\n",
       "  display: none;\n",
       "  background-color: var(--xr-background-color) !important;\n",
       "  padding-bottom: 5px !important;\n",
       "}\n",
       "\n",
       ".xr-var-attrs-in:checked ~ .xr-var-attrs,\n",
       ".xr-var-data-in:checked ~ .xr-var-data,\n",
       ".xr-index-data-in:checked ~ .xr-index-data {\n",
       "  display: block;\n",
       "}\n",
       "\n",
       ".xr-var-data > table {\n",
       "  float: right;\n",
       "}\n",
       "\n",
       ".xr-var-name span,\n",
       ".xr-var-data,\n",
       ".xr-index-name div,\n",
       ".xr-index-data,\n",
       ".xr-attrs {\n",
       "  padding-left: 25px !important;\n",
       "}\n",
       "\n",
       ".xr-attrs,\n",
       ".xr-var-attrs,\n",
       ".xr-var-data,\n",
       ".xr-index-data {\n",
       "  grid-column: 1 / -1;\n",
       "}\n",
       "\n",
       "dl.xr-attrs {\n",
       "  padding: 0;\n",
       "  margin: 0;\n",
       "  display: grid;\n",
       "  grid-template-columns: 125px auto;\n",
       "}\n",
       "\n",
       ".xr-attrs dt,\n",
       ".xr-attrs dd {\n",
       "  padding: 0;\n",
       "  margin: 0;\n",
       "  float: left;\n",
       "  padding-right: 10px;\n",
       "  width: auto;\n",
       "}\n",
       "\n",
       ".xr-attrs dt {\n",
       "  font-weight: normal;\n",
       "  grid-column: 1;\n",
       "}\n",
       "\n",
       ".xr-attrs dt:hover span {\n",
       "  display: inline-block;\n",
       "  background: var(--xr-background-color);\n",
       "  padding-right: 10px;\n",
       "}\n",
       "\n",
       ".xr-attrs dd {\n",
       "  grid-column: 2;\n",
       "  white-space: pre-wrap;\n",
       "  word-break: break-all;\n",
       "}\n",
       "\n",
       ".xr-icon-database,\n",
       ".xr-icon-file-text2,\n",
       ".xr-no-icon {\n",
       "  display: inline-block;\n",
       "  vertical-align: middle;\n",
       "  width: 1em;\n",
       "  height: 1.5em !important;\n",
       "  stroke-width: 0;\n",
       "  stroke: currentColor;\n",
       "  fill: currentColor;\n",
       "}\n",
       "</style><pre class='xr-text-repr-fallback'>&lt;xarray.Dataset&gt; Size: 441MB\n",
       "Dimensions:    (lat: 1800, lon: 3600)\n",
       "Coordinates:\n",
       "  * lat        (lat) float64 14kB 89.95 89.85 89.75 ... -89.75 -89.85 -89.95\n",
       "  * lon        (lon) float64 29kB -179.9 -179.8 -179.8 ... 179.7 179.8 179.9\n",
       "    time       datetime64[ns] 8B 2023-06-01T12:00:00\n",
       "Data variables: (12/18)\n",
       "    crs        |S1 1B ...\n",
       "    SWI_005    (lat, lon) float32 26MB ...\n",
       "    SWI_010    (lat, lon) float32 26MB ...\n",
       "    SWI_001    (lat, lon) float32 26MB ...\n",
       "    SWI_015    (lat, lon) float32 26MB ...\n",
       "    SWI_100    (lat, lon) float32 26MB ...\n",
       "    ...         ...\n",
       "    QFLAG_100  (lat, lon) float32 26MB ...\n",
       "    QFLAG_020  (lat, lon) float32 26MB ...\n",
       "    QFLAG_005  (lat, lon) float32 26MB ...\n",
       "    QFLAG_001  (lat, lon) float32 26MB ...\n",
       "    QFLAG_060  (lat, lon) float32 26MB ...\n",
       "    SSF        (lat, lon) float32 26MB ...\n",
       "Attributes: (12/25)\n",
       "    Conventions:          CF-1.6\n",
       "    archive_facility:     VITO\n",
       "    copyright:            Copernicus Service information 2023\n",
       "    geospatial_lat_max:   89.95\n",
       "    geospatial_lat_min:   -89.95\n",
       "    geospatial_lon_max:   179.95\n",
       "    ...                   ...\n",
       "    region_name:          GLOBE\n",
       "    sensor:               ASCAT\n",
       "    source:               Derived from EO microwave scatterometer observations\n",
       "    time_coverage_end:    2023-06-01T12:00:00Z\n",
       "    time_coverage_start:  2023-05-31T12:00:00Z\n",
       "    title:                Daily Soil Water Index 0.1degree: GLOBE 2023-06-01T...</pre><div class='xr-wrap' style='display:none'><div class='xr-header'><div class='xr-obj-type'>xarray.Dataset</div></div><ul class='xr-sections'><li class='xr-section-item'><input id='section-b7ca9c11-0d66-45a5-a54f-5261538bfca5' class='xr-section-summary-in' type='checkbox' disabled ><label for='section-b7ca9c11-0d66-45a5-a54f-5261538bfca5' class='xr-section-summary'  title='Expand/collapse section'>Dimensions:</label><div class='xr-section-inline-details'><ul class='xr-dim-list'><li><span class='xr-has-index'>lat</span>: 1800</li><li><span class='xr-has-index'>lon</span>: 3600</li></ul></div><div class='xr-section-details'></div></li><li class='xr-section-item'><input id='section-cfbff535-d15a-4c6e-82af-eac20fd384c1' class='xr-section-summary-in' type='checkbox'  checked><label for='section-cfbff535-d15a-4c6e-82af-eac20fd384c1' class='xr-section-summary' >Coordinates: <span>(3)</span></label><div class='xr-section-inline-details'></div><div class='xr-section-details'><ul class='xr-var-list'><li class='xr-var-item'><div class='xr-var-name'><span class='xr-has-index'>lat</span></div><div class='xr-var-dims'>(lat)</div><div class='xr-var-dtype'>float64</div><div class='xr-var-preview xr-preview'>89.95 89.85 89.75 ... -89.85 -89.95</div><input id='attrs-4f5ffedf-fa58-417a-80e3-7886f75cca06' class='xr-var-attrs-in' type='checkbox' ><label for='attrs-4f5ffedf-fa58-417a-80e3-7886f75cca06' title='Show/Hide attributes'><svg class='icon xr-icon-file-text2'><use xlink:href='#icon-file-text2'></use></svg></label><input id='data-93a25a48-98dd-4367-8c74-8ab09f28f728' class='xr-var-data-in' type='checkbox'><label for='data-93a25a48-98dd-4367-8c74-8ab09f28f728' title='Show/Hide data repr'><svg class='icon xr-icon-database'><use xlink:href='#icon-database'></use></svg></label><div class='xr-var-attrs'><dl class='xr-attrs'><dt><span>standard_name :</span></dt><dd>latitude</dd><dt><span>long_name :</span></dt><dd>latitude</dd><dt><span>units :</span></dt><dd>degrees_north</dd><dt><span>axis :</span></dt><dd>Y</dd><dt><span>valid_range :</span></dt><dd>[-90.  90.]</dd></dl></div><div class='xr-var-data'><pre>array([ 89.95,  89.85,  89.75, ..., -89.75, -89.85, -89.95])</pre></div></li><li class='xr-var-item'><div class='xr-var-name'><span class='xr-has-index'>lon</span></div><div class='xr-var-dims'>(lon)</div><div class='xr-var-dtype'>float64</div><div class='xr-var-preview xr-preview'>-179.9 -179.8 ... 179.8 179.9</div><input id='attrs-08e434e2-5f0f-487d-b9f0-cc97c22aab82' class='xr-var-attrs-in' type='checkbox' ><label for='attrs-08e434e2-5f0f-487d-b9f0-cc97c22aab82' title='Show/Hide attributes'><svg class='icon xr-icon-file-text2'><use xlink:href='#icon-file-text2'></use></svg></label><input id='data-0ad650a9-9f97-4364-a981-e156e8c4d8de' class='xr-var-data-in' type='checkbox'><label for='data-0ad650a9-9f97-4364-a981-e156e8c4d8de' title='Show/Hide data repr'><svg class='icon xr-icon-database'><use xlink:href='#icon-database'></use></svg></label><div class='xr-var-attrs'><dl class='xr-attrs'><dt><span>standard_name :</span></dt><dd>longitude</dd><dt><span>long_name :</span></dt><dd>longitude</dd><dt><span>units :</span></dt><dd>degrees_east</dd><dt><span>axis :</span></dt><dd>X</dd><dt><span>valid_range :</span></dt><dd>[-180.  180.]</dd></dl></div><div class='xr-var-data'><pre>array([-179.95, -179.85, -179.75, ...,  179.75,  179.85,  179.95])</pre></div></li><li class='xr-var-item'><div class='xr-var-name'><span>time</span></div><div class='xr-var-dims'>()</div><div class='xr-var-dtype'>datetime64[ns]</div><div class='xr-var-preview xr-preview'>2023-06-01T12:00:00</div><input id='attrs-8502e03b-4fb5-4d41-bf0f-137cc31b9ebb' class='xr-var-attrs-in' type='checkbox' ><label for='attrs-8502e03b-4fb5-4d41-bf0f-137cc31b9ebb' title='Show/Hide attributes'><svg class='icon xr-icon-file-text2'><use xlink:href='#icon-file-text2'></use></svg></label><input id='data-39e086be-6476-4356-8103-757345ff5d1c' class='xr-var-data-in' type='checkbox'><label for='data-39e086be-6476-4356-8103-757345ff5d1c' title='Show/Hide data repr'><svg class='icon xr-icon-database'><use xlink:href='#icon-database'></use></svg></label><div class='xr-var-attrs'><dl class='xr-attrs'><dt><span>standard_name :</span></dt><dd>time</dd><dt><span>long_name :</span></dt><dd>time</dd><dt><span>axis :</span></dt><dd>T</dd></dl></div><div class='xr-var-data'><pre>array(&#x27;2023-06-01T12:00:00.000000000&#x27;, dtype=&#x27;datetime64[ns]&#x27;)</pre></div></li></ul></div></li><li class='xr-section-item'><input id='section-dc6a8e87-878a-4c06-b189-0c9c057469d5' class='xr-section-summary-in' type='checkbox'  ><label for='section-dc6a8e87-878a-4c06-b189-0c9c057469d5' class='xr-section-summary' >Data variables: <span>(18)</span></label><div class='xr-section-inline-details'></div><div class='xr-section-details'><ul class='xr-var-list'><li class='xr-var-item'><div class='xr-var-name'><span>crs</span></div><div class='xr-var-dims'>()</div><div class='xr-var-dtype'>|S1</div><div class='xr-var-preview xr-preview'>...</div><input id='attrs-f927df92-a034-4c10-92d0-1532d308a412' class='xr-var-attrs-in' type='checkbox' ><label for='attrs-f927df92-a034-4c10-92d0-1532d308a412' title='Show/Hide attributes'><svg class='icon xr-icon-file-text2'><use xlink:href='#icon-file-text2'></use></svg></label><input id='data-a5cf2df6-4562-4a6b-90f3-9d40b5845ef3' class='xr-var-data-in' type='checkbox'><label for='data-a5cf2df6-4562-4a6b-90f3-9d40b5845ef3' title='Show/Hide data repr'><svg class='icon xr-icon-database'><use xlink:href='#icon-database'></use></svg></label><div class='xr-var-attrs'><dl class='xr-attrs'><dt><span>inverse_flattening :</span></dt><dd>298.257223563</dd><dt><span>spatial_ref :</span></dt><dd>GEOGCS[&quot;WGS 84&quot;,DATUM[&quot;WGS_1984&quot;,SPHEROID[&quot;WGS 84&quot;,6378137,298.257223563,AUTHORITY[&quot;EPSG&quot;,&quot;7030&quot;]],AUTHORITY[&quot;EPSG&quot;,&quot;6326&quot;]],PRIMEM[&quot;Greenwich&quot;,0,AUTHORITY[&quot;EPSG&quot;,&quot;8901&quot;]],UNIT[&quot;degree&quot;,0.0174532925199433,AUTHORITY[&quot;EPSG&quot;,&quot;9122&quot;]],AUTHORITY[&quot;EPSG&quot;,&quot;4326&quot;]]</dd><dt><span>semi_major_axis :</span></dt><dd>6378137.0</dd><dt><span>GeoTransform :</span></dt><dd>-180 0.1 0 90 0 -0.1</dd><dt><span>long_name :</span></dt><dd>CRS definition</dd><dt><span>grid_mapping_name :</span></dt><dd>latitude_longitude</dd><dt><span>longitude_of_prime_meridian :</span></dt><dd>0.0</dd></dl></div><div class='xr-var-data'><pre>[1 values with dtype=|S1]</pre></div></li><li class='xr-var-item'><div class='xr-var-name'><span>SWI_005</span></div><div class='xr-var-dims'>(lat, lon)</div><div class='xr-var-dtype'>float32</div><div class='xr-var-preview xr-preview'>...</div><input id='attrs-6e4860f4-55ad-457f-aabe-cc7412ab024b' class='xr-var-attrs-in' type='checkbox' ><label for='attrs-6e4860f4-55ad-457f-aabe-cc7412ab024b' title='Show/Hide attributes'><svg class='icon xr-icon-file-text2'><use xlink:href='#icon-file-text2'></use></svg></label><input id='data-cd21c250-8f08-4e76-9636-28af4055c77a' class='xr-var-data-in' type='checkbox'><label for='data-cd21c250-8f08-4e76-9636-28af4055c77a' title='Show/Hide data repr'><svg class='icon xr-icon-database'><use xlink:href='#icon-database'></use></svg></label><div class='xr-var-attrs'><dl class='xr-attrs'><dt><span>Class :</span></dt><dd>DATA</dd><dt><span>grid_mapping :</span></dt><dd>crs</dd><dt><span>long_name :</span></dt><dd>Soil Water Index with T=5</dd><dt><span>units :</span></dt><dd>%</dd><dt><span>valid_range :</span></dt><dd>[  0 200]</dd></dl></div><div class='xr-var-data'><pre>[6480000 values with dtype=float32]</pre></div></li><li class='xr-var-item'><div class='xr-var-name'><span>SWI_010</span></div><div class='xr-var-dims'>(lat, lon)</div><div class='xr-var-dtype'>float32</div><div class='xr-var-preview xr-preview'>...</div><input id='attrs-2c3dd1e0-e361-4d36-806f-c21b76965c38' class='xr-var-attrs-in' type='checkbox' ><label for='attrs-2c3dd1e0-e361-4d36-806f-c21b76965c38' title='Show/Hide attributes'><svg class='icon xr-icon-file-text2'><use xlink:href='#icon-file-text2'></use></svg></label><input id='data-a19169cf-69bf-4f41-a013-b34fcdeb5209' class='xr-var-data-in' type='checkbox'><label for='data-a19169cf-69bf-4f41-a013-b34fcdeb5209' title='Show/Hide data repr'><svg class='icon xr-icon-database'><use xlink:href='#icon-database'></use></svg></label><div class='xr-var-attrs'><dl class='xr-attrs'><dt><span>Class :</span></dt><dd>DATA</dd><dt><span>grid_mapping :</span></dt><dd>crs</dd><dt><span>long_name :</span></dt><dd>Soil Water Index with T=10</dd><dt><span>units :</span></dt><dd>%</dd><dt><span>valid_range :</span></dt><dd>[  0 200]</dd></dl></div><div class='xr-var-data'><pre>[6480000 values with dtype=float32]</pre></div></li><li class='xr-var-item'><div class='xr-var-name'><span>SWI_001</span></div><div class='xr-var-dims'>(lat, lon)</div><div class='xr-var-dtype'>float32</div><div class='xr-var-preview xr-preview'>...</div><input id='attrs-88cd493f-9d0b-4822-abf0-f0743b0241b5' class='xr-var-attrs-in' type='checkbox' ><label for='attrs-88cd493f-9d0b-4822-abf0-f0743b0241b5' title='Show/Hide attributes'><svg class='icon xr-icon-file-text2'><use xlink:href='#icon-file-text2'></use></svg></label><input id='data-0f996c78-bfcd-45e9-b68e-fde3918a09d8' class='xr-var-data-in' type='checkbox'><label for='data-0f996c78-bfcd-45e9-b68e-fde3918a09d8' title='Show/Hide data repr'><svg class='icon xr-icon-database'><use xlink:href='#icon-database'></use></svg></label><div class='xr-var-attrs'><dl class='xr-attrs'><dt><span>Class :</span></dt><dd>DATA</dd><dt><span>grid_mapping :</span></dt><dd>crs</dd><dt><span>long_name :</span></dt><dd>Soil Water Index with T=1</dd><dt><span>units :</span></dt><dd>%</dd><dt><span>valid_range :</span></dt><dd>[  0 200]</dd></dl></div><div class='xr-var-data'><pre>[6480000 values with dtype=float32]</pre></div></li><li class='xr-var-item'><div class='xr-var-name'><span>SWI_015</span></div><div class='xr-var-dims'>(lat, lon)</div><div class='xr-var-dtype'>float32</div><div class='xr-var-preview xr-preview'>...</div><input id='attrs-017319ba-879e-444c-a559-1b45be7007cc' class='xr-var-attrs-in' type='checkbox' ><label for='attrs-017319ba-879e-444c-a559-1b45be7007cc' title='Show/Hide attributes'><svg class='icon xr-icon-file-text2'><use xlink:href='#icon-file-text2'></use></svg></label><input id='data-7b4486ac-74e2-4a63-9a37-a341a1341ef7' class='xr-var-data-in' type='checkbox'><label for='data-7b4486ac-74e2-4a63-9a37-a341a1341ef7' title='Show/Hide data repr'><svg class='icon xr-icon-database'><use xlink:href='#icon-database'></use></svg></label><div class='xr-var-attrs'><dl class='xr-attrs'><dt><span>Class :</span></dt><dd>DATA</dd><dt><span>grid_mapping :</span></dt><dd>crs</dd><dt><span>long_name :</span></dt><dd>Soil Water Index with T=15</dd><dt><span>units :</span></dt><dd>%</dd><dt><span>valid_range :</span></dt><dd>[  0 200]</dd></dl></div><div class='xr-var-data'><pre>[6480000 values with dtype=float32]</pre></div></li><li class='xr-var-item'><div class='xr-var-name'><span>SWI_100</span></div><div class='xr-var-dims'>(lat, lon)</div><div class='xr-var-dtype'>float32</div><div class='xr-var-preview xr-preview'>...</div><input id='attrs-73ad91f5-4020-4bbd-b3dd-91e1eb84995a' class='xr-var-attrs-in' type='checkbox' ><label for='attrs-73ad91f5-4020-4bbd-b3dd-91e1eb84995a' title='Show/Hide attributes'><svg class='icon xr-icon-file-text2'><use xlink:href='#icon-file-text2'></use></svg></label><input id='data-c2dfebf6-4002-4dfb-a370-8fc9969106af' class='xr-var-data-in' type='checkbox'><label for='data-c2dfebf6-4002-4dfb-a370-8fc9969106af' title='Show/Hide data repr'><svg class='icon xr-icon-database'><use xlink:href='#icon-database'></use></svg></label><div class='xr-var-attrs'><dl class='xr-attrs'><dt><span>Class :</span></dt><dd>DATA</dd><dt><span>grid_mapping :</span></dt><dd>crs</dd><dt><span>long_name :</span></dt><dd>Soil Water Index with T=100</dd><dt><span>units :</span></dt><dd>%</dd><dt><span>valid_range :</span></dt><dd>[  0 200]</dd></dl></div><div class='xr-var-data'><pre>[6480000 values with dtype=float32]</pre></div></li><li class='xr-var-item'><div class='xr-var-name'><span>SWI_040</span></div><div class='xr-var-dims'>(lat, lon)</div><div class='xr-var-dtype'>float32</div><div class='xr-var-preview xr-preview'>...</div><input id='attrs-9fc44e8b-17ee-4292-9991-d6c316799f23' class='xr-var-attrs-in' type='checkbox' ><label for='attrs-9fc44e8b-17ee-4292-9991-d6c316799f23' title='Show/Hide attributes'><svg class='icon xr-icon-file-text2'><use xlink:href='#icon-file-text2'></use></svg></label><input id='data-067ea3e8-f806-4a1e-93ee-0bec336d13cd' class='xr-var-data-in' type='checkbox'><label for='data-067ea3e8-f806-4a1e-93ee-0bec336d13cd' title='Show/Hide data repr'><svg class='icon xr-icon-database'><use xlink:href='#icon-database'></use></svg></label><div class='xr-var-attrs'><dl class='xr-attrs'><dt><span>Class :</span></dt><dd>DATA</dd><dt><span>grid_mapping :</span></dt><dd>crs</dd><dt><span>long_name :</span></dt><dd>Soil Water Index with T=40</dd><dt><span>units :</span></dt><dd>%</dd><dt><span>valid_range :</span></dt><dd>[  0 200]</dd></dl></div><div class='xr-var-data'><pre>[6480000 values with dtype=float32]</pre></div></li><li class='xr-var-item'><div class='xr-var-name'><span>SWI_060</span></div><div class='xr-var-dims'>(lat, lon)</div><div class='xr-var-dtype'>float32</div><div class='xr-var-preview xr-preview'>...</div><input id='attrs-8159371c-b507-49ce-8563-044292143fe8' class='xr-var-attrs-in' type='checkbox' ><label for='attrs-8159371c-b507-49ce-8563-044292143fe8' title='Show/Hide attributes'><svg class='icon xr-icon-file-text2'><use xlink:href='#icon-file-text2'></use></svg></label><input id='data-e2b7f327-9c6a-4f99-995c-f01ee743cf72' class='xr-var-data-in' type='checkbox'><label for='data-e2b7f327-9c6a-4f99-995c-f01ee743cf72' title='Show/Hide data repr'><svg class='icon xr-icon-database'><use xlink:href='#icon-database'></use></svg></label><div class='xr-var-attrs'><dl class='xr-attrs'><dt><span>Class :</span></dt><dd>DATA</dd><dt><span>grid_mapping :</span></dt><dd>crs</dd><dt><span>long_name :</span></dt><dd>Soil Water Index with T=60</dd><dt><span>units :</span></dt><dd>%</dd><dt><span>valid_range :</span></dt><dd>[  0 200]</dd></dl></div><div class='xr-var-data'><pre>[6480000 values with dtype=float32]</pre></div></li><li class='xr-var-item'><div class='xr-var-name'><span>SWI_020</span></div><div class='xr-var-dims'>(lat, lon)</div><div class='xr-var-dtype'>float32</div><div class='xr-var-preview xr-preview'>...</div><input id='attrs-c981ac44-73ef-4efe-a146-d2dc9634258d' class='xr-var-attrs-in' type='checkbox' ><label for='attrs-c981ac44-73ef-4efe-a146-d2dc9634258d' title='Show/Hide attributes'><svg class='icon xr-icon-file-text2'><use xlink:href='#icon-file-text2'></use></svg></label><input id='data-3021daff-0aae-40a1-8d31-8169727a9fb6' class='xr-var-data-in' type='checkbox'><label for='data-3021daff-0aae-40a1-8d31-8169727a9fb6' title='Show/Hide data repr'><svg class='icon xr-icon-database'><use xlink:href='#icon-database'></use></svg></label><div class='xr-var-attrs'><dl class='xr-attrs'><dt><span>Class :</span></dt><dd>DATA</dd><dt><span>grid_mapping :</span></dt><dd>crs</dd><dt><span>long_name :</span></dt><dd>Soil Water Index with T=20</dd><dt><span>units :</span></dt><dd>%</dd><dt><span>valid_range :</span></dt><dd>[  0 200]</dd></dl></div><div class='xr-var-data'><pre>[6480000 values with dtype=float32]</pre></div></li><li class='xr-var-item'><div class='xr-var-name'><span>QFLAG_040</span></div><div class='xr-var-dims'>(lat, lon)</div><div class='xr-var-dtype'>float32</div><div class='xr-var-preview xr-preview'>...</div><input id='attrs-498a7be3-b28c-4917-ac53-3e0cf2950f50' class='xr-var-attrs-in' type='checkbox' ><label for='attrs-498a7be3-b28c-4917-ac53-3e0cf2950f50' title='Show/Hide attributes'><svg class='icon xr-icon-file-text2'><use xlink:href='#icon-file-text2'></use></svg></label><input id='data-86c80b47-2652-42d4-86f3-f24d5307c6f6' class='xr-var-data-in' type='checkbox'><label for='data-86c80b47-2652-42d4-86f3-f24d5307c6f6' title='Show/Hide data repr'><svg class='icon xr-icon-database'><use xlink:href='#icon-database'></use></svg></label><div class='xr-var-attrs'><dl class='xr-attrs'><dt><span>Class :</span></dt><dd>DATA</dd><dt><span>grid_mapping :</span></dt><dd>crs</dd><dt><span>long_name :</span></dt><dd>Quality Flag with T=40</dd><dt><span>units :</span></dt><dd>%</dd><dt><span>valid_range :</span></dt><dd>[  0 200]</dd></dl></div><div class='xr-var-data'><pre>[6480000 values with dtype=float32]</pre></div></li><li class='xr-var-item'><div class='xr-var-name'><span>QFLAG_010</span></div><div class='xr-var-dims'>(lat, lon)</div><div class='xr-var-dtype'>float32</div><div class='xr-var-preview xr-preview'>...</div><input id='attrs-ea9b2e39-48d2-47c0-91e7-dff7f48c8db0' class='xr-var-attrs-in' type='checkbox' ><label for='attrs-ea9b2e39-48d2-47c0-91e7-dff7f48c8db0' title='Show/Hide attributes'><svg class='icon xr-icon-file-text2'><use xlink:href='#icon-file-text2'></use></svg></label><input id='data-7fd061a9-9704-4884-8d76-03940cb5332d' class='xr-var-data-in' type='checkbox'><label for='data-7fd061a9-9704-4884-8d76-03940cb5332d' title='Show/Hide data repr'><svg class='icon xr-icon-database'><use xlink:href='#icon-database'></use></svg></label><div class='xr-var-attrs'><dl class='xr-attrs'><dt><span>Class :</span></dt><dd>DATA</dd><dt><span>grid_mapping :</span></dt><dd>crs</dd><dt><span>long_name :</span></dt><dd>Quality Flag with T=10</dd><dt><span>units :</span></dt><dd>%</dd><dt><span>valid_range :</span></dt><dd>[  0 200]</dd></dl></div><div class='xr-var-data'><pre>[6480000 values with dtype=float32]</pre></div></li><li class='xr-var-item'><div class='xr-var-name'><span>QFLAG_015</span></div><div class='xr-var-dims'>(lat, lon)</div><div class='xr-var-dtype'>float32</div><div class='xr-var-preview xr-preview'>...</div><input id='attrs-ef7e46d7-2d85-49b2-a850-24d65bddb1e8' class='xr-var-attrs-in' type='checkbox' ><label for='attrs-ef7e46d7-2d85-49b2-a850-24d65bddb1e8' title='Show/Hide attributes'><svg class='icon xr-icon-file-text2'><use xlink:href='#icon-file-text2'></use></svg></label><input id='data-234f4e2c-f13f-406a-997b-8773ddae794e' class='xr-var-data-in' type='checkbox'><label for='data-234f4e2c-f13f-406a-997b-8773ddae794e' title='Show/Hide data repr'><svg class='icon xr-icon-database'><use xlink:href='#icon-database'></use></svg></label><div class='xr-var-attrs'><dl class='xr-attrs'><dt><span>Class :</span></dt><dd>DATA</dd><dt><span>grid_mapping :</span></dt><dd>crs</dd><dt><span>long_name :</span></dt><dd>Quality Flag with T=15</dd><dt><span>units :</span></dt><dd>%</dd><dt><span>valid_range :</span></dt><dd>[  0 200]</dd></dl></div><div class='xr-var-data'><pre>[6480000 values with dtype=float32]</pre></div></li><li class='xr-var-item'><div class='xr-var-name'><span>QFLAG_100</span></div><div class='xr-var-dims'>(lat, lon)</div><div class='xr-var-dtype'>float32</div><div class='xr-var-preview xr-preview'>...</div><input id='attrs-940d8169-37bf-4b31-b08f-1e51b57d2bcc' class='xr-var-attrs-in' type='checkbox' ><label for='attrs-940d8169-37bf-4b31-b08f-1e51b57d2bcc' title='Show/Hide attributes'><svg class='icon xr-icon-file-text2'><use xlink:href='#icon-file-text2'></use></svg></label><input id='data-3fda1f5f-0256-42d3-a4e0-825ff473b774' class='xr-var-data-in' type='checkbox'><label for='data-3fda1f5f-0256-42d3-a4e0-825ff473b774' title='Show/Hide data repr'><svg class='icon xr-icon-database'><use xlink:href='#icon-database'></use></svg></label><div class='xr-var-attrs'><dl class='xr-attrs'><dt><span>Class :</span></dt><dd>DATA</dd><dt><span>grid_mapping :</span></dt><dd>crs</dd><dt><span>long_name :</span></dt><dd>Quality Flag with T=100</dd><dt><span>units :</span></dt><dd>%</dd><dt><span>valid_range :</span></dt><dd>[  0 200]</dd></dl></div><div class='xr-var-data'><pre>[6480000 values with dtype=float32]</pre></div></li><li class='xr-var-item'><div class='xr-var-name'><span>QFLAG_020</span></div><div class='xr-var-dims'>(lat, lon)</div><div class='xr-var-dtype'>float32</div><div class='xr-var-preview xr-preview'>...</div><input id='attrs-ad76f63c-a172-4567-bd0f-c74b1be59269' class='xr-var-attrs-in' type='checkbox' ><label for='attrs-ad76f63c-a172-4567-bd0f-c74b1be59269' title='Show/Hide attributes'><svg class='icon xr-icon-file-text2'><use xlink:href='#icon-file-text2'></use></svg></label><input id='data-4f38c791-813e-4322-99d0-2b26f1e0474d' class='xr-var-data-in' type='checkbox'><label for='data-4f38c791-813e-4322-99d0-2b26f1e0474d' title='Show/Hide data repr'><svg class='icon xr-icon-database'><use xlink:href='#icon-database'></use></svg></label><div class='xr-var-attrs'><dl class='xr-attrs'><dt><span>Class :</span></dt><dd>DATA</dd><dt><span>grid_mapping :</span></dt><dd>crs</dd><dt><span>long_name :</span></dt><dd>Quality Flag with T=20</dd><dt><span>units :</span></dt><dd>%</dd><dt><span>valid_range :</span></dt><dd>[  0 200]</dd></dl></div><div class='xr-var-data'><pre>[6480000 values with dtype=float32]</pre></div></li><li class='xr-var-item'><div class='xr-var-name'><span>QFLAG_005</span></div><div class='xr-var-dims'>(lat, lon)</div><div class='xr-var-dtype'>float32</div><div class='xr-var-preview xr-preview'>...</div><input id='attrs-4769fbe6-00c4-4116-af20-4b194a9af4cd' class='xr-var-attrs-in' type='checkbox' ><label for='attrs-4769fbe6-00c4-4116-af20-4b194a9af4cd' title='Show/Hide attributes'><svg class='icon xr-icon-file-text2'><use xlink:href='#icon-file-text2'></use></svg></label><input id='data-da2070b8-cb98-47be-a6c9-c5bcc1ac2ec8' class='xr-var-data-in' type='checkbox'><label for='data-da2070b8-cb98-47be-a6c9-c5bcc1ac2ec8' title='Show/Hide data repr'><svg class='icon xr-icon-database'><use xlink:href='#icon-database'></use></svg></label><div class='xr-var-attrs'><dl class='xr-attrs'><dt><span>Class :</span></dt><dd>DATA</dd><dt><span>grid_mapping :</span></dt><dd>crs</dd><dt><span>long_name :</span></dt><dd>Quality Flag with T=5</dd><dt><span>units :</span></dt><dd>%</dd><dt><span>valid_range :</span></dt><dd>[  0 200]</dd></dl></div><div class='xr-var-data'><pre>[6480000 values with dtype=float32]</pre></div></li><li class='xr-var-item'><div class='xr-var-name'><span>QFLAG_001</span></div><div class='xr-var-dims'>(lat, lon)</div><div class='xr-var-dtype'>float32</div><div class='xr-var-preview xr-preview'>...</div><input id='attrs-c3d8d13c-a054-4f84-b50a-1d56823dbc55' class='xr-var-attrs-in' type='checkbox' ><label for='attrs-c3d8d13c-a054-4f84-b50a-1d56823dbc55' title='Show/Hide attributes'><svg class='icon xr-icon-file-text2'><use xlink:href='#icon-file-text2'></use></svg></label><input id='data-e2caf59e-229a-4c34-bc5a-12c15184a88e' class='xr-var-data-in' type='checkbox'><label for='data-e2caf59e-229a-4c34-bc5a-12c15184a88e' title='Show/Hide data repr'><svg class='icon xr-icon-database'><use xlink:href='#icon-database'></use></svg></label><div class='xr-var-attrs'><dl class='xr-attrs'><dt><span>Class :</span></dt><dd>DATA</dd><dt><span>grid_mapping :</span></dt><dd>crs</dd><dt><span>long_name :</span></dt><dd>Quality Flag with T=1</dd><dt><span>units :</span></dt><dd>%</dd><dt><span>valid_range :</span></dt><dd>[  0 200]</dd></dl></div><div class='xr-var-data'><pre>[6480000 values with dtype=float32]</pre></div></li><li class='xr-var-item'><div class='xr-var-name'><span>QFLAG_060</span></div><div class='xr-var-dims'>(lat, lon)</div><div class='xr-var-dtype'>float32</div><div class='xr-var-preview xr-preview'>...</div><input id='attrs-e2cde946-62f1-445a-912f-44f87a331802' class='xr-var-attrs-in' type='checkbox' ><label for='attrs-e2cde946-62f1-445a-912f-44f87a331802' title='Show/Hide attributes'><svg class='icon xr-icon-file-text2'><use xlink:href='#icon-file-text2'></use></svg></label><input id='data-3a646b60-502b-4275-a739-f3068147aeb0' class='xr-var-data-in' type='checkbox'><label for='data-3a646b60-502b-4275-a739-f3068147aeb0' title='Show/Hide data repr'><svg class='icon xr-icon-database'><use xlink:href='#icon-database'></use></svg></label><div class='xr-var-attrs'><dl class='xr-attrs'><dt><span>Class :</span></dt><dd>DATA</dd><dt><span>grid_mapping :</span></dt><dd>crs</dd><dt><span>long_name :</span></dt><dd>Quality Flag with T=60</dd><dt><span>units :</span></dt><dd>%</dd><dt><span>valid_range :</span></dt><dd>[  0 200]</dd></dl></div><div class='xr-var-data'><pre>[6480000 values with dtype=float32]</pre></div></li><li class='xr-var-item'><div class='xr-var-name'><span>SSF</span></div><div class='xr-var-dims'>(lat, lon)</div><div class='xr-var-dtype'>float32</div><div class='xr-var-preview xr-preview'>...</div><input id='attrs-68ca8304-ecab-48f6-adb2-e070b01d7fac' class='xr-var-attrs-in' type='checkbox' ><label for='attrs-68ca8304-ecab-48f6-adb2-e070b01d7fac' title='Show/Hide attributes'><svg class='icon xr-icon-file-text2'><use xlink:href='#icon-file-text2'></use></svg></label><input id='data-b817ccd3-27bb-458f-a2cc-6bd742463822' class='xr-var-data-in' type='checkbox'><label for='data-b817ccd3-27bb-458f-a2cc-6bd742463822' title='Show/Hide data repr'><svg class='icon xr-icon-database'><use xlink:href='#icon-database'></use></svg></label><div class='xr-var-attrs'><dl class='xr-attrs'><dt><span>Class :</span></dt><dd>DATA</dd><dt><span>flag_meanings :</span></dt><dd>Unknown Unfrozen Frozen Melting_or_Surface_Water Missing</dd><dt><span>flag_values :</span></dt><dd>[  0   1   2   3 255]</dd><dt><span>grid_mapping :</span></dt><dd>crs</dd><dt><span>long_name :</span></dt><dd>Surface State Flag</dd><dt><span>valid_range :</span></dt><dd>[0 4]</dd></dl></div><div class='xr-var-data'><pre>[6480000 values with dtype=float32]</pre></div></li></ul></div></li><li class='xr-section-item'><input id='section-7a69ac68-25cc-4e40-a181-a3041ba83510' class='xr-section-summary-in' type='checkbox'  ><label for='section-7a69ac68-25cc-4e40-a181-a3041ba83510' class='xr-section-summary' >Indexes: <span>(2)</span></label><div class='xr-section-inline-details'></div><div class='xr-section-details'><ul class='xr-var-list'><li class='xr-var-item'><div class='xr-index-name'><div>lat</div></div><div class='xr-index-preview'>PandasIndex</div><div></div><input id='index-25d026ae-8385-49af-ba8b-e97158f80611' class='xr-index-data-in' type='checkbox'/><label for='index-25d026ae-8385-49af-ba8b-e97158f80611' title='Show/Hide index repr'><svg class='icon xr-icon-database'><use xlink:href='#icon-database'></use></svg></label><div class='xr-index-data'><pre>PandasIndex(Index([ 89.94999999998977,  89.84999999998978,  89.74999999998978,\n",
       "        89.64999999998979,   89.5499999999898,   89.4499999999898,\n",
       "         89.3499999999898,  89.24999999998981,  89.14999999998982,\n",
       "        89.04999999998982,\n",
       "       ...\n",
       "       -89.05000000000005, -89.15000000000005, -89.25000000000004,\n",
       "       -89.35000000000004, -89.45000000000003, -89.55000000000003,\n",
       "       -89.65000000000002, -89.75000000000001, -89.85000000000001,\n",
       "                   -89.95],\n",
       "      dtype=&#x27;float64&#x27;, name=&#x27;lat&#x27;, length=1800))</pre></div></li><li class='xr-var-item'><div class='xr-index-name'><div>lon</div></div><div class='xr-index-preview'>PandasIndex</div><div></div><input id='index-7564fe82-9844-4028-a252-6e632a671513' class='xr-index-data-in' type='checkbox'/><label for='index-7564fe82-9844-4028-a252-6e632a671513' title='Show/Hide index repr'><svg class='icon xr-icon-database'><use xlink:href='#icon-database'></use></svg></label><div class='xr-index-data'><pre>PandasIndex(Index([            -179.95,             -179.85,             -179.75,\n",
       "                   -179.65,             -179.55, -179.45000000000002,\n",
       "       -179.35000000000002, -179.25000000000003, -179.15000000000003,\n",
       "       -179.05000000000004,\n",
       "       ...\n",
       "         179.0499999999796,  179.14999999997957,   179.2499999999796,\n",
       "        179.34999999997962,  179.44999999997958,  179.54999999997955,\n",
       "        179.64999999997957,   179.7499999999796,  179.84999999997956,\n",
       "        179.94999999997953],\n",
       "      dtype=&#x27;float64&#x27;, name=&#x27;lon&#x27;, length=3600))</pre></div></li></ul></div></li><li class='xr-section-item'><input id='section-96d78c77-0ed4-4348-93ea-d42c3154cf7a' class='xr-section-summary-in' type='checkbox'  ><label for='section-96d78c77-0ed4-4348-93ea-d42c3154cf7a' class='xr-section-summary' >Attributes: <span>(25)</span></label><div class='xr-section-inline-details'></div><div class='xr-section-details'><dl class='xr-attrs'><dt><span>Conventions :</span></dt><dd>CF-1.6</dd><dt><span>archive_facility :</span></dt><dd>VITO</dd><dt><span>copyright :</span></dt><dd>Copernicus Service information 2023</dd><dt><span>geospatial_lat_max :</span></dt><dd>89.95</dd><dt><span>geospatial_lat_min :</span></dt><dd>-89.95</dd><dt><span>geospatial_lon_max :</span></dt><dd>179.95</dd><dt><span>geospatial_lon_min :</span></dt><dd>-179.95</dd><dt><span>history :</span></dt><dd>2023-06-01 -- SWI NRT Production</dd><dt><span>identifier :</span></dt><dd>urn:cgls:global:swi_v3_0.1degree:SWI_202306011200_GLOBE_ASCAT_V3.2.1</dd><dt><span>institution :</span></dt><dd>TU Wien</dd><dt><span>long_name :</span></dt><dd>Soil Water Index</dd><dt><span>orbit_type :</span></dt><dd>LEO</dd><dt><span>parent_identifier :</span></dt><dd>urn:cgls:global:swi_v3_0.1degree</dd><dt><span>pixel_size :</span></dt><dd>0.1 degrees</dd><dt><span>platform :</span></dt><dd>METOP B+C</dd><dt><span>processing_level :</span></dt><dd>L3</dd><dt><span>processing_mode :</span></dt><dd>NRT Production</dd><dt><span>product_version :</span></dt><dd>V3.1.2</dd><dt><span>references :</span></dt><dd>https://land.copernicus.eu/global/products/swi</dd><dt><span>region_name :</span></dt><dd>GLOBE</dd><dt><span>sensor :</span></dt><dd>ASCAT</dd><dt><span>source :</span></dt><dd>Derived from EO microwave scatterometer observations</dd><dt><span>time_coverage_end :</span></dt><dd>2023-06-01T12:00:00Z</dd><dt><span>time_coverage_start :</span></dt><dd>2023-05-31T12:00:00Z</dd><dt><span>title :</span></dt><dd>Daily Soil Water Index 0.1degree: GLOBE 2023-06-01T12:00:00Z</dd></dl></div></li></ul></div></div>"
      ],
      "text/plain": [
       "<xarray.Dataset> Size: 441MB\n",
       "Dimensions:    (lat: 1800, lon: 3600)\n",
       "Coordinates:\n",
       "  * lat        (lat) float64 14kB 89.95 89.85 89.75 ... -89.75 -89.85 -89.95\n",
       "  * lon        (lon) float64 29kB -179.9 -179.8 -179.8 ... 179.7 179.8 179.9\n",
       "    time       datetime64[ns] 8B 2023-06-01T12:00:00\n",
       "Data variables: (12/18)\n",
       "    crs        |S1 1B ...\n",
       "    SWI_005    (lat, lon) float32 26MB ...\n",
       "    SWI_010    (lat, lon) float32 26MB ...\n",
       "    SWI_001    (lat, lon) float32 26MB ...\n",
       "    SWI_015    (lat, lon) float32 26MB ...\n",
       "    SWI_100    (lat, lon) float32 26MB ...\n",
       "    ...         ...\n",
       "    QFLAG_100  (lat, lon) float32 26MB ...\n",
       "    QFLAG_020  (lat, lon) float32 26MB ...\n",
       "    QFLAG_005  (lat, lon) float32 26MB ...\n",
       "    QFLAG_001  (lat, lon) float32 26MB ...\n",
       "    QFLAG_060  (lat, lon) float32 26MB ...\n",
       "    SSF        (lat, lon) float32 26MB ...\n",
       "Attributes: (12/25)\n",
       "    Conventions:          CF-1.6\n",
       "    archive_facility:     VITO\n",
       "    copyright:            Copernicus Service information 2023\n",
       "    geospatial_lat_max:   89.95\n",
       "    geospatial_lat_min:   -89.95\n",
       "    geospatial_lon_max:   179.95\n",
       "    ...                   ...\n",
       "    region_name:          GLOBE\n",
       "    sensor:               ASCAT\n",
       "    source:               Derived from EO microwave scatterometer observations\n",
       "    time_coverage_end:    2023-06-01T12:00:00Z\n",
       "    time_coverage_start:  2023-05-31T12:00:00Z\n",
       "    title:                Daily Soil Water Index 0.1degree: GLOBE 2023-06-01T..."
      ]
     },
     "execution_count": 47,
     "metadata": {},
     "output_type": "execute_result"
    }
   ],
   "source": [
    "data = ncfile.isel(time=0)\n",
    "data"
   ]
  },
  {
   "cell_type": "markdown",
   "id": "9a8b1cf9-600d-433b-821c-33ab0ff279c3",
   "metadata": {},
   "source": [
    "## Visualize the data"
   ]
  },
  {
   "cell_type": "code",
   "execution_count": 76,
   "id": "a940407a-0720-4718-8e73-c8e3e3e78aeb",
   "metadata": {},
   "outputs": [],
   "source": [
    "m = Maps(layer=\"all\", figsize=(6, 4))\n",
    "m.add_feature.preset(\"coastline\", \"ocean\")"
   ]
  },
  {
   "cell_type": "markdown",
   "id": "20835784-f28f-49ed-a14f-9b04edcb922b",
   "metadata": {},
   "source": [
    "### SWI layer"
   ]
  },
  {
   "cell_type": "code",
   "execution_count": 77,
   "id": "b6877c6c-70b0-4716-977c-e4ddd971d847",
   "metadata": {},
   "outputs": [],
   "source": [
    "# data.SWI_040"
   ]
  },
  {
   "cell_type": "markdown",
   "id": "253740b4-df0d-4d63-bc90-ca388e0038b1",
   "metadata": {},
   "source": [
    "Create a new layer to plot the SWI"
   ]
  },
  {
   "cell_type": "code",
   "execution_count": 78,
   "id": "687b68b9-5b6f-4ff4-a534-169bac7fb301",
   "metadata": {},
   "outputs": [],
   "source": [
    "m_swi40 = m.new_layer(\"SWI 40\")\n",
    "m.show_layer(m_swi40.layer)"
   ]
  },
  {
   "cell_type": "markdown",
   "id": "8234a6dd-a408-45a1-8618-efa8812cc135",
   "metadata": {},
   "source": [
    "Plot the \"Soil Water Index\" with T=40"
   ]
  },
  {
   "cell_type": "code",
   "execution_count": 79,
   "id": "b7e0968c-be6b-4ced-8cbc-a3b3e334124d",
   "metadata": {},
   "outputs": [],
   "source": [
    "m_swi40.set_data(data, \"lon\", \"lat\", parameter=\"SWI_040\", crs=ncfile.crs.spatial_ref)\n",
    "m_swi40.set_shape.shade_raster()\n",
    "m_swi40.plot_map()"
   ]
  },
  {
   "cell_type": "markdown",
   "id": "55910579-dc3f-42c8-bf9f-bb86cb101d84",
   "metadata": {},
   "source": [
    "Add a colorbar"
   ]
  },
  {
   "cell_type": "code",
   "execution_count": 80,
   "id": "23444fe9-a14f-4b14-bf0e-7aad49c3f714",
   "metadata": {},
   "outputs": [],
   "source": [
    "_ = m_swi40.add_colorbar(hist_bins=100, label=\"Soil Water Index (T=40)\")"
   ]
  },
  {
   "cell_type": "markdown",
   "id": "dd7c6bc9-ff8f-4f18-90d1-668db72fbd99",
   "metadata": {},
   "source": [
    "### QFLAG layer"
   ]
  },
  {
   "cell_type": "code",
   "execution_count": 81,
   "id": "c6aef129-0be6-4332-a57d-56675f194853",
   "metadata": {},
   "outputs": [],
   "source": [
    "# data.QFLAG_040"
   ]
  },
  {
   "cell_type": "markdown",
   "id": "307dbe45-fb9a-4a69-866d-8e3ca5ba9de3",
   "metadata": {},
   "source": [
    "Create a colormap that goes from red to transparent to overlay the QFLAG on top of the SWI values"
   ]
  },
  {
   "cell_type": "code",
   "execution_count": 82,
   "id": "26b982ae-7808-4524-97ab-9bce7eeadb48",
   "metadata": {},
   "outputs": [
    {
     "data": {
      "image/png": "[encoded data removed]",
      "text/html": [
       "<div style=\"vertical-align: middle;\"><strong>qflag cmap</strong> </div><div class=\"cmap\"><img alt=\"qflag cmap colormap\" title=\"qflag cmap\" style=\"border: 1px solid #555;\" src=\"data:image/png;base64,iVBORw0KGgoAAAANSUhEUgAAAgAAAABACAYAAABsv8+/AAAAGXRFWHRUaXRsZQBxZmxhZyBjbWFwIGNvbG9ybWFwEJmGzQAAAB90RVh0RGVzY3JpcHRpb24AcWZsYWcgY21hcCBjb2xvcm1hcGqxR4MAAAAwdEVYdEF1dGhvcgBNYXRwbG90bGliIHYzLjguNCwgaHR0cHM6Ly9tYXRwbG90bGliLm9yZ2TOsrQAAAAydEVYdFNvZnR3YXJlAE1hdHBsb3RsaWIgdjMuOC40LCBodHRwczovL21hdHBsb3RsaWIub3JnSmgtkwAAAShJREFUeJzt1jEBwDAMwLB0/DmnZznM0mMKPjuz86yqqqr+vvMNAJBjAAAgyAAAQJABAIAgAwAAQQYAAIIMAAAEGQAACDIAABBkAAAgyAAAQJABAIAgAwAAQQYAAIIMAAAEGQAACDIAABBkAAAgyAAAQJABAIAgAwAAQQYAAIIMAAAEGQAACDIAABBkAAAgyAAAQJABAIAgAwAAQQYAAIIMAAAEGQAACDIAABBkAAAgyAAAQJABAIAgAwAAQQYAAIIMAAAEGQAACDIAABBkAAAgyAAAQJABAIAgAwAAQQYAAIIMAAAEGQAACDIAABBkAAAgyAAAQJABAIAgAwAAQQYAAIIMAAAEGQAACDIAABBkAAAgyAAAQJABAIAgAwAAQQYAAIIMAAAEXYLG/4CB0vySAAAAAElFTkSuQmCC\"></div><div style=\"vertical-align: middle; max-width: 514px; display: flex; justify-content: space-between;\"><div style=\"float: left;\"><div title=\"#ff0000ff\" style=\"display: inline-block; width: 1em; height: 1em; margin: 0; vertical-align: middle; border: 1px solid #555; background-color: #ff0000ff;\"></div> under</div><div style=\"margin: 0 auto; display: inline-block;\">bad <div title=\"#00000000\" style=\"display: inline-block; width: 1em; height: 1em; margin: 0; vertical-align: middle; border: 1px solid #555; background-color: #00000000;\"></div></div><div style=\"float: right;\">over <div title=\"#ff000001\" style=\"display: inline-block; width: 1em; height: 1em; margin: 0; vertical-align: middle; border: 1px solid #555; background-color: #ff000001;\"></div></div>"
      ],
      "text/plain": [
       "<matplotlib.colors.ListedColormap at 0x26036a8b810>"
      ]
     },
     "execution_count": 82,
     "metadata": {},
     "output_type": "execute_result"
    }
   ],
   "source": [
    "from matplotlib.colors import ListedColormap\n",
    "cmap = ListedColormap([(1, 0, 0, i/255) for i in range(255, 0, -1)], name=\"qflag cmap\")\n",
    "cmap"
   ]
  },
  {
   "cell_type": "markdown",
   "id": "d21f312c-8bfb-4384-a8cc-dee97040ade5",
   "metadata": {},
   "source": [
    "Create a new layer to plot the Quality Flag for the SWI"
   ]
  },
  {
   "cell_type": "code",
   "execution_count": 83,
   "id": "65144253-ba44-4b14-90f8-7d9245c6c314",
   "metadata": {},
   "outputs": [],
   "source": [
    "m_qflag40 = m.new_layer(\"QFLAG 40\")\n",
    "m_qflag40.set_data(data, \"lon\", \"lat\", parameter=\"QFLAG_040\", crs=ncfile.crs.spatial_ref)\n",
    "m_qflag40.set_shape.shade_raster()\n",
    "m_qflag40.plot_map(vmin=0, vmax=100, cmap=cmap)"
   ]
  },
  {
   "cell_type": "markdown",
   "id": "36ef5748-2fdf-4f8c-b120-9a7d1ddc1c90",
   "metadata": {},
   "source": [
    "Add a colorbar but put it on a dedicated layer so it is only visible if we really want to see it."
   ]
  },
  {
   "cell_type": "code",
   "execution_count": 84,
   "id": "9bf2158a-00c2-4a6f-990f-de697ccb2b39",
   "metadata": {},
   "outputs": [],
   "source": [
    "cb = m_qflag40.add_colorbar(hist_kwargs=dict(log=True), layer=\"QFLAG 40 colorbar\")"
   ]
  },
  {
   "cell_type": "markdown",
   "id": "68e38f2f-1abd-45b1-8c34-b0031449f11a",
   "metadata": {},
   "source": [
    "### SSF layer\n",
    "Create a new layer to plot the \"Surface State Flag\""
   ]
  },
  {
   "cell_type": "code",
   "execution_count": 85,
   "id": "1eb6da83-21b5-41b4-a433-25da1288d5f2",
   "metadata": {},
   "outputs": [],
   "source": [
    "m_ssf = m.new_layer(\"SSF\")"
   ]
  },
  {
   "cell_type": "code",
   "execution_count": 86,
   "id": "3ec00808-9701-40b3-9f88-eeffe5795bbf",
   "metadata": {},
   "outputs": [],
   "source": [
    "m_ssf.set_data(data, \"lon\", \"lat\", parameter=\"SSF\", crs=ncfile.crs.spatial_ref)\n",
    "m_ssf.set_shape.shade_raster()\n",
    "m_ssf.set_classify.UserDefined(bins=[0.5, 1.5, 2.5, 3.5])\n",
    "m_ssf.plot_map(cmap=\"RdYlGn_r\", vmin=0.5, vmax=3.5)"
   ]
  },
  {
   "cell_type": "markdown",
   "id": "884591f7-d027-4520-a915-b7b3a8a04782",
   "metadata": {},
   "source": [
    "Add a colorbar but put it on a dedicated layer so it is only visible if we really want to see it.\n",
    "\n",
    "- Since we use a classified dataset, we can use `hist_bins=\"bins\"` to show only classification bins in the histogram\n",
    "- We can use `cb.set_bin_labels` to quickly label the bins"
   ]
  },
  {
   "cell_type": "code",
   "execution_count": 87,
   "id": "4fbd69fc-2c21-4b1d-a344-d9e7e9244105",
   "metadata": {},
   "outputs": [],
   "source": [
    "cb = m_ssf.add_colorbar(hist_bins=\"bins\", hist_kwargs=dict(log=True), layer=\"SSF colorbar\")\n",
    "cb.set_bin_labels([0.5, 1.5, 2.5, 3.5], [\"unknown\", \"unfrozen\", \"frozen\", \"melting or surface water\", \"missing\"])"
   ]
  },
  {
   "cell_type": "markdown",
   "id": "98b1a20a-1e94-4827-8183-20d6d5e7f60f",
   "metadata": {},
   "source": [
    "## Attach some callbacks"
   ]
  },
  {
   "cell_type": "markdown",
   "id": "cf705d8c-b04b-4d56-949e-d45a3a79dbd8",
   "metadata": {},
   "source": [
    "- By default, callbacks only trigger on the assigned layer.  \n",
    "  Setting `m.cb.pick.set_execute_on_all_layers(True)` makes the callback trigger irrespective of the visible layer!\n",
    "- The `text` of an annotation can be either a static string or a callback that returns a string!\n",
    "- We can fix the position of an annotation with `xytext` (and `textcoords`)"
   ]
  },
  {
   "cell_type": "code",
   "execution_count": 88,
   "id": "1b7293fa-f3d7-4a30-bb50-96964033f802",
   "metadata": {},
   "outputs": [],
   "source": [
    "m_swi40.cb.pick.attach.annotate()\n",
    "m_swi40.cb.pick.set_execute_on_all_layers(True)\n",
    "\n",
    "m_ssf.cb.pick.attach.annotate(xytext=(0.03, 0.1), textcoords=\"axes fraction\", arrowprops=None, text=lambda val, **kwargs: f\"SSF={val}\", layer=\"all\")\n",
    "m_ssf.cb.pick.set_execute_on_all_layers(True)\n",
    "\n",
    "m_qflag40.cb.pick.attach.annotate(xytext=(0.03, 0.2), textcoords=\"axes fraction\", arrowprops=None, text=lambda val, **kwargs: f\"QFLAG={val}\", layer=\"all\")\n",
    "m_qflag40.cb.pick.set_execute_on_all_layers(True)"
   ]
  },
  {
   "cell_type": "code",
   "execution_count": 89,
   "id": "d999fe15-ba50-49f4-8659-26e5df519dda",
   "metadata": {},
   "outputs": [],
   "source": [
    "m.show() # only required for \"widget\" backend"
   ]
  },
  {
   "cell_type": "markdown",
   "id": "3275a357-cbd5-4939-a102-8e9a9c258740",
   "metadata": {},
   "source": [
    "### IPython Widgets"
   ]
  },
  {
   "cell_type": "markdown",
   "id": "8ec8d9bb-5f9d-46d7-88b2-69dff7a63e9f",
   "metadata": {},
   "source": [
    "Within **Jupyter Notebooks** we can use **[IPython Widgets][ipywidgets]** to quickly create interactive browser controls like scrollbars, buttons etc. \n",
    "\n",
    "[EOmaps][eomaps] provides a set of useful [pre-configured widgets][eomaps_widgets] to interact with your maps\n",
    "\n",
    "\n",
    "[ipywidgets]: https://ipywidgets.readthedocs.io/en/latest/\n",
    "[eomaps]: https://eomaps.readthedocs.io/\n",
    "[eomaps_widgets]: https://eomaps.readthedocs.io/en/latest/notebooks/widgets.html"
   ]
  },
  {
   "cell_type": "code",
   "execution_count": 90,
   "id": "1f9cdf7c-91d2-4021-9044-e01bf89a018e",
   "metadata": {},
   "outputs": [],
   "source": [
    "from eomaps import widgets"
   ]
  },
  {
   "cell_type": "code",
   "execution_count": 91,
   "id": "c615c089-ef16-4ea7-ae01-760b81325edc",
   "metadata": {
    "editable": true,
    "slideshow": {
     "slide_type": ""
    },
    "tags": []
   },
   "outputs": [
    {
     "data": {
      "application/vnd.jupyter.widget-view+json": {
       "model_id": "0cd92def247844eba5e7747627a2a796",
       "version_major": 2,
       "version_minor": 0
      },
      "text/plain": [
       "LayerOverlaySlider(value=0.0, description=\"Overlay\\n'SSF':\", layout=Layout(width='400px'), max=1.0, step=0.01)"
      ]
     },
     "execution_count": 91,
     "metadata": {},
     "output_type": "execute_result"
    }
   ],
   "source": [
    "widgets.LayerOverlaySlider(m, \"SSF\", layout=dict(width=\"400px\"))"
   ]
  },
  {
   "cell_type": "code",
   "execution_count": 92,
   "id": "bb93eeb7-8d11-462a-a418-f637e0ce5182",
   "metadata": {},
   "outputs": [
    {
     "data": {
      "application/vnd.jupyter.widget-view+json": {
       "model_id": "d95be18b25bc43f7a393977504d637ec",
       "version_major": 2,
       "version_minor": 0
      },
      "text/plain": [
       "VBox(children=(LayerButton(description='SWI T=40 (+ red QFLAG overlay)', layout=Layout(width='400px'), style=B…"
      ]
     },
     "metadata": {},
     "output_type": "display_data"
    }
   ],
   "source": [
    "layout = dict(width=\"300px\")\n",
    "buttons = [\n",
    "    widgets.LayerButton(m, [\"SWI 40\", \"QFLAG 40\"], description=\"SWI T=40 (+ red QFLAG overlay)\"),\n",
    "    widgets.LayerButton(m, [\"QFLAG 40\", \"QFLAG 40 colorbar\"], description=\"QFLAG T=40\"),\n",
    "    widgets.LayerButton(m, [\"SSF\", \"SSF colorbar\"], description=\"SSF\") \n",
    "]\n",
    "for b in buttons:\n",
    "    b.style.button_color = 'lightblue'\n",
    "    b.style.font_size = \"13pt\"\n",
    "    b.layout.width = \"400px\"\n",
    "\n",
    "display(widgets.ipywidgets.VBox(buttons))"
   ]
  },
  {
   "cell_type": "markdown",
   "id": "338c1fae-c9df-40e9-962c-dfccf16505d9",
   "metadata": {
    "editable": true,
    "slideshow": {
     "slide_type": ""
    },
    "tags": []
   },
   "source": [
    "## Quick ways to visualize data"
   ]
  },
  {
   "cell_type": "markdown",
   "id": "9b8042bc-294d-4db1-a17e-e07ee8f4a3e8",
   "metadata": {},
   "source": [
    "Files can be directly plotted via the [`m.from_file`][from_file] and [`m.new_layer_from_file`][new_layer_from_file] directives:\n",
    "\n",
    "[from_file]: https://eomaps.readthedocs.io/en/latest/generated/eomaps.eomaps.Maps.from_file.html\n",
    "[new_layer_from_file]: https://eomaps.readthedocs.io/en/latest/generated/eomaps.eomaps.Maps.new_layer_from_file.html\n"
   ]
  },
  {
   "cell_type": "code",
   "execution_count": 94,
   "id": "7f0482a9-4e37-428d-bb5f-4e846e0d5c77",
   "metadata": {},
   "outputs": [],
   "source": [
    "filepath = next(Path(\"gridded_data\").iterdir())\n",
    "\n",
    "m_quick = Maps.from_file.NetCDF(filepath, parameter=\"SWI_001\", data_crs=4326, isel=dict(time=0), shape=\"shade_raster\", coastline=True)"
   ]
  },
  {
   "cell_type": "markdown",
   "id": "03c798cf-f92f-48f1-a71e-fc8b9529bb4d",
   "metadata": {},
   "source": [
    "The [CompanionWidget][companion] also has **drag-and-drop** support for commonly used datatypes (NetCDF, GeoTIFF, CSV, shapefile)!\n",
    "\n",
    "[companion]: https://eomaps.readthedocs.io/en/latest/api_companion_widget.html\n"
   ]
  },
  {
   "cell_type": "markdown",
   "id": "6758b8f9-a49e-4bc8-9979-ec1f36b9dc78",
   "metadata": {
    "editable": true,
    "slideshow": {
     "slide_type": ""
    },
    "tags": []
   },
   "source": [
    "# [$\\Rightarrow$ Spatio-temporal data analysis](<03 Spatiotemporal_analysis.ipynb>)"
   ]
  }
 ],
 "metadata": {
  "kernelspec": {
   "display_name": "Python 3 (ipykernel)",
   "language": "python",
   "name": "python3"
  },
  "language_info": {
   "codemirror_mode": {
    "name": "ipython",
    "version": 3
   },
   "file_extension": ".py",
   "mimetype": "text/x-python",
   "name": "python",
   "nbconvert_exporter": "python",
   "pygments_lexer": "ipython3",
   "version": "3.11.4"
  },
  "widgets": {
   "application/vnd.jupyter.widget-state+json": {
    "state": {
     "039ea162a00841a09d6c4f88beb8489e": {
      "model_module": "@jupyter-widgets/base",
      "model_module_version": "2.0.0",
      "model_name": "LayoutModel",
      "state": {
       "width": "400px"
      }
     },
     "085d5a263e7042638047884c3f14134e": {
      "model_module": "@jupyter-widgets/base",
      "model_module_version": "2.0.0",
      "model_name": "LayoutModel",
      "state": {
       "width": "400px"
      }
     },
     "0a0bb3b630444f59b009dfde07897f27": {
      "model_module": "@jupyter-widgets/controls",
      "model_module_version": "2.0.0",
      "model_name": "ButtonStyleModel",
      "state": {
       "button_color": "lightblue",
       "font_family": null,
       "font_size": "13pt",
       "font_style": null,
       "font_variant": null,
       "font_weight": null,
       "text_color": null,
       "text_decoration": null
      }
     },
     "0cd92def247844eba5e7747627a2a796": {
      "model_module": "@jupyter-widgets/controls",
      "model_module_version": "2.0.0",
      "model_name": "FloatSliderModel",
      "state": {
       "behavior": "drag-tap",
       "description": "Overlay\n'SSF':",
       "layout": "IPY_MODEL_be7ede08cedc45a4b4f5abe157c1d8ff",
       "max": 1,
       "step": 0.01,
       "style": "IPY_MODEL_c7fa4b65b54a4556bfb43d188e68290c"
      }
     },
     "104783500584412ebb9511abea5c7ad3": {
      "model_module": "@jupyter-widgets/controls",
      "model_module_version": "2.0.0",
      "model_name": "ButtonModel",
      "state": {
       "description": "SSF",
       "layout": "IPY_MODEL_ba636a9378554f22b32a69c11c38702d",
       "style": "IPY_MODEL_9b9f07254159491dbe23ff9385e4ba9f",
       "tooltip": null
      }
     },
     "1359ebcc850e4fd08079206414089204": {
      "model_module": "@jupyter-widgets/controls",
      "model_module_version": "2.0.0",
      "model_name": "SliderStyleModel",
      "state": {
       "description_width": ""
      }
     },
     "173b7dc750dc41019e4fc23b3f3f7aea": {
      "model_module": "@jupyter-widgets/controls",
      "model_module_version": "2.0.0",
      "model_name": "ButtonStyleModel",
      "state": {
       "button_color": "lightblue",
       "font_family": null,
       "font_size": "13pt",
       "font_style": null,
       "font_variant": null,
       "font_weight": null,
       "text_color": null,
       "text_decoration": null
      }
     },
     "1ec90d67e0e346199b0a64ccd85ca43c": {
      "model_module": "@jupyter-widgets/controls",
      "model_module_version": "2.0.0",
      "model_name": "ButtonStyleModel",
      "state": {
       "button_color": "lightblue",
       "font_family": null,
       "font_size": "13pt",
       "font_style": null,
       "font_variant": null,
       "font_weight": null,
       "text_color": null,
       "text_decoration": null
      }
     },
     "253ef8897a30466aa381d0c967ff994c": {
      "model_module": "@jupyter-widgets/base",
      "model_module_version": "2.0.0",
      "model_name": "LayoutModel",
      "state": {}
     },
     "289913bbde7945a2b4e3e5680f0955a5": {
      "model_module": "@jupyter-widgets/controls",
      "model_module_version": "2.0.0",
      "model_name": "ButtonStyleModel",
      "state": {
       "button_color": "lightblue",
       "font_family": null,
       "font_size": "13pt",
       "font_style": null,
       "font_variant": null,
       "font_weight": null,
       "text_color": null,
       "text_decoration": null
      }
     },
     "2a2917b522c947eba50e2564c8aecb6c": {
      "model_module": "@jupyter-widgets/base",
      "model_module_version": "2.0.0",
      "model_name": "LayoutModel",
      "state": {}
     },
     "39f7950514a842b9b78e628aa72facaa": {
      "model_module": "@jupyter-widgets/base",
      "model_module_version": "2.0.0",
      "model_name": "LayoutModel",
      "state": {
       "width": "400px"
      }
     },
     "3aab67d1870148c3b6892e022ca05f6a": {
      "model_module": "@jupyter-widgets/base",
      "model_module_version": "2.0.0",
      "model_name": "LayoutModel",
      "state": {}
     },
     "3d4992e71fbd4e21b7185f345d3d3c8a": {
      "model_module": "@jupyter-widgets/controls",
      "model_module_version": "2.0.0",
      "model_name": "FloatSliderModel",
      "state": {
       "behavior": "drag-tap",
       "description": "Overlay\n'SSF':",
       "layout": "IPY_MODEL_5b4f49102169499686b64b45e72f2f70",
       "max": 1,
       "step": 0.01,
       "style": "IPY_MODEL_aeb528b120c4455aba0598307143b784"
      }
     },
     "4068ae24e1e7416e8fb23c54b765ffda": {
      "model_module": "@jupyter-widgets/base",
      "model_module_version": "2.0.0",
      "model_name": "LayoutModel",
      "state": {}
     },
     "41c4b632999240a8b622b52d2753ae53": {
      "model_module": "@jupyter-widgets/controls",
      "model_module_version": "2.0.0",
      "model_name": "ButtonModel",
      "state": {
       "description": "SSF",
       "layout": "IPY_MODEL_39f7950514a842b9b78e628aa72facaa",
       "style": "IPY_MODEL_a188c7ba9096436cb7ff4bc42f4d22c3",
       "tooltip": null
      }
     },
     "425d6fa6249948809e335a5c0ca0d45b": {
      "model_module": "@jupyter-widgets/controls",
      "model_module_version": "2.0.0",
      "model_name": "FloatSliderModel",
      "state": {
       "behavior": "drag-tap",
       "description": "Overlay\n'SSF':",
       "layout": "IPY_MODEL_039ea162a00841a09d6c4f88beb8489e",
       "max": 1,
       "step": 0.01,
       "style": "IPY_MODEL_7f6a0dfcecb0444fb32a7bd4fd1cfa8a"
      }
     },
     "4a20314041c2426ab914c0c958a09042": {
      "model_module": "@jupyter-widgets/controls",
      "model_module_version": "2.0.0",
      "model_name": "ButtonModel",
      "state": {
       "description": "QFLAG T=40",
       "layout": "IPY_MODEL_acecba7f10eb4e49a98e1f2054543b41",
       "style": "IPY_MODEL_d27e48c2178b4d1aa1d1b3d124893b5b",
       "tooltip": null
      }
     },
     "4cb271c014ff446fb2a11ecab275b179": {
      "model_module": "@jupyter-widgets/controls",
      "model_module_version": "2.0.0",
      "model_name": "ButtonModel",
      "state": {
       "description": "QFLAG T=40",
       "layout": "IPY_MODEL_fc7ab2a56eb94732a5fd563dd20e24c5",
       "style": "IPY_MODEL_1ec90d67e0e346199b0a64ccd85ca43c",
       "tooltip": null
      }
     },
     "4daab5e7f21e4aacbef4c4f24d57fbec": {
      "model_module": "@jupyter-widgets/base",
      "model_module_version": "2.0.0",
      "model_name": "LayoutModel",
      "state": {}
     },
     "4fd5aac6af8d4c048de21c4ab1bd456b": {
      "model_module": "@jupyter-widgets/base",
      "model_module_version": "2.0.0",
      "model_name": "LayoutModel",
      "state": {
       "width": "400px"
      }
     },
     "56b812874a064d298ecdea553bc041a4": {
      "model_module": "@jupyter-widgets/controls",
      "model_module_version": "2.0.0",
      "model_name": "ButtonStyleModel",
      "state": {
       "button_color": "lightblue",
       "font_family": null,
       "font_size": "13pt",
       "font_style": null,
       "font_variant": null,
       "font_weight": null,
       "text_color": null,
       "text_decoration": null
      }
     },
     "578eaac020d941e2b65b8a81a5b5cd75": {
      "model_module": "@jupyter-widgets/controls",
      "model_module_version": "2.0.0",
      "model_name": "FloatSliderModel",
      "state": {
       "behavior": "drag-tap",
       "description": "Overlay\n'SSF':",
       "layout": "IPY_MODEL_e744edcc4b71472486590773d0f44cb9",
       "max": 1,
       "step": 0.01,
       "style": "IPY_MODEL_1359ebcc850e4fd08079206414089204"
      }
     },
     "57eb92c1b94b4a1b9fa44b2f94712026": {
      "model_module": "@jupyter-widgets/controls",
      "model_module_version": "2.0.0",
      "model_name": "FloatSliderModel",
      "state": {
       "behavior": "drag-tap",
       "description": "Overlay\n'SSF':",
       "layout": "IPY_MODEL_2a2917b522c947eba50e2564c8aecb6c",
       "max": 1,
       "step": 0.01,
       "style": "IPY_MODEL_ce93312136a54cfcaee8f172bae5bd18"
      }
     },
     "5b4f49102169499686b64b45e72f2f70": {
      "model_module": "@jupyter-widgets/base",
      "model_module_version": "2.0.0",
      "model_name": "LayoutModel",
      "state": {
       "width": "300px"
      }
     },
     "5d2db489043d4556907d5e0fc7bad364": {
      "model_module": "@jupyter-widgets/controls",
      "model_module_version": "2.0.0",
      "model_name": "ButtonModel",
      "state": {
       "description": "SSF",
       "layout": "IPY_MODEL_8648f142fd374e8ea4f58bfe36568be4",
       "style": "IPY_MODEL_af8781c269b841c1b4e0297f70c97998",
       "tooltip": null
      }
     },
     "638f990064144f4caa3da47b4ab22e4c": {
      "model_module": "@jupyter-widgets/controls",
      "model_module_version": "2.0.0",
      "model_name": "VBoxModel",
      "state": {
       "children": [
        "IPY_MODEL_9780e5bdd019465eb7b6b3dd59149bc0",
        "IPY_MODEL_ae08b69ffe7e48ebaf764370c1cbdbae",
        "IPY_MODEL_41c4b632999240a8b622b52d2753ae53"
       ],
       "layout": "IPY_MODEL_4068ae24e1e7416e8fb23c54b765ffda"
      }
     },
     "67f6c91489794187929ef85f2ec95c97": {
      "model_module": "@jupyter-widgets/controls",
      "model_module_version": "2.0.0",
      "model_name": "VBoxModel",
      "state": {
       "children": [
        "IPY_MODEL_db421abca3af4b92b1ed144b1dfe3efb",
        "IPY_MODEL_4cb271c014ff446fb2a11ecab275b179",
        "IPY_MODEL_a0b9294c5532464cb5aee95c52c7c3c1"
       ],
       "layout": "IPY_MODEL_253ef8897a30466aa381d0c967ff994c"
      }
     },
     "6cc6ddd74b22496aaecaf9798995410b": {
      "model_module": "@jupyter-widgets/controls",
      "model_module_version": "2.0.0",
      "model_name": "VBoxModel",
      "state": {
       "children": [
        "IPY_MODEL_cab8af770c56477fa3e28368f7ec30dc",
        "IPY_MODEL_a6f06df783434ee9ba86507dced6c2a9",
        "IPY_MODEL_5d2db489043d4556907d5e0fc7bad364"
       ],
       "layout": "IPY_MODEL_4daab5e7f21e4aacbef4c4f24d57fbec"
      }
     },
     "7acefa58f8b0489d83a4191d7a4eb1f7": {
      "model_module": "@jupyter-widgets/base",
      "model_module_version": "2.0.0",
      "model_name": "LayoutModel",
      "state": {}
     },
     "7ee7ebff21d94de4a41a00ddfc12e697": {
      "model_module": "@jupyter-widgets/base",
      "model_module_version": "2.0.0",
      "model_name": "LayoutModel",
      "state": {
       "width": "400px"
      }
     },
     "7f6a0dfcecb0444fb32a7bd4fd1cfa8a": {
      "model_module": "@jupyter-widgets/controls",
      "model_module_version": "2.0.0",
      "model_name": "SliderStyleModel",
      "state": {
       "description_width": ""
      }
     },
     "8648f142fd374e8ea4f58bfe36568be4": {
      "model_module": "@jupyter-widgets/base",
      "model_module_version": "2.0.0",
      "model_name": "LayoutModel",
      "state": {
       "width": "400px"
      }
     },
     "89b9dc5137924d38872cef1b852e5f48": {
      "model_module": "@jupyter-widgets/controls",
      "model_module_version": "2.0.0",
      "model_name": "ButtonStyleModel",
      "state": {
       "button_color": "lightblue",
       "font_family": null,
       "font_size": "13pt",
       "font_style": null,
       "font_variant": null,
       "font_weight": null,
       "text_color": null,
       "text_decoration": null
      }
     },
     "9780e5bdd019465eb7b6b3dd59149bc0": {
      "model_module": "@jupyter-widgets/controls",
      "model_module_version": "2.0.0",
      "model_name": "ButtonModel",
      "state": {
       "description": "SWI T=40 (+ red QFLAG overlay)",
       "layout": "IPY_MODEL_085d5a263e7042638047884c3f14134e",
       "style": "IPY_MODEL_56b812874a064d298ecdea553bc041a4",
       "tooltip": null
      }
     },
     "9b2864370f314daba755295509c91074": {
      "model_module": "@jupyter-widgets/base",
      "model_module_version": "2.0.0",
      "model_name": "LayoutModel",
      "state": {
       "width": "400px"
      }
     },
     "9b9f07254159491dbe23ff9385e4ba9f": {
      "model_module": "@jupyter-widgets/controls",
      "model_module_version": "2.0.0",
      "model_name": "ButtonStyleModel",
      "state": {
       "button_color": "lightblue",
       "font_family": null,
       "font_size": "13pt",
       "font_style": null,
       "font_variant": null,
       "font_weight": null,
       "text_color": null,
       "text_decoration": null
      }
     },
     "a0b9294c5532464cb5aee95c52c7c3c1": {
      "model_module": "@jupyter-widgets/controls",
      "model_module_version": "2.0.0",
      "model_name": "ButtonModel",
      "state": {
       "description": "SSF",
       "layout": "IPY_MODEL_4fd5aac6af8d4c048de21c4ab1bd456b",
       "style": "IPY_MODEL_e1186856a9504449bcd60037284bdca5",
       "tooltip": null
      }
     },
     "a188c7ba9096436cb7ff4bc42f4d22c3": {
      "model_module": "@jupyter-widgets/controls",
      "model_module_version": "2.0.0",
      "model_name": "ButtonStyleModel",
      "state": {
       "button_color": "lightblue",
       "font_family": null,
       "font_size": "13pt",
       "font_style": null,
       "font_variant": null,
       "font_weight": null,
       "text_color": null,
       "text_decoration": null
      }
     },
     "a4880c0693a442768d253e4e91db35de": {
      "model_module": "@jupyter-widgets/base",
      "model_module_version": "2.0.0",
      "model_name": "LayoutModel",
      "state": {
       "width": "400px"
      }
     },
     "a6f06df783434ee9ba86507dced6c2a9": {
      "model_module": "@jupyter-widgets/controls",
      "model_module_version": "2.0.0",
      "model_name": "ButtonModel",
      "state": {
       "description": "QFLAG T=40",
       "layout": "IPY_MODEL_d599dc53fbc246d4b557236ee82fbc9a",
       "style": "IPY_MODEL_173b7dc750dc41019e4fc23b3f3f7aea",
       "tooltip": null
      }
     },
     "acecba7f10eb4e49a98e1f2054543b41": {
      "model_module": "@jupyter-widgets/base",
      "model_module_version": "2.0.0",
      "model_name": "LayoutModel",
      "state": {
       "width": "400px"
      }
     },
     "ad9419cabe804f0f8c6436db8bbba2f3": {
      "model_module": "@jupyter-widgets/controls",
      "model_module_version": "2.0.0",
      "model_name": "ButtonModel",
      "state": {
       "description": "SWI T=40 (+ red QFLAG overlay)",
       "layout": "IPY_MODEL_b9e182e0533744e9be327854fe58b457",
       "style": "IPY_MODEL_289913bbde7945a2b4e3e5680f0955a5",
       "tooltip": null
      }
     },
     "ae08b69ffe7e48ebaf764370c1cbdbae": {
      "model_module": "@jupyter-widgets/controls",
      "model_module_version": "2.0.0",
      "model_name": "ButtonModel",
      "state": {
       "description": "QFLAG T=40",
       "layout": "IPY_MODEL_9b2864370f314daba755295509c91074",
       "style": "IPY_MODEL_0a0bb3b630444f59b009dfde07897f27",
       "tooltip": null
      }
     },
     "aeb528b120c4455aba0598307143b784": {
      "model_module": "@jupyter-widgets/controls",
      "model_module_version": "2.0.0",
      "model_name": "SliderStyleModel",
      "state": {
       "description_width": ""
      }
     },
     "af8781c269b841c1b4e0297f70c97998": {
      "model_module": "@jupyter-widgets/controls",
      "model_module_version": "2.0.0",
      "model_name": "ButtonStyleModel",
      "state": {
       "button_color": "lightblue",
       "font_family": null,
       "font_size": "13pt",
       "font_style": null,
       "font_variant": null,
       "font_weight": null,
       "text_color": null,
       "text_decoration": null
      }
     },
     "b1c1c6dea16d41aa8785d12c3edea9d8": {
      "model_module": "@jupyter-widgets/controls",
      "model_module_version": "2.0.0",
      "model_name": "SliderStyleModel",
      "state": {
       "description_width": ""
      }
     },
     "b9e182e0533744e9be327854fe58b457": {
      "model_module": "@jupyter-widgets/base",
      "model_module_version": "2.0.0",
      "model_name": "LayoutModel",
      "state": {
       "width": "400px"
      }
     },
     "ba636a9378554f22b32a69c11c38702d": {
      "model_module": "@jupyter-widgets/base",
      "model_module_version": "2.0.0",
      "model_name": "LayoutModel",
      "state": {
       "width": "400px"
      }
     },
     "be7ede08cedc45a4b4f5abe157c1d8ff": {
      "model_module": "@jupyter-widgets/base",
      "model_module_version": "2.0.0",
      "model_name": "LayoutModel",
      "state": {
       "width": "400px"
      }
     },
     "c7fa4b65b54a4556bfb43d188e68290c": {
      "model_module": "@jupyter-widgets/controls",
      "model_module_version": "2.0.0",
      "model_name": "SliderStyleModel",
      "state": {
       "description_width": ""
      }
     },
     "cab8af770c56477fa3e28368f7ec30dc": {
      "model_module": "@jupyter-widgets/controls",
      "model_module_version": "2.0.0",
      "model_name": "ButtonModel",
      "state": {
       "description": "SWI T=40 (+ red QFLAG overlay)",
       "layout": "IPY_MODEL_ff2e46ae982f4ca08ac7a008408878d5",
       "style": "IPY_MODEL_f58dc74dda144952accaa76ff70864cf",
       "tooltip": null
      }
     },
     "cd43a36f676d40f1916d7ee5f4245ce3": {
      "model_module": "@jupyter-widgets/base",
      "model_module_version": "2.0.0",
      "model_name": "LayoutModel",
      "state": {
       "width": "400px"
      }
     },
     "ce93312136a54cfcaee8f172bae5bd18": {
      "model_module": "@jupyter-widgets/controls",
      "model_module_version": "2.0.0",
      "model_name": "SliderStyleModel",
      "state": {
       "description_width": ""
      }
     },
     "ced452854d524157b4b314bd778ebdc9": {
      "model_module": "@jupyter-widgets/controls",
      "model_module_version": "2.0.0",
      "model_name": "ButtonModel",
      "state": {
       "description": "QFLAG T=40",
       "layout": "IPY_MODEL_a4880c0693a442768d253e4e91db35de",
       "style": "IPY_MODEL_89b9dc5137924d38872cef1b852e5f48",
       "tooltip": null
      }
     },
     "cee9fca503434435b026f86bfa4ec2df": {
      "model_module": "@jupyter-widgets/base",
      "model_module_version": "2.0.0",
      "model_name": "LayoutModel",
      "state": {
       "width": "400px"
      }
     },
     "d27e48c2178b4d1aa1d1b3d124893b5b": {
      "model_module": "@jupyter-widgets/controls",
      "model_module_version": "2.0.0",
      "model_name": "ButtonStyleModel",
      "state": {
       "button_color": "lightblue",
       "font_family": null,
       "font_size": "13pt",
       "font_style": null,
       "font_variant": null,
       "font_weight": null,
       "text_color": null,
       "text_decoration": null
      }
     },
     "d599dc53fbc246d4b557236ee82fbc9a": {
      "model_module": "@jupyter-widgets/base",
      "model_module_version": "2.0.0",
      "model_name": "LayoutModel",
      "state": {
       "width": "400px"
      }
     },
     "d5b3fb70e89149629cd3cec8e0a103a3": {
      "model_module": "@jupyter-widgets/controls",
      "model_module_version": "2.0.0",
      "model_name": "FloatSliderModel",
      "state": {
       "behavior": "drag-tap",
       "description": "Overlay\n'SSF':",
       "layout": "IPY_MODEL_cee9fca503434435b026f86bfa4ec2df",
       "max": 1,
       "step": 0.01,
       "style": "IPY_MODEL_b1c1c6dea16d41aa8785d12c3edea9d8"
      }
     },
     "d95be18b25bc43f7a393977504d637ec": {
      "model_module": "@jupyter-widgets/controls",
      "model_module_version": "2.0.0",
      "model_name": "VBoxModel",
      "state": {
       "children": [
        "IPY_MODEL_ad9419cabe804f0f8c6436db8bbba2f3",
        "IPY_MODEL_ced452854d524157b4b314bd778ebdc9",
        "IPY_MODEL_104783500584412ebb9511abea5c7ad3"
       ],
       "layout": "IPY_MODEL_3aab67d1870148c3b6892e022ca05f6a"
      }
     },
     "da57d70f02084fc3a89df7adefe5f57d": {
      "model_module": "@jupyter-widgets/controls",
      "model_module_version": "2.0.0",
      "model_name": "VBoxModel",
      "state": {
       "children": [
        "IPY_MODEL_e256e102258e48858192f072ddaaa384",
        "IPY_MODEL_4a20314041c2426ab914c0c958a09042",
        "IPY_MODEL_f2a0dc64f0c2471d895b530280787b8a"
       ],
       "layout": "IPY_MODEL_7acefa58f8b0489d83a4191d7a4eb1f7"
      }
     },
     "db421abca3af4b92b1ed144b1dfe3efb": {
      "model_module": "@jupyter-widgets/controls",
      "model_module_version": "2.0.0",
      "model_name": "ButtonModel",
      "state": {
       "description": "SWI T=40 (+ red QFLAG overlay)",
       "layout": "IPY_MODEL_7ee7ebff21d94de4a41a00ddfc12e697",
       "style": "IPY_MODEL_e3a75cc2ca334f5eba0c2e4c73e1fc5b",
       "tooltip": null
      }
     },
     "dc10965dcf324d5d8e1dc1cd7cec6522": {
      "model_module": "@jupyter-widgets/controls",
      "model_module_version": "2.0.0",
      "model_name": "ButtonStyleModel",
      "state": {
       "button_color": "lightblue",
       "font_family": null,
       "font_size": "13pt",
       "font_style": null,
       "font_variant": null,
       "font_weight": null,
       "text_color": null,
       "text_decoration": null
      }
     },
     "e1186856a9504449bcd60037284bdca5": {
      "model_module": "@jupyter-widgets/controls",
      "model_module_version": "2.0.0",
      "model_name": "ButtonStyleModel",
      "state": {
       "button_color": "lightblue",
       "font_family": null,
       "font_size": "13pt",
       "font_style": null,
       "font_variant": null,
       "font_weight": null,
       "text_color": null,
       "text_decoration": null
      }
     },
     "e256e102258e48858192f072ddaaa384": {
      "model_module": "@jupyter-widgets/controls",
      "model_module_version": "2.0.0",
      "model_name": "ButtonModel",
      "state": {
       "description": "SWI T=40 (+ red QFLAG overlay)",
       "layout": "IPY_MODEL_fa70df37e7df416d84ff0d9dffab650a",
       "style": "IPY_MODEL_fbfb667e9cff4231910a0bab175fdeee",
       "tooltip": null
      }
     },
     "e3a75cc2ca334f5eba0c2e4c73e1fc5b": {
      "model_module": "@jupyter-widgets/controls",
      "model_module_version": "2.0.0",
      "model_name": "ButtonStyleModel",
      "state": {
       "button_color": "lightblue",
       "font_family": null,
       "font_size": "13pt",
       "font_style": null,
       "font_variant": null,
       "font_weight": null,
       "text_color": null,
       "text_decoration": null
      }
     },
     "e744edcc4b71472486590773d0f44cb9": {
      "model_module": "@jupyter-widgets/base",
      "model_module_version": "2.0.0",
      "model_name": "LayoutModel",
      "state": {
       "width": "400px"
      }
     },
     "f2a0dc64f0c2471d895b530280787b8a": {
      "model_module": "@jupyter-widgets/controls",
      "model_module_version": "2.0.0",
      "model_name": "ButtonModel",
      "state": {
       "description": "SSF",
       "layout": "IPY_MODEL_cd43a36f676d40f1916d7ee5f4245ce3",
       "style": "IPY_MODEL_dc10965dcf324d5d8e1dc1cd7cec6522",
       "tooltip": null
      }
     },
     "f58dc74dda144952accaa76ff70864cf": {
      "model_module": "@jupyter-widgets/controls",
      "model_module_version": "2.0.0",
      "model_name": "ButtonStyleModel",
      "state": {
       "button_color": "lightblue",
       "font_family": null,
       "font_size": "13pt",
       "font_style": null,
       "font_variant": null,
       "font_weight": null,
       "text_color": null,
       "text_decoration": null
      }
     },
     "fa70df37e7df416d84ff0d9dffab650a": {
      "model_module": "@jupyter-widgets/base",
      "model_module_version": "2.0.0",
      "model_name": "LayoutModel",
      "state": {
       "width": "400px"
      }
     },
     "fbfb667e9cff4231910a0bab175fdeee": {
      "model_module": "@jupyter-widgets/controls",
      "model_module_version": "2.0.0",
      "model_name": "ButtonStyleModel",
      "state": {
       "button_color": "lightblue",
       "font_family": null,
       "font_size": "13pt",
       "font_style": null,
       "font_variant": null,
       "font_weight": null,
       "text_color": null,
       "text_decoration": null
      }
     },
     "fc7ab2a56eb94732a5fd563dd20e24c5": {
      "model_module": "@jupyter-widgets/base",
      "model_module_version": "2.0.0",
      "model_name": "LayoutModel",
      "state": {
       "width": "400px"
      }
     },
     "ff2e46ae982f4ca08ac7a008408878d5": {
      "model_module": "@jupyter-widgets/base",
      "model_module_version": "2.0.0",
      "model_name": "LayoutModel",
      "state": {
       "width": "400px"
      }
     }
    },
    "version_major": 2,
    "version_minor": 0
   }
  }
 },
 "nbformat": 4,
 "nbformat_minor": 5
}
