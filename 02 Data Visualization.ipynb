{
 "cells": [
  {
   "cell_type": "markdown",
   "id": "75d349aa-9ec0-4ab9-b3aa-beb98ea01213",
   "metadata": {
    "editable": true,
    "slideshow": {
     "slide_type": ""
    },
    "tags": []
   },
   "source": [
    "# EOmaps Workshop GeoPython 2024\n",
    "<font size=3>Interactive geo-data analysis with EOmaps and the scientific python infrastructure.</font>"
   ]
  },
  {
   "attachments": {},
   "cell_type": "markdown",
   "id": "69af2a30-07e5-4ba6-b4c6-467844d825df",
   "metadata": {
    "editable": true,
    "slideshow": {
     "slide_type": ""
    },
    "tags": []
   },
   "source": [
    "# Data Visualization\n",
    "\n",
    "EOmaps can be used to visualize both gridded (raster) data or unsorted lists of coordinates and values.  \n",
    "It provides means to render small datasets as well as millions of datapoints.\n",
    "\n",
    "> A detailed overview on how to visualize datasets is provided in the [**Data Visualization** section of the EOmaps documentation][docs]\n",
    "\n",
    "\n",
    "| Steps to visualize data |  |  |\n",
    "| ----------------------- | ---- | ---- |\n",
    "| 1. [Assign the data to a `Maps` object (`m`)][assign] |  | `m.set_data(...)` |\n",
    "| 2. [(**optionally**) set the plot-shape][shape] |  | `m.set_shape.< shape >(...)` |\n",
    "| 3. [(**optionally**) classify the data][classify] |  | `m.set_classify.< method >(...)` |\n",
    "| 4. [Plot the data][plot] |  | `m.plot_map(...)` |\n",
    "\n",
    "\n",
    "[Maps]: https://eomaps.readthedocs.io/en/latest/generated/eomaps.eomaps.Maps.html\n",
    "[docs]: https://eomaps.readthedocs.io/en/latest/api_data_visualization.html\n",
    "\n",
    "[assign]: https://eomaps.readthedocs.io/en/latest/api_data_visualization.html#assign-the-data\n",
    "[shape]: https://eomaps.readthedocs.io/en/latest/api_data_visualization.html#plot-shapes\n",
    "[classify]: https://eomaps.readthedocs.io/en/latest/api_data_visualization.html#classify-the-data\n",
    "[plot]: https://eomaps.readthedocs.io/en/latest/api_data_visualization.html#plot-the-data"
   ]
  },
  {
   "cell_type": "markdown",
   "id": "28e431f9-59ab-4ee2-9942-d7de0b4493d5",
   "metadata": {},
   "source": [
    "## Working with gridded data"
   ]
  },
  {
   "cell_type": "markdown",
   "id": "61c95551-2025-4a3f-a86b-d0bdd0a7f2e9",
   "metadata": {},
   "source": [
    "In the following we will have a look at how we can use it to visualize some [**Copernicus Soil Water Index**][swi] data!\n",
    "\n",
    "> [**xarray**][xarray] provides the means to read (and write) most commonly used (raster) data formats\n",
    "> - NetCDF\n",
    "> - HDF5\n",
    "> - Zarr\n",
    "> - GeoTIFF (with [rioxarray][rioxarray] extension)\n",
    "> - ...  \n",
    "\n",
    "[xarray]: https://docs.xarray.dev/en/stable/index.html\n",
    "[rioxarray]: https://github.com/corteva/rioxarray\n",
    "[swi]: https://land.copernicus.eu/en/products/soil-moisture/daily-soil-water-index-global-v3-0-12-5km\n"
   ]
  },
  {
   "cell_type": "code",
   "execution_count": 23,
   "id": "d4a853fe-71d4-46aa-9033-16021621cd21",
   "metadata": {
    "editable": true,
    "slideshow": {
     "slide_type": ""
    },
    "tags": []
   },
   "outputs": [],
   "source": [
    "# set the backend to use (the default is 'inline')\n",
    "%matplotlib qt"
   ]
  },
  {
   "cell_type": "code",
   "execution_count": 24,
   "id": "e0be887a-d38a-4620-bdbe-b6fe12caefc4",
   "metadata": {},
   "outputs": [],
   "source": [
    "from pathlib import Path\n",
    "import xarray as xar\n",
    "\n",
    "from eomaps import Maps\n",
    "Maps.config(always_on_top=True)      # keep figures \"always on top\""
   ]
  },
  {
   "cell_type": "markdown",
   "id": "cc325cb0-4058-4433-b76b-aebd9c54532e",
   "metadata": {},
   "source": [
    "Open one of the NetCDF files:"
   ]
  },
  {
   "cell_type": "code",
   "execution_count": 25,
   "id": "a898b835-1b0a-430b-94b2-852fea451780",
   "metadata": {},
   "outputs": [
    {
     "data": {
      "text/html": [
       "<div><svg style=\"position: absolute; width: 0; height: 0; overflow: hidden\">\n",
       "<defs>\n",
       "<symbol id=\"icon-database\" viewBox=\"0 0 32 32\">\n",
       "<path d=\"M16 0c-8.837 0-16 2.239-16 5v4c0 2.761 7.163 5 16 5s16-2.239 16-5v-4c0-2.761-7.163-5-16-5z\"></path>\n",
       "<path d=\"M16 17c-8.837 0-16-2.239-16-5v6c0 2.761 7.163 5 16 5s16-2.239 16-5v-6c0 2.761-7.163 5-16 5z\"></path>\n",
       "<path d=\"M16 26c-8.837 0-16-2.239-16-5v6c0 2.761 7.163 5 16 5s16-2.239 16-5v-6c0 2.761-7.163 5-16 5z\"></path>\n",
       "</symbol>\n",
       "<symbol id=\"icon-file-text2\" viewBox=\"0 0 32 32\">\n",
       "<path d=\"M28.681 7.159c-0.694-0.947-1.662-2.053-2.724-3.116s-2.169-2.030-3.116-2.724c-1.612-1.182-2.393-1.319-2.841-1.319h-15.5c-1.378 0-2.5 1.121-2.5 2.5v27c0 1.378 1.122 2.5 2.5 2.5h23c1.378 0 2.5-1.122 2.5-2.5v-19.5c0-0.448-0.137-1.23-1.319-2.841zM24.543 5.457c0.959 0.959 1.712 1.825 2.268 2.543h-4.811v-4.811c0.718 0.556 1.584 1.309 2.543 2.268zM28 29.5c0 0.271-0.229 0.5-0.5 0.5h-23c-0.271 0-0.5-0.229-0.5-0.5v-27c0-0.271 0.229-0.5 0.5-0.5 0 0 15.499-0 15.5 0v7c0 0.552 0.448 1 1 1h7v19.5z\"></path>\n",
       "<path d=\"M23 26h-14c-0.552 0-1-0.448-1-1s0.448-1 1-1h14c0.552 0 1 0.448 1 1s-0.448 1-1 1z\"></path>\n",
       "<path d=\"M23 22h-14c-0.552 0-1-0.448-1-1s0.448-1 1-1h14c0.552 0 1 0.448 1 1s-0.448 1-1 1z\"></path>\n",
       "<path d=\"M23 18h-14c-0.552 0-1-0.448-1-1s0.448-1 1-1h14c0.552 0 1 0.448 1 1s-0.448 1-1 1z\"></path>\n",
       "</symbol>\n",
       "</defs>\n",
       "</svg>\n",
       "<style>/* CSS stylesheet for displaying xarray objects in jupyterlab.\n",
       " *\n",
       " */\n",
       "\n",
       ":root {\n",
       "  --xr-font-color0: var(--jp-content-font-color0, rgba(0, 0, 0, 1));\n",
       "  --xr-font-color2: var(--jp-content-font-color2, rgba(0, 0, 0, 0.54));\n",
       "  --xr-font-color3: var(--jp-content-font-color3, rgba(0, 0, 0, 0.38));\n",
       "  --xr-border-color: var(--jp-border-color2, #e0e0e0);\n",
       "  --xr-disabled-color: var(--jp-layout-color3, #bdbdbd);\n",
       "  --xr-background-color: var(--jp-layout-color0, white);\n",
       "  --xr-background-color-row-even: var(--jp-layout-color1, white);\n",
       "  --xr-background-color-row-odd: var(--jp-layout-color2, #eeeeee);\n",
       "}\n",
       "\n",
       "html[theme=dark],\n",
       "body[data-theme=dark],\n",
       "body.vscode-dark {\n",
       "  --xr-font-color0: rgba(255, 255, 255, 1);\n",
       "  --xr-font-color2: rgba(255, 255, 255, 0.54);\n",
       "  --xr-font-color3: rgba(255, 255, 255, 0.38);\n",
       "  --xr-border-color: #1F1F1F;\n",
       "  --xr-disabled-color: #515151;\n",
       "  --xr-background-color: #111111;\n",
       "  --xr-background-color-row-even: #111111;\n",
       "  --xr-background-color-row-odd: #313131;\n",
       "}\n",
       "\n",
       ".xr-wrap {\n",
       "  display: block !important;\n",
       "  min-width: 300px;\n",
       "  max-width: 700px;\n",
       "}\n",
       "\n",
       ".xr-text-repr-fallback {\n",
       "  /* fallback to plain text repr when CSS is not injected (untrusted notebook) */\n",
       "  display: none;\n",
       "}\n",
       "\n",
       ".xr-header {\n",
       "  padding-top: 6px;\n",
       "  padding-bottom: 6px;\n",
       "  margin-bottom: 4px;\n",
       "  border-bottom: solid 1px var(--xr-border-color);\n",
       "}\n",
       "\n",
       ".xr-header > div,\n",
       ".xr-header > ul {\n",
       "  display: inline;\n",
       "  margin-top: 0;\n",
       "  margin-bottom: 0;\n",
       "}\n",
       "\n",
       ".xr-obj-type,\n",
       ".xr-array-name {\n",
       "  margin-left: 2px;\n",
       "  margin-right: 10px;\n",
       "}\n",
       "\n",
       ".xr-obj-type {\n",
       "  color: var(--xr-font-color2);\n",
       "}\n",
       "\n",
       ".xr-sections {\n",
       "  padding-left: 0 !important;\n",
       "  display: grid;\n",
       "  grid-template-columns: 150px auto auto 1fr 20px 20px;\n",
       "}\n",
       "\n",
       ".xr-section-item {\n",
       "  display: contents;\n",
       "}\n",
       "\n",
       ".xr-section-item input {\n",
       "  display: none;\n",
       "}\n",
       "\n",
       ".xr-section-item input + label {\n",
       "  color: var(--xr-disabled-color);\n",
       "}\n",
       "\n",
       ".xr-section-item input:enabled + label {\n",
       "  cursor: pointer;\n",
       "  color: var(--xr-font-color2);\n",
       "}\n",
       "\n",
       ".xr-section-item input:enabled + label:hover {\n",
       "  color: var(--xr-font-color0);\n",
       "}\n",
       "\n",
       ".xr-section-summary {\n",
       "  grid-column: 1;\n",
       "  color: var(--xr-font-color2);\n",
       "  font-weight: 500;\n",
       "}\n",
       "\n",
       ".xr-section-summary > span {\n",
       "  display: inline-block;\n",
       "  padding-left: 0.5em;\n",
       "}\n",
       "\n",
       ".xr-section-summary-in:disabled + label {\n",
       "  color: var(--xr-font-color2);\n",
       "}\n",
       "\n",
       ".xr-section-summary-in + label:before {\n",
       "  display: inline-block;\n",
       "  content: '►';\n",
       "  font-size: 11px;\n",
       "  width: 15px;\n",
       "  text-align: center;\n",
       "}\n",
       "\n",
       ".xr-section-summary-in:disabled + label:before {\n",
       "  color: var(--xr-disabled-color);\n",
       "}\n",
       "\n",
       ".xr-section-summary-in:checked + label:before {\n",
       "  content: '▼';\n",
       "}\n",
       "\n",
       ".xr-section-summary-in:checked + label > span {\n",
       "  display: none;\n",
       "}\n",
       "\n",
       ".xr-section-summary,\n",
       ".xr-section-inline-details {\n",
       "  padding-top: 4px;\n",
       "  padding-bottom: 4px;\n",
       "}\n",
       "\n",
       ".xr-section-inline-details {\n",
       "  grid-column: 2 / -1;\n",
       "}\n",
       "\n",
       ".xr-section-details {\n",
       "  display: none;\n",
       "  grid-column: 1 / -1;\n",
       "  margin-bottom: 5px;\n",
       "}\n",
       "\n",
       ".xr-section-summary-in:checked ~ .xr-section-details {\n",
       "  display: contents;\n",
       "}\n",
       "\n",
       ".xr-array-wrap {\n",
       "  grid-column: 1 / -1;\n",
       "  display: grid;\n",
       "  grid-template-columns: 20px auto;\n",
       "}\n",
       "\n",
       ".xr-array-wrap > label {\n",
       "  grid-column: 1;\n",
       "  vertical-align: top;\n",
       "}\n",
       "\n",
       ".xr-preview {\n",
       "  color: var(--xr-font-color3);\n",
       "}\n",
       "\n",
       ".xr-array-preview,\n",
       ".xr-array-data {\n",
       "  padding: 0 5px !important;\n",
       "  grid-column: 2;\n",
       "}\n",
       "\n",
       ".xr-array-data,\n",
       ".xr-array-in:checked ~ .xr-array-preview {\n",
       "  display: none;\n",
       "}\n",
       "\n",
       ".xr-array-in:checked ~ .xr-array-data,\n",
       ".xr-array-preview {\n",
       "  display: inline-block;\n",
       "}\n",
       "\n",
       ".xr-dim-list {\n",
       "  display: inline-block !important;\n",
       "  list-style: none;\n",
       "  padding: 0 !important;\n",
       "  margin: 0;\n",
       "}\n",
       "\n",
       ".xr-dim-list li {\n",
       "  display: inline-block;\n",
       "  padding: 0;\n",
       "  margin: 0;\n",
       "}\n",
       "\n",
       ".xr-dim-list:before {\n",
       "  content: '(';\n",
       "}\n",
       "\n",
       ".xr-dim-list:after {\n",
       "  content: ')';\n",
       "}\n",
       "\n",
       ".xr-dim-list li:not(:last-child):after {\n",
       "  content: ',';\n",
       "  padding-right: 5px;\n",
       "}\n",
       "\n",
       ".xr-has-index {\n",
       "  font-weight: bold;\n",
       "}\n",
       "\n",
       ".xr-var-list,\n",
       ".xr-var-item {\n",
       "  display: contents;\n",
       "}\n",
       "\n",
       ".xr-var-item > div,\n",
       ".xr-var-item label,\n",
       ".xr-var-item > .xr-var-name span {\n",
       "  background-color: var(--xr-background-color-row-even);\n",
       "  margin-bottom: 0;\n",
       "}\n",
       "\n",
       ".xr-var-item > .xr-var-name:hover span {\n",
       "  padding-right: 5px;\n",
       "}\n",
       "\n",
       ".xr-var-list > li:nth-child(odd) > div,\n",
       ".xr-var-list > li:nth-child(odd) > label,\n",
       ".xr-var-list > li:nth-child(odd) > .xr-var-name span {\n",
       "  background-color: var(--xr-background-color-row-odd);\n",
       "}\n",
       "\n",
       ".xr-var-name {\n",
       "  grid-column: 1;\n",
       "}\n",
       "\n",
       ".xr-var-dims {\n",
       "  grid-column: 2;\n",
       "}\n",
       "\n",
       ".xr-var-dtype {\n",
       "  grid-column: 3;\n",
       "  text-align: right;\n",
       "  color: var(--xr-font-color2);\n",
       "}\n",
       "\n",
       ".xr-var-preview {\n",
       "  grid-column: 4;\n",
       "}\n",
       "\n",
       ".xr-index-preview {\n",
       "  grid-column: 2 / 5;\n",
       "  color: var(--xr-font-color2);\n",
       "}\n",
       "\n",
       ".xr-var-name,\n",
       ".xr-var-dims,\n",
       ".xr-var-dtype,\n",
       ".xr-preview,\n",
       ".xr-attrs dt {\n",
       "  white-space: nowrap;\n",
       "  overflow: hidden;\n",
       "  text-overflow: ellipsis;\n",
       "  padding-right: 10px;\n",
       "}\n",
       "\n",
       ".xr-var-name:hover,\n",
       ".xr-var-dims:hover,\n",
       ".xr-var-dtype:hover,\n",
       ".xr-attrs dt:hover {\n",
       "  overflow: visible;\n",
       "  width: auto;\n",
       "  z-index: 1;\n",
       "}\n",
       "\n",
       ".xr-var-attrs,\n",
       ".xr-var-data,\n",
       ".xr-index-data {\n",
       "  display: none;\n",
       "  background-color: var(--xr-background-color) !important;\n",
       "  padding-bottom: 5px !important;\n",
       "}\n",
       "\n",
       ".xr-var-attrs-in:checked ~ .xr-var-attrs,\n",
       ".xr-var-data-in:checked ~ .xr-var-data,\n",
       ".xr-index-data-in:checked ~ .xr-index-data {\n",
       "  display: block;\n",
       "}\n",
       "\n",
       ".xr-var-data > table {\n",
       "  float: right;\n",
       "}\n",
       "\n",
       ".xr-var-name span,\n",
       ".xr-var-data,\n",
       ".xr-index-name div,\n",
       ".xr-index-data,\n",
       ".xr-attrs {\n",
       "  padding-left: 25px !important;\n",
       "}\n",
       "\n",
       ".xr-attrs,\n",
       ".xr-var-attrs,\n",
       ".xr-var-data,\n",
       ".xr-index-data {\n",
       "  grid-column: 1 / -1;\n",
       "}\n",
       "\n",
       "dl.xr-attrs {\n",
       "  padding: 0;\n",
       "  margin: 0;\n",
       "  display: grid;\n",
       "  grid-template-columns: 125px auto;\n",
       "}\n",
       "\n",
       ".xr-attrs dt,\n",
       ".xr-attrs dd {\n",
       "  padding: 0;\n",
       "  margin: 0;\n",
       "  float: left;\n",
       "  padding-right: 10px;\n",
       "  width: auto;\n",
       "}\n",
       "\n",
       ".xr-attrs dt {\n",
       "  font-weight: normal;\n",
       "  grid-column: 1;\n",
       "}\n",
       "\n",
       ".xr-attrs dt:hover span {\n",
       "  display: inline-block;\n",
       "  background: var(--xr-background-color);\n",
       "  padding-right: 10px;\n",
       "}\n",
       "\n",
       ".xr-attrs dd {\n",
       "  grid-column: 2;\n",
       "  white-space: pre-wrap;\n",
       "  word-break: break-all;\n",
       "}\n",
       "\n",
       ".xr-icon-database,\n",
       ".xr-icon-file-text2,\n",
       ".xr-no-icon {\n",
       "  display: inline-block;\n",
       "  vertical-align: middle;\n",
       "  width: 1em;\n",
       "  height: 1.5em !important;\n",
       "  stroke-width: 0;\n",
       "  stroke: currentColor;\n",
       "  fill: currentColor;\n",
       "}\n",
       "</style><pre class='xr-text-repr-fallback'>&lt;xarray.Dataset&gt; Size: 441MB\n",
       "Dimensions:    (lat: 1800, lon: 3600, time: 1)\n",
       "Coordinates:\n",
       "  * lat        (lat) float64 14kB 89.95 89.85 89.75 ... -89.75 -89.85 -89.95\n",
       "  * lon        (lon) float64 29kB -179.9 -179.8 -179.8 ... 179.7 179.8 179.9\n",
       "  * time       (time) datetime64[ns] 8B 2023-06-01T12:00:00\n",
       "Data variables: (12/18)\n",
       "    crs        |S1 1B ...\n",
       "    SWI_005    (time, lat, lon) float32 26MB ...\n",
       "    SWI_010    (time, lat, lon) float32 26MB ...\n",
       "    SWI_001    (time, lat, lon) float32 26MB ...\n",
       "    SWI_015    (time, lat, lon) float32 26MB ...\n",
       "    SWI_100    (time, lat, lon) float32 26MB ...\n",
       "    ...         ...\n",
       "    QFLAG_100  (time, lat, lon) float32 26MB ...\n",
       "    QFLAG_020  (time, lat, lon) float32 26MB ...\n",
       "    QFLAG_005  (time, lat, lon) float32 26MB ...\n",
       "    QFLAG_001  (time, lat, lon) float32 26MB ...\n",
       "    QFLAG_060  (time, lat, lon) float32 26MB ...\n",
       "    SSF        (time, lat, lon) float32 26MB ...\n",
       "Attributes: (12/25)\n",
       "    Conventions:          CF-1.6\n",
       "    archive_facility:     VITO\n",
       "    copyright:            Copernicus Service information 2023\n",
       "    geospatial_lat_max:   89.95\n",
       "    geospatial_lat_min:   -89.95\n",
       "    geospatial_lon_max:   179.95\n",
       "    ...                   ...\n",
       "    region_name:          GLOBE\n",
       "    sensor:               ASCAT\n",
       "    source:               Derived from EO microwave scatterometer observations\n",
       "    time_coverage_end:    2023-06-01T12:00:00Z\n",
       "    time_coverage_start:  2023-05-31T12:00:00Z\n",
       "    title:                Daily Soil Water Index 0.1degree: GLOBE 2023-06-01T...</pre><div class='xr-wrap' style='display:none'><div class='xr-header'><div class='xr-obj-type'>xarray.Dataset</div></div><ul class='xr-sections'><li class='xr-section-item'><input id='section-183347b1-73a1-4803-bdad-bce4fbebb532' class='xr-section-summary-in' type='checkbox' disabled ><label for='section-183347b1-73a1-4803-bdad-bce4fbebb532' class='xr-section-summary'  title='Expand/collapse section'>Dimensions:</label><div class='xr-section-inline-details'><ul class='xr-dim-list'><li><span class='xr-has-index'>lat</span>: 1800</li><li><span class='xr-has-index'>lon</span>: 3600</li><li><span class='xr-has-index'>time</span>: 1</li></ul></div><div class='xr-section-details'></div></li><li class='xr-section-item'><input id='section-465e0f5f-c8cc-4c90-9a18-09db65cf2519' class='xr-section-summary-in' type='checkbox'  checked><label for='section-465e0f5f-c8cc-4c90-9a18-09db65cf2519' class='xr-section-summary' >Coordinates: <span>(3)</span></label><div class='xr-section-inline-details'></div><div class='xr-section-details'><ul class='xr-var-list'><li class='xr-var-item'><div class='xr-var-name'><span class='xr-has-index'>lat</span></div><div class='xr-var-dims'>(lat)</div><div class='xr-var-dtype'>float64</div><div class='xr-var-preview xr-preview'>89.95 89.85 89.75 ... -89.85 -89.95</div><input id='attrs-5c5720cf-b33d-4e0b-84d7-5334372079de' class='xr-var-attrs-in' type='checkbox' ><label for='attrs-5c5720cf-b33d-4e0b-84d7-5334372079de' title='Show/Hide attributes'><svg class='icon xr-icon-file-text2'><use xlink:href='#icon-file-text2'></use></svg></label><input id='data-bf0e477a-68d2-474c-9450-23fa325e33fa' class='xr-var-data-in' type='checkbox'><label for='data-bf0e477a-68d2-474c-9450-23fa325e33fa' title='Show/Hide data repr'><svg class='icon xr-icon-database'><use xlink:href='#icon-database'></use></svg></label><div class='xr-var-attrs'><dl class='xr-attrs'><dt><span>standard_name :</span></dt><dd>latitude</dd><dt><span>long_name :</span></dt><dd>latitude</dd><dt><span>units :</span></dt><dd>degrees_north</dd><dt><span>axis :</span></dt><dd>Y</dd><dt><span>valid_range :</span></dt><dd>[-90.  90.]</dd></dl></div><div class='xr-var-data'><pre>array([ 89.95,  89.85,  89.75, ..., -89.75, -89.85, -89.95])</pre></div></li><li class='xr-var-item'><div class='xr-var-name'><span class='xr-has-index'>lon</span></div><div class='xr-var-dims'>(lon)</div><div class='xr-var-dtype'>float64</div><div class='xr-var-preview xr-preview'>-179.9 -179.8 ... 179.8 179.9</div><input id='attrs-ee901ea6-16df-443c-b813-4ec5bf8c73f9' class='xr-var-attrs-in' type='checkbox' ><label for='attrs-ee901ea6-16df-443c-b813-4ec5bf8c73f9' title='Show/Hide attributes'><svg class='icon xr-icon-file-text2'><use xlink:href='#icon-file-text2'></use></svg></label><input id='data-70de6b4f-2b4c-4243-b368-ab14ab28d549' class='xr-var-data-in' type='checkbox'><label for='data-70de6b4f-2b4c-4243-b368-ab14ab28d549' title='Show/Hide data repr'><svg class='icon xr-icon-database'><use xlink:href='#icon-database'></use></svg></label><div class='xr-var-attrs'><dl class='xr-attrs'><dt><span>standard_name :</span></dt><dd>longitude</dd><dt><span>long_name :</span></dt><dd>longitude</dd><dt><span>units :</span></dt><dd>degrees_east</dd><dt><span>axis :</span></dt><dd>X</dd><dt><span>valid_range :</span></dt><dd>[-180.  180.]</dd></dl></div><div class='xr-var-data'><pre>array([-179.95, -179.85, -179.75, ...,  179.75,  179.85,  179.95])</pre></div></li><li class='xr-var-item'><div class='xr-var-name'><span class='xr-has-index'>time</span></div><div class='xr-var-dims'>(time)</div><div class='xr-var-dtype'>datetime64[ns]</div><div class='xr-var-preview xr-preview'>2023-06-01T12:00:00</div><input id='attrs-488d4c68-3715-4607-80c7-2a0319403132' class='xr-var-attrs-in' type='checkbox' ><label for='attrs-488d4c68-3715-4607-80c7-2a0319403132' title='Show/Hide attributes'><svg class='icon xr-icon-file-text2'><use xlink:href='#icon-file-text2'></use></svg></label><input id='data-81dc5078-56dd-455f-9a85-344022b92d1f' class='xr-var-data-in' type='checkbox'><label for='data-81dc5078-56dd-455f-9a85-344022b92d1f' title='Show/Hide data repr'><svg class='icon xr-icon-database'><use xlink:href='#icon-database'></use></svg></label><div class='xr-var-attrs'><dl class='xr-attrs'><dt><span>standard_name :</span></dt><dd>time</dd><dt><span>long_name :</span></dt><dd>time</dd><dt><span>axis :</span></dt><dd>T</dd></dl></div><div class='xr-var-data'><pre>array([&#x27;2023-06-01T12:00:00.000000000&#x27;], dtype=&#x27;datetime64[ns]&#x27;)</pre></div></li></ul></div></li><li class='xr-section-item'><input id='section-e471947d-4e8b-4dc7-a9e9-27006184e2ca' class='xr-section-summary-in' type='checkbox'  ><label for='section-e471947d-4e8b-4dc7-a9e9-27006184e2ca' class='xr-section-summary' >Data variables: <span>(18)</span></label><div class='xr-section-inline-details'></div><div class='xr-section-details'><ul class='xr-var-list'><li class='xr-var-item'><div class='xr-var-name'><span>crs</span></div><div class='xr-var-dims'>()</div><div class='xr-var-dtype'>|S1</div><div class='xr-var-preview xr-preview'>...</div><input id='attrs-320117fd-2b54-4265-a5db-e807a94a6f76' class='xr-var-attrs-in' type='checkbox' ><label for='attrs-320117fd-2b54-4265-a5db-e807a94a6f76' title='Show/Hide attributes'><svg class='icon xr-icon-file-text2'><use xlink:href='#icon-file-text2'></use></svg></label><input id='data-01fdfadb-06b6-4db8-978f-8942c1945c8f' class='xr-var-data-in' type='checkbox'><label for='data-01fdfadb-06b6-4db8-978f-8942c1945c8f' title='Show/Hide data repr'><svg class='icon xr-icon-database'><use xlink:href='#icon-database'></use></svg></label><div class='xr-var-attrs'><dl class='xr-attrs'><dt><span>inverse_flattening :</span></dt><dd>298.257223563</dd><dt><span>spatial_ref :</span></dt><dd>GEOGCS[&quot;WGS 84&quot;,DATUM[&quot;WGS_1984&quot;,SPHEROID[&quot;WGS 84&quot;,6378137,298.257223563,AUTHORITY[&quot;EPSG&quot;,&quot;7030&quot;]],AUTHORITY[&quot;EPSG&quot;,&quot;6326&quot;]],PRIMEM[&quot;Greenwich&quot;,0,AUTHORITY[&quot;EPSG&quot;,&quot;8901&quot;]],UNIT[&quot;degree&quot;,0.0174532925199433,AUTHORITY[&quot;EPSG&quot;,&quot;9122&quot;]],AUTHORITY[&quot;EPSG&quot;,&quot;4326&quot;]]</dd><dt><span>semi_major_axis :</span></dt><dd>6378137.0</dd><dt><span>GeoTransform :</span></dt><dd>-180 0.1 0 90 0 -0.1</dd><dt><span>long_name :</span></dt><dd>CRS definition</dd><dt><span>grid_mapping_name :</span></dt><dd>latitude_longitude</dd><dt><span>longitude_of_prime_meridian :</span></dt><dd>0.0</dd></dl></div><div class='xr-var-data'><pre>[1 values with dtype=|S1]</pre></div></li><li class='xr-var-item'><div class='xr-var-name'><span>SWI_005</span></div><div class='xr-var-dims'>(time, lat, lon)</div><div class='xr-var-dtype'>float32</div><div class='xr-var-preview xr-preview'>...</div><input id='attrs-aa00ce81-69d6-4ca0-86ee-ebb4c1a3e9d5' class='xr-var-attrs-in' type='checkbox' ><label for='attrs-aa00ce81-69d6-4ca0-86ee-ebb4c1a3e9d5' title='Show/Hide attributes'><svg class='icon xr-icon-file-text2'><use xlink:href='#icon-file-text2'></use></svg></label><input id='data-90166341-09ac-4425-b263-700e09cd2fa6' class='xr-var-data-in' type='checkbox'><label for='data-90166341-09ac-4425-b263-700e09cd2fa6' title='Show/Hide data repr'><svg class='icon xr-icon-database'><use xlink:href='#icon-database'></use></svg></label><div class='xr-var-attrs'><dl class='xr-attrs'><dt><span>Class :</span></dt><dd>DATA</dd><dt><span>grid_mapping :</span></dt><dd>crs</dd><dt><span>long_name :</span></dt><dd>Soil Water Index with T=5</dd><dt><span>units :</span></dt><dd>%</dd><dt><span>valid_range :</span></dt><dd>[  0 200]</dd></dl></div><div class='xr-var-data'><pre>[6480000 values with dtype=float32]</pre></div></li><li class='xr-var-item'><div class='xr-var-name'><span>SWI_010</span></div><div class='xr-var-dims'>(time, lat, lon)</div><div class='xr-var-dtype'>float32</div><div class='xr-var-preview xr-preview'>...</div><input id='attrs-753d704e-d762-440d-b985-3510dfc10064' class='xr-var-attrs-in' type='checkbox' ><label for='attrs-753d704e-d762-440d-b985-3510dfc10064' title='Show/Hide attributes'><svg class='icon xr-icon-file-text2'><use xlink:href='#icon-file-text2'></use></svg></label><input id='data-75d3e405-c068-45d9-bd75-2961ebc7f645' class='xr-var-data-in' type='checkbox'><label for='data-75d3e405-c068-45d9-bd75-2961ebc7f645' title='Show/Hide data repr'><svg class='icon xr-icon-database'><use xlink:href='#icon-database'></use></svg></label><div class='xr-var-attrs'><dl class='xr-attrs'><dt><span>Class :</span></dt><dd>DATA</dd><dt><span>grid_mapping :</span></dt><dd>crs</dd><dt><span>long_name :</span></dt><dd>Soil Water Index with T=10</dd><dt><span>units :</span></dt><dd>%</dd><dt><span>valid_range :</span></dt><dd>[  0 200]</dd></dl></div><div class='xr-var-data'><pre>[6480000 values with dtype=float32]</pre></div></li><li class='xr-var-item'><div class='xr-var-name'><span>SWI_001</span></div><div class='xr-var-dims'>(time, lat, lon)</div><div class='xr-var-dtype'>float32</div><div class='xr-var-preview xr-preview'>...</div><input id='attrs-5ff27020-7336-4d60-b814-d810ba22235d' class='xr-var-attrs-in' type='checkbox' ><label for='attrs-5ff27020-7336-4d60-b814-d810ba22235d' title='Show/Hide attributes'><svg class='icon xr-icon-file-text2'><use xlink:href='#icon-file-text2'></use></svg></label><input id='data-1ae0fb76-8159-4455-a7d9-ff05450a9423' class='xr-var-data-in' type='checkbox'><label for='data-1ae0fb76-8159-4455-a7d9-ff05450a9423' title='Show/Hide data repr'><svg class='icon xr-icon-database'><use xlink:href='#icon-database'></use></svg></label><div class='xr-var-attrs'><dl class='xr-attrs'><dt><span>Class :</span></dt><dd>DATA</dd><dt><span>grid_mapping :</span></dt><dd>crs</dd><dt><span>long_name :</span></dt><dd>Soil Water Index with T=1</dd><dt><span>units :</span></dt><dd>%</dd><dt><span>valid_range :</span></dt><dd>[  0 200]</dd></dl></div><div class='xr-var-data'><pre>[6480000 values with dtype=float32]</pre></div></li><li class='xr-var-item'><div class='xr-var-name'><span>SWI_015</span></div><div class='xr-var-dims'>(time, lat, lon)</div><div class='xr-var-dtype'>float32</div><div class='xr-var-preview xr-preview'>...</div><input id='attrs-95cc1267-f99c-43f3-8012-17f637b7129b' class='xr-var-attrs-in' type='checkbox' ><label for='attrs-95cc1267-f99c-43f3-8012-17f637b7129b' title='Show/Hide attributes'><svg class='icon xr-icon-file-text2'><use xlink:href='#icon-file-text2'></use></svg></label><input id='data-b8af1180-1249-4675-af82-71f9e9b61dbb' class='xr-var-data-in' type='checkbox'><label for='data-b8af1180-1249-4675-af82-71f9e9b61dbb' title='Show/Hide data repr'><svg class='icon xr-icon-database'><use xlink:href='#icon-database'></use></svg></label><div class='xr-var-attrs'><dl class='xr-attrs'><dt><span>Class :</span></dt><dd>DATA</dd><dt><span>grid_mapping :</span></dt><dd>crs</dd><dt><span>long_name :</span></dt><dd>Soil Water Index with T=15</dd><dt><span>units :</span></dt><dd>%</dd><dt><span>valid_range :</span></dt><dd>[  0 200]</dd></dl></div><div class='xr-var-data'><pre>[6480000 values with dtype=float32]</pre></div></li><li class='xr-var-item'><div class='xr-var-name'><span>SWI_100</span></div><div class='xr-var-dims'>(time, lat, lon)</div><div class='xr-var-dtype'>float32</div><div class='xr-var-preview xr-preview'>...</div><input id='attrs-c4047321-9b0f-4a9e-b117-66bc84314985' class='xr-var-attrs-in' type='checkbox' ><label for='attrs-c4047321-9b0f-4a9e-b117-66bc84314985' title='Show/Hide attributes'><svg class='icon xr-icon-file-text2'><use xlink:href='#icon-file-text2'></use></svg></label><input id='data-c672242e-259e-456b-8ce4-7231de8f77ad' class='xr-var-data-in' type='checkbox'><label for='data-c672242e-259e-456b-8ce4-7231de8f77ad' title='Show/Hide data repr'><svg class='icon xr-icon-database'><use xlink:href='#icon-database'></use></svg></label><div class='xr-var-attrs'><dl class='xr-attrs'><dt><span>Class :</span></dt><dd>DATA</dd><dt><span>grid_mapping :</span></dt><dd>crs</dd><dt><span>long_name :</span></dt><dd>Soil Water Index with T=100</dd><dt><span>units :</span></dt><dd>%</dd><dt><span>valid_range :</span></dt><dd>[  0 200]</dd></dl></div><div class='xr-var-data'><pre>[6480000 values with dtype=float32]</pre></div></li><li class='xr-var-item'><div class='xr-var-name'><span>SWI_040</span></div><div class='xr-var-dims'>(time, lat, lon)</div><div class='xr-var-dtype'>float32</div><div class='xr-var-preview xr-preview'>...</div><input id='attrs-684e7670-a3f8-4376-9b22-2ff0ea8d3693' class='xr-var-attrs-in' type='checkbox' ><label for='attrs-684e7670-a3f8-4376-9b22-2ff0ea8d3693' title='Show/Hide attributes'><svg class='icon xr-icon-file-text2'><use xlink:href='#icon-file-text2'></use></svg></label><input id='data-e610d846-c162-40f2-afef-48bd2b5beaea' class='xr-var-data-in' type='checkbox'><label for='data-e610d846-c162-40f2-afef-48bd2b5beaea' title='Show/Hide data repr'><svg class='icon xr-icon-database'><use xlink:href='#icon-database'></use></svg></label><div class='xr-var-attrs'><dl class='xr-attrs'><dt><span>Class :</span></dt><dd>DATA</dd><dt><span>grid_mapping :</span></dt><dd>crs</dd><dt><span>long_name :</span></dt><dd>Soil Water Index with T=40</dd><dt><span>units :</span></dt><dd>%</dd><dt><span>valid_range :</span></dt><dd>[  0 200]</dd></dl></div><div class='xr-var-data'><pre>[6480000 values with dtype=float32]</pre></div></li><li class='xr-var-item'><div class='xr-var-name'><span>SWI_060</span></div><div class='xr-var-dims'>(time, lat, lon)</div><div class='xr-var-dtype'>float32</div><div class='xr-var-preview xr-preview'>...</div><input id='attrs-703113ad-31cc-4277-835b-72779d6be56a' class='xr-var-attrs-in' type='checkbox' ><label for='attrs-703113ad-31cc-4277-835b-72779d6be56a' title='Show/Hide attributes'><svg class='icon xr-icon-file-text2'><use xlink:href='#icon-file-text2'></use></svg></label><input id='data-f91f496b-99e0-4947-963e-1bd4d534cb5a' class='xr-var-data-in' type='checkbox'><label for='data-f91f496b-99e0-4947-963e-1bd4d534cb5a' title='Show/Hide data repr'><svg class='icon xr-icon-database'><use xlink:href='#icon-database'></use></svg></label><div class='xr-var-attrs'><dl class='xr-attrs'><dt><span>Class :</span></dt><dd>DATA</dd><dt><span>grid_mapping :</span></dt><dd>crs</dd><dt><span>long_name :</span></dt><dd>Soil Water Index with T=60</dd><dt><span>units :</span></dt><dd>%</dd><dt><span>valid_range :</span></dt><dd>[  0 200]</dd></dl></div><div class='xr-var-data'><pre>[6480000 values with dtype=float32]</pre></div></li><li class='xr-var-item'><div class='xr-var-name'><span>SWI_020</span></div><div class='xr-var-dims'>(time, lat, lon)</div><div class='xr-var-dtype'>float32</div><div class='xr-var-preview xr-preview'>...</div><input id='attrs-e0fc5229-1efe-45c6-9e0e-a511fdedea2c' class='xr-var-attrs-in' type='checkbox' ><label for='attrs-e0fc5229-1efe-45c6-9e0e-a511fdedea2c' title='Show/Hide attributes'><svg class='icon xr-icon-file-text2'><use xlink:href='#icon-file-text2'></use></svg></label><input id='data-80a59ef3-e07a-442e-ad87-fdbfbddf09d5' class='xr-var-data-in' type='checkbox'><label for='data-80a59ef3-e07a-442e-ad87-fdbfbddf09d5' title='Show/Hide data repr'><svg class='icon xr-icon-database'><use xlink:href='#icon-database'></use></svg></label><div class='xr-var-attrs'><dl class='xr-attrs'><dt><span>Class :</span></dt><dd>DATA</dd><dt><span>grid_mapping :</span></dt><dd>crs</dd><dt><span>long_name :</span></dt><dd>Soil Water Index with T=20</dd><dt><span>units :</span></dt><dd>%</dd><dt><span>valid_range :</span></dt><dd>[  0 200]</dd></dl></div><div class='xr-var-data'><pre>[6480000 values with dtype=float32]</pre></div></li><li class='xr-var-item'><div class='xr-var-name'><span>QFLAG_040</span></div><div class='xr-var-dims'>(time, lat, lon)</div><div class='xr-var-dtype'>float32</div><div class='xr-var-preview xr-preview'>...</div><input id='attrs-4167e130-673a-4d65-97b0-df82c67680d9' class='xr-var-attrs-in' type='checkbox' ><label for='attrs-4167e130-673a-4d65-97b0-df82c67680d9' title='Show/Hide attributes'><svg class='icon xr-icon-file-text2'><use xlink:href='#icon-file-text2'></use></svg></label><input id='data-0560bdda-a15c-4f04-8378-261d384d8cb0' class='xr-var-data-in' type='checkbox'><label for='data-0560bdda-a15c-4f04-8378-261d384d8cb0' title='Show/Hide data repr'><svg class='icon xr-icon-database'><use xlink:href='#icon-database'></use></svg></label><div class='xr-var-attrs'><dl class='xr-attrs'><dt><span>Class :</span></dt><dd>DATA</dd><dt><span>grid_mapping :</span></dt><dd>crs</dd><dt><span>long_name :</span></dt><dd>Quality Flag with T=40</dd><dt><span>units :</span></dt><dd>%</dd><dt><span>valid_range :</span></dt><dd>[  0 200]</dd></dl></div><div class='xr-var-data'><pre>[6480000 values with dtype=float32]</pre></div></li><li class='xr-var-item'><div class='xr-var-name'><span>QFLAG_010</span></div><div class='xr-var-dims'>(time, lat, lon)</div><div class='xr-var-dtype'>float32</div><div class='xr-var-preview xr-preview'>...</div><input id='attrs-e81db954-5346-4417-8945-3a5e3c30b2ae' class='xr-var-attrs-in' type='checkbox' ><label for='attrs-e81db954-5346-4417-8945-3a5e3c30b2ae' title='Show/Hide attributes'><svg class='icon xr-icon-file-text2'><use xlink:href='#icon-file-text2'></use></svg></label><input id='data-deb1e58e-44dc-41ed-8010-f67f73194cc9' class='xr-var-data-in' type='checkbox'><label for='data-deb1e58e-44dc-41ed-8010-f67f73194cc9' title='Show/Hide data repr'><svg class='icon xr-icon-database'><use xlink:href='#icon-database'></use></svg></label><div class='xr-var-attrs'><dl class='xr-attrs'><dt><span>Class :</span></dt><dd>DATA</dd><dt><span>grid_mapping :</span></dt><dd>crs</dd><dt><span>long_name :</span></dt><dd>Quality Flag with T=10</dd><dt><span>units :</span></dt><dd>%</dd><dt><span>valid_range :</span></dt><dd>[  0 200]</dd></dl></div><div class='xr-var-data'><pre>[6480000 values with dtype=float32]</pre></div></li><li class='xr-var-item'><div class='xr-var-name'><span>QFLAG_015</span></div><div class='xr-var-dims'>(time, lat, lon)</div><div class='xr-var-dtype'>float32</div><div class='xr-var-preview xr-preview'>...</div><input id='attrs-d0fc5576-5979-4f51-8fd3-bec93f5b2fd8' class='xr-var-attrs-in' type='checkbox' ><label for='attrs-d0fc5576-5979-4f51-8fd3-bec93f5b2fd8' title='Show/Hide attributes'><svg class='icon xr-icon-file-text2'><use xlink:href='#icon-file-text2'></use></svg></label><input id='data-93922c67-871a-4712-9c1f-1ab8398918eb' class='xr-var-data-in' type='checkbox'><label for='data-93922c67-871a-4712-9c1f-1ab8398918eb' title='Show/Hide data repr'><svg class='icon xr-icon-database'><use xlink:href='#icon-database'></use></svg></label><div class='xr-var-attrs'><dl class='xr-attrs'><dt><span>Class :</span></dt><dd>DATA</dd><dt><span>grid_mapping :</span></dt><dd>crs</dd><dt><span>long_name :</span></dt><dd>Quality Flag with T=15</dd><dt><span>units :</span></dt><dd>%</dd><dt><span>valid_range :</span></dt><dd>[  0 200]</dd></dl></div><div class='xr-var-data'><pre>[6480000 values with dtype=float32]</pre></div></li><li class='xr-var-item'><div class='xr-var-name'><span>QFLAG_100</span></div><div class='xr-var-dims'>(time, lat, lon)</div><div class='xr-var-dtype'>float32</div><div class='xr-var-preview xr-preview'>...</div><input id='attrs-01a89d57-76e8-41d5-8b9e-4c00c7e12db1' class='xr-var-attrs-in' type='checkbox' ><label for='attrs-01a89d57-76e8-41d5-8b9e-4c00c7e12db1' title='Show/Hide attributes'><svg class='icon xr-icon-file-text2'><use xlink:href='#icon-file-text2'></use></svg></label><input id='data-267de09b-cf03-444d-ae10-7a6827146903' class='xr-var-data-in' type='checkbox'><label for='data-267de09b-cf03-444d-ae10-7a6827146903' title='Show/Hide data repr'><svg class='icon xr-icon-database'><use xlink:href='#icon-database'></use></svg></label><div class='xr-var-attrs'><dl class='xr-attrs'><dt><span>Class :</span></dt><dd>DATA</dd><dt><span>grid_mapping :</span></dt><dd>crs</dd><dt><span>long_name :</span></dt><dd>Quality Flag with T=100</dd><dt><span>units :</span></dt><dd>%</dd><dt><span>valid_range :</span></dt><dd>[  0 200]</dd></dl></div><div class='xr-var-data'><pre>[6480000 values with dtype=float32]</pre></div></li><li class='xr-var-item'><div class='xr-var-name'><span>QFLAG_020</span></div><div class='xr-var-dims'>(time, lat, lon)</div><div class='xr-var-dtype'>float32</div><div class='xr-var-preview xr-preview'>...</div><input id='attrs-5ba4d48f-86b3-4980-af1d-7e33d3049ee3' class='xr-var-attrs-in' type='checkbox' ><label for='attrs-5ba4d48f-86b3-4980-af1d-7e33d3049ee3' title='Show/Hide attributes'><svg class='icon xr-icon-file-text2'><use xlink:href='#icon-file-text2'></use></svg></label><input id='data-c92523cd-b9d3-4248-ad61-0df180febac1' class='xr-var-data-in' type='checkbox'><label for='data-c92523cd-b9d3-4248-ad61-0df180febac1' title='Show/Hide data repr'><svg class='icon xr-icon-database'><use xlink:href='#icon-database'></use></svg></label><div class='xr-var-attrs'><dl class='xr-attrs'><dt><span>Class :</span></dt><dd>DATA</dd><dt><span>grid_mapping :</span></dt><dd>crs</dd><dt><span>long_name :</span></dt><dd>Quality Flag with T=20</dd><dt><span>units :</span></dt><dd>%</dd><dt><span>valid_range :</span></dt><dd>[  0 200]</dd></dl></div><div class='xr-var-data'><pre>[6480000 values with dtype=float32]</pre></div></li><li class='xr-var-item'><div class='xr-var-name'><span>QFLAG_005</span></div><div class='xr-var-dims'>(time, lat, lon)</div><div class='xr-var-dtype'>float32</div><div class='xr-var-preview xr-preview'>...</div><input id='attrs-4c491f10-960f-45aa-8ec1-6be7918f58de' class='xr-var-attrs-in' type='checkbox' ><label for='attrs-4c491f10-960f-45aa-8ec1-6be7918f58de' title='Show/Hide attributes'><svg class='icon xr-icon-file-text2'><use xlink:href='#icon-file-text2'></use></svg></label><input id='data-4eedbed7-dcfd-4820-a1a1-ab0678a695cd' class='xr-var-data-in' type='checkbox'><label for='data-4eedbed7-dcfd-4820-a1a1-ab0678a695cd' title='Show/Hide data repr'><svg class='icon xr-icon-database'><use xlink:href='#icon-database'></use></svg></label><div class='xr-var-attrs'><dl class='xr-attrs'><dt><span>Class :</span></dt><dd>DATA</dd><dt><span>grid_mapping :</span></dt><dd>crs</dd><dt><span>long_name :</span></dt><dd>Quality Flag with T=5</dd><dt><span>units :</span></dt><dd>%</dd><dt><span>valid_range :</span></dt><dd>[  0 200]</dd></dl></div><div class='xr-var-data'><pre>[6480000 values with dtype=float32]</pre></div></li><li class='xr-var-item'><div class='xr-var-name'><span>QFLAG_001</span></div><div class='xr-var-dims'>(time, lat, lon)</div><div class='xr-var-dtype'>float32</div><div class='xr-var-preview xr-preview'>...</div><input id='attrs-153809e8-40e0-4dd4-9bb4-268e5a6b8986' class='xr-var-attrs-in' type='checkbox' ><label for='attrs-153809e8-40e0-4dd4-9bb4-268e5a6b8986' title='Show/Hide attributes'><svg class='icon xr-icon-file-text2'><use xlink:href='#icon-file-text2'></use></svg></label><input id='data-c58f1a1a-db1d-4ee0-8430-d62db4cec907' class='xr-var-data-in' type='checkbox'><label for='data-c58f1a1a-db1d-4ee0-8430-d62db4cec907' title='Show/Hide data repr'><svg class='icon xr-icon-database'><use xlink:href='#icon-database'></use></svg></label><div class='xr-var-attrs'><dl class='xr-attrs'><dt><span>Class :</span></dt><dd>DATA</dd><dt><span>grid_mapping :</span></dt><dd>crs</dd><dt><span>long_name :</span></dt><dd>Quality Flag with T=1</dd><dt><span>units :</span></dt><dd>%</dd><dt><span>valid_range :</span></dt><dd>[  0 200]</dd></dl></div><div class='xr-var-data'><pre>[6480000 values with dtype=float32]</pre></div></li><li class='xr-var-item'><div class='xr-var-name'><span>QFLAG_060</span></div><div class='xr-var-dims'>(time, lat, lon)</div><div class='xr-var-dtype'>float32</div><div class='xr-var-preview xr-preview'>...</div><input id='attrs-0711e72b-0e81-4cae-bcda-30f791d7be14' class='xr-var-attrs-in' type='checkbox' ><label for='attrs-0711e72b-0e81-4cae-bcda-30f791d7be14' title='Show/Hide attributes'><svg class='icon xr-icon-file-text2'><use xlink:href='#icon-file-text2'></use></svg></label><input id='data-1ece375c-f4cf-48d5-8b73-f9dec384655d' class='xr-var-data-in' type='checkbox'><label for='data-1ece375c-f4cf-48d5-8b73-f9dec384655d' title='Show/Hide data repr'><svg class='icon xr-icon-database'><use xlink:href='#icon-database'></use></svg></label><div class='xr-var-attrs'><dl class='xr-attrs'><dt><span>Class :</span></dt><dd>DATA</dd><dt><span>grid_mapping :</span></dt><dd>crs</dd><dt><span>long_name :</span></dt><dd>Quality Flag with T=60</dd><dt><span>units :</span></dt><dd>%</dd><dt><span>valid_range :</span></dt><dd>[  0 200]</dd></dl></div><div class='xr-var-data'><pre>[6480000 values with dtype=float32]</pre></div></li><li class='xr-var-item'><div class='xr-var-name'><span>SSF</span></div><div class='xr-var-dims'>(time, lat, lon)</div><div class='xr-var-dtype'>float32</div><div class='xr-var-preview xr-preview'>...</div><input id='attrs-c2227048-a334-4621-9955-3bf33a5f665c' class='xr-var-attrs-in' type='checkbox' ><label for='attrs-c2227048-a334-4621-9955-3bf33a5f665c' title='Show/Hide attributes'><svg class='icon xr-icon-file-text2'><use xlink:href='#icon-file-text2'></use></svg></label><input id='data-8577c2eb-e872-48bb-bffb-5c1934717d19' class='xr-var-data-in' type='checkbox'><label for='data-8577c2eb-e872-48bb-bffb-5c1934717d19' title='Show/Hide data repr'><svg class='icon xr-icon-database'><use xlink:href='#icon-database'></use></svg></label><div class='xr-var-attrs'><dl class='xr-attrs'><dt><span>Class :</span></dt><dd>DATA</dd><dt><span>flag_meanings :</span></dt><dd>Unknown Unfrozen Frozen Melting_or_Surface_Water Missing</dd><dt><span>flag_values :</span></dt><dd>[  0   1   2   3 255]</dd><dt><span>grid_mapping :</span></dt><dd>crs</dd><dt><span>long_name :</span></dt><dd>Surface State Flag</dd><dt><span>valid_range :</span></dt><dd>[0 4]</dd></dl></div><div class='xr-var-data'><pre>[6480000 values with dtype=float32]</pre></div></li></ul></div></li><li class='xr-section-item'><input id='section-531bdfe1-9bb0-4784-a600-2aede4d36dc5' class='xr-section-summary-in' type='checkbox'  ><label for='section-531bdfe1-9bb0-4784-a600-2aede4d36dc5' class='xr-section-summary' >Indexes: <span>(3)</span></label><div class='xr-section-inline-details'></div><div class='xr-section-details'><ul class='xr-var-list'><li class='xr-var-item'><div class='xr-index-name'><div>lat</div></div><div class='xr-index-preview'>PandasIndex</div><div></div><input id='index-897e712a-8682-4365-af18-d0eddb0a11cf' class='xr-index-data-in' type='checkbox'/><label for='index-897e712a-8682-4365-af18-d0eddb0a11cf' title='Show/Hide index repr'><svg class='icon xr-icon-database'><use xlink:href='#icon-database'></use></svg></label><div class='xr-index-data'><pre>PandasIndex(Index([ 89.94999999998977,  89.84999999998978,  89.74999999998978,\n",
       "        89.64999999998979,   89.5499999999898,   89.4499999999898,\n",
       "         89.3499999999898,  89.24999999998981,  89.14999999998982,\n",
       "        89.04999999998982,\n",
       "       ...\n",
       "       -89.05000000000005, -89.15000000000005, -89.25000000000004,\n",
       "       -89.35000000000004, -89.45000000000003, -89.55000000000003,\n",
       "       -89.65000000000002, -89.75000000000001, -89.85000000000001,\n",
       "                   -89.95],\n",
       "      dtype=&#x27;float64&#x27;, name=&#x27;lat&#x27;, length=1800))</pre></div></li><li class='xr-var-item'><div class='xr-index-name'><div>lon</div></div><div class='xr-index-preview'>PandasIndex</div><div></div><input id='index-f45e1c81-693e-4de6-aa08-4fb98cf0a6ee' class='xr-index-data-in' type='checkbox'/><label for='index-f45e1c81-693e-4de6-aa08-4fb98cf0a6ee' title='Show/Hide index repr'><svg class='icon xr-icon-database'><use xlink:href='#icon-database'></use></svg></label><div class='xr-index-data'><pre>PandasIndex(Index([            -179.95,             -179.85,             -179.75,\n",
       "                   -179.65,             -179.55, -179.45000000000002,\n",
       "       -179.35000000000002, -179.25000000000003, -179.15000000000003,\n",
       "       -179.05000000000004,\n",
       "       ...\n",
       "         179.0499999999796,  179.14999999997957,   179.2499999999796,\n",
       "        179.34999999997962,  179.44999999997958,  179.54999999997955,\n",
       "        179.64999999997957,   179.7499999999796,  179.84999999997956,\n",
       "        179.94999999997953],\n",
       "      dtype=&#x27;float64&#x27;, name=&#x27;lon&#x27;, length=3600))</pre></div></li><li class='xr-var-item'><div class='xr-index-name'><div>time</div></div><div class='xr-index-preview'>PandasIndex</div><div></div><input id='index-8f53f2ce-5549-45ad-b27c-e52e46442f67' class='xr-index-data-in' type='checkbox'/><label for='index-8f53f2ce-5549-45ad-b27c-e52e46442f67' title='Show/Hide index repr'><svg class='icon xr-icon-database'><use xlink:href='#icon-database'></use></svg></label><div class='xr-index-data'><pre>PandasIndex(DatetimeIndex([&#x27;2023-06-01 12:00:00&#x27;], dtype=&#x27;datetime64[ns]&#x27;, name=&#x27;time&#x27;, freq=None))</pre></div></li></ul></div></li><li class='xr-section-item'><input id='section-d67aada4-d669-415a-b5db-a870ca60a472' class='xr-section-summary-in' type='checkbox'  ><label for='section-d67aada4-d669-415a-b5db-a870ca60a472' class='xr-section-summary' >Attributes: <span>(25)</span></label><div class='xr-section-inline-details'></div><div class='xr-section-details'><dl class='xr-attrs'><dt><span>Conventions :</span></dt><dd>CF-1.6</dd><dt><span>archive_facility :</span></dt><dd>VITO</dd><dt><span>copyright :</span></dt><dd>Copernicus Service information 2023</dd><dt><span>geospatial_lat_max :</span></dt><dd>89.95</dd><dt><span>geospatial_lat_min :</span></dt><dd>-89.95</dd><dt><span>geospatial_lon_max :</span></dt><dd>179.95</dd><dt><span>geospatial_lon_min :</span></dt><dd>-179.95</dd><dt><span>history :</span></dt><dd>2023-06-01 -- SWI NRT Production</dd><dt><span>identifier :</span></dt><dd>urn:cgls:global:swi_v3_0.1degree:SWI_202306011200_GLOBE_ASCAT_V3.2.1</dd><dt><span>institution :</span></dt><dd>TU Wien</dd><dt><span>long_name :</span></dt><dd>Soil Water Index</dd><dt><span>orbit_type :</span></dt><dd>LEO</dd><dt><span>parent_identifier :</span></dt><dd>urn:cgls:global:swi_v3_0.1degree</dd><dt><span>pixel_size :</span></dt><dd>0.1 degrees</dd><dt><span>platform :</span></dt><dd>METOP B+C</dd><dt><span>processing_level :</span></dt><dd>L3</dd><dt><span>processing_mode :</span></dt><dd>NRT Production</dd><dt><span>product_version :</span></dt><dd>V3.1.2</dd><dt><span>references :</span></dt><dd>https://land.copernicus.eu/global/products/swi</dd><dt><span>region_name :</span></dt><dd>GLOBE</dd><dt><span>sensor :</span></dt><dd>ASCAT</dd><dt><span>source :</span></dt><dd>Derived from EO microwave scatterometer observations</dd><dt><span>time_coverage_end :</span></dt><dd>2023-06-01T12:00:00Z</dd><dt><span>time_coverage_start :</span></dt><dd>2023-05-31T12:00:00Z</dd><dt><span>title :</span></dt><dd>Daily Soil Water Index 0.1degree: GLOBE 2023-06-01T12:00:00Z</dd></dl></div></li></ul></div></div>"
      ],
      "text/plain": [
       "<xarray.Dataset> Size: 441MB\n",
       "Dimensions:    (lat: 1800, lon: 3600, time: 1)\n",
       "Coordinates:\n",
       "  * lat        (lat) float64 14kB 89.95 89.85 89.75 ... -89.75 -89.85 -89.95\n",
       "  * lon        (lon) float64 29kB -179.9 -179.8 -179.8 ... 179.7 179.8 179.9\n",
       "  * time       (time) datetime64[ns] 8B 2023-06-01T12:00:00\n",
       "Data variables: (12/18)\n",
       "    crs        |S1 1B ...\n",
       "    SWI_005    (time, lat, lon) float32 26MB ...\n",
       "    SWI_010    (time, lat, lon) float32 26MB ...\n",
       "    SWI_001    (time, lat, lon) float32 26MB ...\n",
       "    SWI_015    (time, lat, lon) float32 26MB ...\n",
       "    SWI_100    (time, lat, lon) float32 26MB ...\n",
       "    ...         ...\n",
       "    QFLAG_100  (time, lat, lon) float32 26MB ...\n",
       "    QFLAG_020  (time, lat, lon) float32 26MB ...\n",
       "    QFLAG_005  (time, lat, lon) float32 26MB ...\n",
       "    QFLAG_001  (time, lat, lon) float32 26MB ...\n",
       "    QFLAG_060  (time, lat, lon) float32 26MB ...\n",
       "    SSF        (time, lat, lon) float32 26MB ...\n",
       "Attributes: (12/25)\n",
       "    Conventions:          CF-1.6\n",
       "    archive_facility:     VITO\n",
       "    copyright:            Copernicus Service information 2023\n",
       "    geospatial_lat_max:   89.95\n",
       "    geospatial_lat_min:   -89.95\n",
       "    geospatial_lon_max:   179.95\n",
       "    ...                   ...\n",
       "    region_name:          GLOBE\n",
       "    sensor:               ASCAT\n",
       "    source:               Derived from EO microwave scatterometer observations\n",
       "    time_coverage_end:    2023-06-01T12:00:00Z\n",
       "    time_coverage_start:  2023-05-31T12:00:00Z\n",
       "    title:                Daily Soil Water Index 0.1degree: GLOBE 2023-06-01T..."
      ]
     },
     "execution_count": 25,
     "metadata": {},
     "output_type": "execute_result"
    }
   ],
   "source": [
    "ncfile = xar.open_dataset(next(Path(\"gridded_data\").iterdir()))\n",
    "ncfile"
   ]
  },
  {
   "cell_type": "markdown",
   "id": "0c87cc5e-cf7b-4768-bde1-cce957b2a885",
   "metadata": {},
   "source": [
    "Since the data contains a 3rd dimension (\"time\"), we select the first entry to obtain a single layer"
   ]
  },
  {
   "cell_type": "code",
   "execution_count": 26,
   "id": "3a9cad24-d6e6-4a1b-9b4f-e2a52869fd44",
   "metadata": {},
   "outputs": [
    {
     "data": {
      "text/html": [
       "<div><svg style=\"position: absolute; width: 0; height: 0; overflow: hidden\">\n",
       "<defs>\n",
       "<symbol id=\"icon-database\" viewBox=\"0 0 32 32\">\n",
       "<path d=\"M16 0c-8.837 0-16 2.239-16 5v4c0 2.761 7.163 5 16 5s16-2.239 16-5v-4c0-2.761-7.163-5-16-5z\"></path>\n",
       "<path d=\"M16 17c-8.837 0-16-2.239-16-5v6c0 2.761 7.163 5 16 5s16-2.239 16-5v-6c0 2.761-7.163 5-16 5z\"></path>\n",
       "<path d=\"M16 26c-8.837 0-16-2.239-16-5v6c0 2.761 7.163 5 16 5s16-2.239 16-5v-6c0 2.761-7.163 5-16 5z\"></path>\n",
       "</symbol>\n",
       "<symbol id=\"icon-file-text2\" viewBox=\"0 0 32 32\">\n",
       "<path d=\"M28.681 7.159c-0.694-0.947-1.662-2.053-2.724-3.116s-2.169-2.030-3.116-2.724c-1.612-1.182-2.393-1.319-2.841-1.319h-15.5c-1.378 0-2.5 1.121-2.5 2.5v27c0 1.378 1.122 2.5 2.5 2.5h23c1.378 0 2.5-1.122 2.5-2.5v-19.5c0-0.448-0.137-1.23-1.319-2.841zM24.543 5.457c0.959 0.959 1.712 1.825 2.268 2.543h-4.811v-4.811c0.718 0.556 1.584 1.309 2.543 2.268zM28 29.5c0 0.271-0.229 0.5-0.5 0.5h-23c-0.271 0-0.5-0.229-0.5-0.5v-27c0-0.271 0.229-0.5 0.5-0.5 0 0 15.499-0 15.5 0v7c0 0.552 0.448 1 1 1h7v19.5z\"></path>\n",
       "<path d=\"M23 26h-14c-0.552 0-1-0.448-1-1s0.448-1 1-1h14c0.552 0 1 0.448 1 1s-0.448 1-1 1z\"></path>\n",
       "<path d=\"M23 22h-14c-0.552 0-1-0.448-1-1s0.448-1 1-1h14c0.552 0 1 0.448 1 1s-0.448 1-1 1z\"></path>\n",
       "<path d=\"M23 18h-14c-0.552 0-1-0.448-1-1s0.448-1 1-1h14c0.552 0 1 0.448 1 1s-0.448 1-1 1z\"></path>\n",
       "</symbol>\n",
       "</defs>\n",
       "</svg>\n",
       "<style>/* CSS stylesheet for displaying xarray objects in jupyterlab.\n",
       " *\n",
       " */\n",
       "\n",
       ":root {\n",
       "  --xr-font-color0: var(--jp-content-font-color0, rgba(0, 0, 0, 1));\n",
       "  --xr-font-color2: var(--jp-content-font-color2, rgba(0, 0, 0, 0.54));\n",
       "  --xr-font-color3: var(--jp-content-font-color3, rgba(0, 0, 0, 0.38));\n",
       "  --xr-border-color: var(--jp-border-color2, #e0e0e0);\n",
       "  --xr-disabled-color: var(--jp-layout-color3, #bdbdbd);\n",
       "  --xr-background-color: var(--jp-layout-color0, white);\n",
       "  --xr-background-color-row-even: var(--jp-layout-color1, white);\n",
       "  --xr-background-color-row-odd: var(--jp-layout-color2, #eeeeee);\n",
       "}\n",
       "\n",
       "html[theme=dark],\n",
       "body[data-theme=dark],\n",
       "body.vscode-dark {\n",
       "  --xr-font-color0: rgba(255, 255, 255, 1);\n",
       "  --xr-font-color2: rgba(255, 255, 255, 0.54);\n",
       "  --xr-font-color3: rgba(255, 255, 255, 0.38);\n",
       "  --xr-border-color: #1F1F1F;\n",
       "  --xr-disabled-color: #515151;\n",
       "  --xr-background-color: #111111;\n",
       "  --xr-background-color-row-even: #111111;\n",
       "  --xr-background-color-row-odd: #313131;\n",
       "}\n",
       "\n",
       ".xr-wrap {\n",
       "  display: block !important;\n",
       "  min-width: 300px;\n",
       "  max-width: 700px;\n",
       "}\n",
       "\n",
       ".xr-text-repr-fallback {\n",
       "  /* fallback to plain text repr when CSS is not injected (untrusted notebook) */\n",
       "  display: none;\n",
       "}\n",
       "\n",
       ".xr-header {\n",
       "  padding-top: 6px;\n",
       "  padding-bottom: 6px;\n",
       "  margin-bottom: 4px;\n",
       "  border-bottom: solid 1px var(--xr-border-color);\n",
       "}\n",
       "\n",
       ".xr-header > div,\n",
       ".xr-header > ul {\n",
       "  display: inline;\n",
       "  margin-top: 0;\n",
       "  margin-bottom: 0;\n",
       "}\n",
       "\n",
       ".xr-obj-type,\n",
       ".xr-array-name {\n",
       "  margin-left: 2px;\n",
       "  margin-right: 10px;\n",
       "}\n",
       "\n",
       ".xr-obj-type {\n",
       "  color: var(--xr-font-color2);\n",
       "}\n",
       "\n",
       ".xr-sections {\n",
       "  padding-left: 0 !important;\n",
       "  display: grid;\n",
       "  grid-template-columns: 150px auto auto 1fr 20px 20px;\n",
       "}\n",
       "\n",
       ".xr-section-item {\n",
       "  display: contents;\n",
       "}\n",
       "\n",
       ".xr-section-item input {\n",
       "  display: none;\n",
       "}\n",
       "\n",
       ".xr-section-item input + label {\n",
       "  color: var(--xr-disabled-color);\n",
       "}\n",
       "\n",
       ".xr-section-item input:enabled + label {\n",
       "  cursor: pointer;\n",
       "  color: var(--xr-font-color2);\n",
       "}\n",
       "\n",
       ".xr-section-item input:enabled + label:hover {\n",
       "  color: var(--xr-font-color0);\n",
       "}\n",
       "\n",
       ".xr-section-summary {\n",
       "  grid-column: 1;\n",
       "  color: var(--xr-font-color2);\n",
       "  font-weight: 500;\n",
       "}\n",
       "\n",
       ".xr-section-summary > span {\n",
       "  display: inline-block;\n",
       "  padding-left: 0.5em;\n",
       "}\n",
       "\n",
       ".xr-section-summary-in:disabled + label {\n",
       "  color: var(--xr-font-color2);\n",
       "}\n",
       "\n",
       ".xr-section-summary-in + label:before {\n",
       "  display: inline-block;\n",
       "  content: '►';\n",
       "  font-size: 11px;\n",
       "  width: 15px;\n",
       "  text-align: center;\n",
       "}\n",
       "\n",
       ".xr-section-summary-in:disabled + label:before {\n",
       "  color: var(--xr-disabled-color);\n",
       "}\n",
       "\n",
       ".xr-section-summary-in:checked + label:before {\n",
       "  content: '▼';\n",
       "}\n",
       "\n",
       ".xr-section-summary-in:checked + label > span {\n",
       "  display: none;\n",
       "}\n",
       "\n",
       ".xr-section-summary,\n",
       ".xr-section-inline-details {\n",
       "  padding-top: 4px;\n",
       "  padding-bottom: 4px;\n",
       "}\n",
       "\n",
       ".xr-section-inline-details {\n",
       "  grid-column: 2 / -1;\n",
       "}\n",
       "\n",
       ".xr-section-details {\n",
       "  display: none;\n",
       "  grid-column: 1 / -1;\n",
       "  margin-bottom: 5px;\n",
       "}\n",
       "\n",
       ".xr-section-summary-in:checked ~ .xr-section-details {\n",
       "  display: contents;\n",
       "}\n",
       "\n",
       ".xr-array-wrap {\n",
       "  grid-column: 1 / -1;\n",
       "  display: grid;\n",
       "  grid-template-columns: 20px auto;\n",
       "}\n",
       "\n",
       ".xr-array-wrap > label {\n",
       "  grid-column: 1;\n",
       "  vertical-align: top;\n",
       "}\n",
       "\n",
       ".xr-preview {\n",
       "  color: var(--xr-font-color3);\n",
       "}\n",
       "\n",
       ".xr-array-preview,\n",
       ".xr-array-data {\n",
       "  padding: 0 5px !important;\n",
       "  grid-column: 2;\n",
       "}\n",
       "\n",
       ".xr-array-data,\n",
       ".xr-array-in:checked ~ .xr-array-preview {\n",
       "  display: none;\n",
       "}\n",
       "\n",
       ".xr-array-in:checked ~ .xr-array-data,\n",
       ".xr-array-preview {\n",
       "  display: inline-block;\n",
       "}\n",
       "\n",
       ".xr-dim-list {\n",
       "  display: inline-block !important;\n",
       "  list-style: none;\n",
       "  padding: 0 !important;\n",
       "  margin: 0;\n",
       "}\n",
       "\n",
       ".xr-dim-list li {\n",
       "  display: inline-block;\n",
       "  padding: 0;\n",
       "  margin: 0;\n",
       "}\n",
       "\n",
       ".xr-dim-list:before {\n",
       "  content: '(';\n",
       "}\n",
       "\n",
       ".xr-dim-list:after {\n",
       "  content: ')';\n",
       "}\n",
       "\n",
       ".xr-dim-list li:not(:last-child):after {\n",
       "  content: ',';\n",
       "  padding-right: 5px;\n",
       "}\n",
       "\n",
       ".xr-has-index {\n",
       "  font-weight: bold;\n",
       "}\n",
       "\n",
       ".xr-var-list,\n",
       ".xr-var-item {\n",
       "  display: contents;\n",
       "}\n",
       "\n",
       ".xr-var-item > div,\n",
       ".xr-var-item label,\n",
       ".xr-var-item > .xr-var-name span {\n",
       "  background-color: var(--xr-background-color-row-even);\n",
       "  margin-bottom: 0;\n",
       "}\n",
       "\n",
       ".xr-var-item > .xr-var-name:hover span {\n",
       "  padding-right: 5px;\n",
       "}\n",
       "\n",
       ".xr-var-list > li:nth-child(odd) > div,\n",
       ".xr-var-list > li:nth-child(odd) > label,\n",
       ".xr-var-list > li:nth-child(odd) > .xr-var-name span {\n",
       "  background-color: var(--xr-background-color-row-odd);\n",
       "}\n",
       "\n",
       ".xr-var-name {\n",
       "  grid-column: 1;\n",
       "}\n",
       "\n",
       ".xr-var-dims {\n",
       "  grid-column: 2;\n",
       "}\n",
       "\n",
       ".xr-var-dtype {\n",
       "  grid-column: 3;\n",
       "  text-align: right;\n",
       "  color: var(--xr-font-color2);\n",
       "}\n",
       "\n",
       ".xr-var-preview {\n",
       "  grid-column: 4;\n",
       "}\n",
       "\n",
       ".xr-index-preview {\n",
       "  grid-column: 2 / 5;\n",
       "  color: var(--xr-font-color2);\n",
       "}\n",
       "\n",
       ".xr-var-name,\n",
       ".xr-var-dims,\n",
       ".xr-var-dtype,\n",
       ".xr-preview,\n",
       ".xr-attrs dt {\n",
       "  white-space: nowrap;\n",
       "  overflow: hidden;\n",
       "  text-overflow: ellipsis;\n",
       "  padding-right: 10px;\n",
       "}\n",
       "\n",
       ".xr-var-name:hover,\n",
       ".xr-var-dims:hover,\n",
       ".xr-var-dtype:hover,\n",
       ".xr-attrs dt:hover {\n",
       "  overflow: visible;\n",
       "  width: auto;\n",
       "  z-index: 1;\n",
       "}\n",
       "\n",
       ".xr-var-attrs,\n",
       ".xr-var-data,\n",
       ".xr-index-data {\n",
       "  display: none;\n",
       "  background-color: var(--xr-background-color) !important;\n",
       "  padding-bottom: 5px !important;\n",
       "}\n",
       "\n",
       ".xr-var-attrs-in:checked ~ .xr-var-attrs,\n",
       ".xr-var-data-in:checked ~ .xr-var-data,\n",
       ".xr-index-data-in:checked ~ .xr-index-data {\n",
       "  display: block;\n",
       "}\n",
       "\n",
       ".xr-var-data > table {\n",
       "  float: right;\n",
       "}\n",
       "\n",
       ".xr-var-name span,\n",
       ".xr-var-data,\n",
       ".xr-index-name div,\n",
       ".xr-index-data,\n",
       ".xr-attrs {\n",
       "  padding-left: 25px !important;\n",
       "}\n",
       "\n",
       ".xr-attrs,\n",
       ".xr-var-attrs,\n",
       ".xr-var-data,\n",
       ".xr-index-data {\n",
       "  grid-column: 1 / -1;\n",
       "}\n",
       "\n",
       "dl.xr-attrs {\n",
       "  padding: 0;\n",
       "  margin: 0;\n",
       "  display: grid;\n",
       "  grid-template-columns: 125px auto;\n",
       "}\n",
       "\n",
       ".xr-attrs dt,\n",
       ".xr-attrs dd {\n",
       "  padding: 0;\n",
       "  margin: 0;\n",
       "  float: left;\n",
       "  padding-right: 10px;\n",
       "  width: auto;\n",
       "}\n",
       "\n",
       ".xr-attrs dt {\n",
       "  font-weight: normal;\n",
       "  grid-column: 1;\n",
       "}\n",
       "\n",
       ".xr-attrs dt:hover span {\n",
       "  display: inline-block;\n",
       "  background: var(--xr-background-color);\n",
       "  padding-right: 10px;\n",
       "}\n",
       "\n",
       ".xr-attrs dd {\n",
       "  grid-column: 2;\n",
       "  white-space: pre-wrap;\n",
       "  word-break: break-all;\n",
       "}\n",
       "\n",
       ".xr-icon-database,\n",
       ".xr-icon-file-text2,\n",
       ".xr-no-icon {\n",
       "  display: inline-block;\n",
       "  vertical-align: middle;\n",
       "  width: 1em;\n",
       "  height: 1.5em !important;\n",
       "  stroke-width: 0;\n",
       "  stroke: currentColor;\n",
       "  fill: currentColor;\n",
       "}\n",
       "</style><pre class='xr-text-repr-fallback'>&lt;xarray.Dataset&gt; Size: 441MB\n",
       "Dimensions:    (lat: 1800, lon: 3600)\n",
       "Coordinates:\n",
       "  * lat        (lat) float64 14kB 89.95 89.85 89.75 ... -89.75 -89.85 -89.95\n",
       "  * lon        (lon) float64 29kB -179.9 -179.8 -179.8 ... 179.7 179.8 179.9\n",
       "    time       datetime64[ns] 8B 2023-06-01T12:00:00\n",
       "Data variables: (12/18)\n",
       "    crs        |S1 1B ...\n",
       "    SWI_005    (lat, lon) float32 26MB ...\n",
       "    SWI_010    (lat, lon) float32 26MB ...\n",
       "    SWI_001    (lat, lon) float32 26MB ...\n",
       "    SWI_015    (lat, lon) float32 26MB ...\n",
       "    SWI_100    (lat, lon) float32 26MB ...\n",
       "    ...         ...\n",
       "    QFLAG_100  (lat, lon) float32 26MB ...\n",
       "    QFLAG_020  (lat, lon) float32 26MB ...\n",
       "    QFLAG_005  (lat, lon) float32 26MB ...\n",
       "    QFLAG_001  (lat, lon) float32 26MB ...\n",
       "    QFLAG_060  (lat, lon) float32 26MB ...\n",
       "    SSF        (lat, lon) float32 26MB ...\n",
       "Attributes: (12/25)\n",
       "    Conventions:          CF-1.6\n",
       "    archive_facility:     VITO\n",
       "    copyright:            Copernicus Service information 2023\n",
       "    geospatial_lat_max:   89.95\n",
       "    geospatial_lat_min:   -89.95\n",
       "    geospatial_lon_max:   179.95\n",
       "    ...                   ...\n",
       "    region_name:          GLOBE\n",
       "    sensor:               ASCAT\n",
       "    source:               Derived from EO microwave scatterometer observations\n",
       "    time_coverage_end:    2023-06-01T12:00:00Z\n",
       "    time_coverage_start:  2023-05-31T12:00:00Z\n",
       "    title:                Daily Soil Water Index 0.1degree: GLOBE 2023-06-01T...</pre><div class='xr-wrap' style='display:none'><div class='xr-header'><div class='xr-obj-type'>xarray.Dataset</div></div><ul class='xr-sections'><li class='xr-section-item'><input id='section-fb4a4406-940d-4147-a9cb-985a222dc563' class='xr-section-summary-in' type='checkbox' disabled ><label for='section-fb4a4406-940d-4147-a9cb-985a222dc563' class='xr-section-summary'  title='Expand/collapse section'>Dimensions:</label><div class='xr-section-inline-details'><ul class='xr-dim-list'><li><span class='xr-has-index'>lat</span>: 1800</li><li><span class='xr-has-index'>lon</span>: 3600</li></ul></div><div class='xr-section-details'></div></li><li class='xr-section-item'><input id='section-bb773b22-0d0f-4f19-917c-2d7fbad8ff8c' class='xr-section-summary-in' type='checkbox'  checked><label for='section-bb773b22-0d0f-4f19-917c-2d7fbad8ff8c' class='xr-section-summary' >Coordinates: <span>(3)</span></label><div class='xr-section-inline-details'></div><div class='xr-section-details'><ul class='xr-var-list'><li class='xr-var-item'><div class='xr-var-name'><span class='xr-has-index'>lat</span></div><div class='xr-var-dims'>(lat)</div><div class='xr-var-dtype'>float64</div><div class='xr-var-preview xr-preview'>89.95 89.85 89.75 ... -89.85 -89.95</div><input id='attrs-9fa6e71b-52bc-4ae2-b13d-7805d22bc0eb' class='xr-var-attrs-in' type='checkbox' ><label for='attrs-9fa6e71b-52bc-4ae2-b13d-7805d22bc0eb' title='Show/Hide attributes'><svg class='icon xr-icon-file-text2'><use xlink:href='#icon-file-text2'></use></svg></label><input id='data-9941e8fa-5102-46d8-8602-9d7858fea6ee' class='xr-var-data-in' type='checkbox'><label for='data-9941e8fa-5102-46d8-8602-9d7858fea6ee' title='Show/Hide data repr'><svg class='icon xr-icon-database'><use xlink:href='#icon-database'></use></svg></label><div class='xr-var-attrs'><dl class='xr-attrs'><dt><span>standard_name :</span></dt><dd>latitude</dd><dt><span>long_name :</span></dt><dd>latitude</dd><dt><span>units :</span></dt><dd>degrees_north</dd><dt><span>axis :</span></dt><dd>Y</dd><dt><span>valid_range :</span></dt><dd>[-90.  90.]</dd></dl></div><div class='xr-var-data'><pre>array([ 89.95,  89.85,  89.75, ..., -89.75, -89.85, -89.95])</pre></div></li><li class='xr-var-item'><div class='xr-var-name'><span class='xr-has-index'>lon</span></div><div class='xr-var-dims'>(lon)</div><div class='xr-var-dtype'>float64</div><div class='xr-var-preview xr-preview'>-179.9 -179.8 ... 179.8 179.9</div><input id='attrs-ffa2c692-116f-40a8-8d22-5fe0b0e94412' class='xr-var-attrs-in' type='checkbox' ><label for='attrs-ffa2c692-116f-40a8-8d22-5fe0b0e94412' title='Show/Hide attributes'><svg class='icon xr-icon-file-text2'><use xlink:href='#icon-file-text2'></use></svg></label><input id='data-25b3a620-8dc9-4aa5-9f13-9f3e96d774dc' class='xr-var-data-in' type='checkbox'><label for='data-25b3a620-8dc9-4aa5-9f13-9f3e96d774dc' title='Show/Hide data repr'><svg class='icon xr-icon-database'><use xlink:href='#icon-database'></use></svg></label><div class='xr-var-attrs'><dl class='xr-attrs'><dt><span>standard_name :</span></dt><dd>longitude</dd><dt><span>long_name :</span></dt><dd>longitude</dd><dt><span>units :</span></dt><dd>degrees_east</dd><dt><span>axis :</span></dt><dd>X</dd><dt><span>valid_range :</span></dt><dd>[-180.  180.]</dd></dl></div><div class='xr-var-data'><pre>array([-179.95, -179.85, -179.75, ...,  179.75,  179.85,  179.95])</pre></div></li><li class='xr-var-item'><div class='xr-var-name'><span>time</span></div><div class='xr-var-dims'>()</div><div class='xr-var-dtype'>datetime64[ns]</div><div class='xr-var-preview xr-preview'>2023-06-01T12:00:00</div><input id='attrs-81038e4d-5d0e-4f0a-9f21-186ee2d21d09' class='xr-var-attrs-in' type='checkbox' ><label for='attrs-81038e4d-5d0e-4f0a-9f21-186ee2d21d09' title='Show/Hide attributes'><svg class='icon xr-icon-file-text2'><use xlink:href='#icon-file-text2'></use></svg></label><input id='data-144af446-4cb3-4c44-a391-1ad7644285dc' class='xr-var-data-in' type='checkbox'><label for='data-144af446-4cb3-4c44-a391-1ad7644285dc' title='Show/Hide data repr'><svg class='icon xr-icon-database'><use xlink:href='#icon-database'></use></svg></label><div class='xr-var-attrs'><dl class='xr-attrs'><dt><span>standard_name :</span></dt><dd>time</dd><dt><span>long_name :</span></dt><dd>time</dd><dt><span>axis :</span></dt><dd>T</dd></dl></div><div class='xr-var-data'><pre>array(&#x27;2023-06-01T12:00:00.000000000&#x27;, dtype=&#x27;datetime64[ns]&#x27;)</pre></div></li></ul></div></li><li class='xr-section-item'><input id='section-de017be0-173d-49dc-be8b-039907023bcc' class='xr-section-summary-in' type='checkbox'  ><label for='section-de017be0-173d-49dc-be8b-039907023bcc' class='xr-section-summary' >Data variables: <span>(18)</span></label><div class='xr-section-inline-details'></div><div class='xr-section-details'><ul class='xr-var-list'><li class='xr-var-item'><div class='xr-var-name'><span>crs</span></div><div class='xr-var-dims'>()</div><div class='xr-var-dtype'>|S1</div><div class='xr-var-preview xr-preview'>...</div><input id='attrs-a0e3ad9d-4228-4802-ac5d-7cde269c8098' class='xr-var-attrs-in' type='checkbox' ><label for='attrs-a0e3ad9d-4228-4802-ac5d-7cde269c8098' title='Show/Hide attributes'><svg class='icon xr-icon-file-text2'><use xlink:href='#icon-file-text2'></use></svg></label><input id='data-b546b6f9-d227-4532-9de1-1776d9bcb679' class='xr-var-data-in' type='checkbox'><label for='data-b546b6f9-d227-4532-9de1-1776d9bcb679' title='Show/Hide data repr'><svg class='icon xr-icon-database'><use xlink:href='#icon-database'></use></svg></label><div class='xr-var-attrs'><dl class='xr-attrs'><dt><span>inverse_flattening :</span></dt><dd>298.257223563</dd><dt><span>spatial_ref :</span></dt><dd>GEOGCS[&quot;WGS 84&quot;,DATUM[&quot;WGS_1984&quot;,SPHEROID[&quot;WGS 84&quot;,6378137,298.257223563,AUTHORITY[&quot;EPSG&quot;,&quot;7030&quot;]],AUTHORITY[&quot;EPSG&quot;,&quot;6326&quot;]],PRIMEM[&quot;Greenwich&quot;,0,AUTHORITY[&quot;EPSG&quot;,&quot;8901&quot;]],UNIT[&quot;degree&quot;,0.0174532925199433,AUTHORITY[&quot;EPSG&quot;,&quot;9122&quot;]],AUTHORITY[&quot;EPSG&quot;,&quot;4326&quot;]]</dd><dt><span>semi_major_axis :</span></dt><dd>6378137.0</dd><dt><span>GeoTransform :</span></dt><dd>-180 0.1 0 90 0 -0.1</dd><dt><span>long_name :</span></dt><dd>CRS definition</dd><dt><span>grid_mapping_name :</span></dt><dd>latitude_longitude</dd><dt><span>longitude_of_prime_meridian :</span></dt><dd>0.0</dd></dl></div><div class='xr-var-data'><pre>[1 values with dtype=|S1]</pre></div></li><li class='xr-var-item'><div class='xr-var-name'><span>SWI_005</span></div><div class='xr-var-dims'>(lat, lon)</div><div class='xr-var-dtype'>float32</div><div class='xr-var-preview xr-preview'>...</div><input id='attrs-8497ab1d-e637-4980-a866-b64fdeecc062' class='xr-var-attrs-in' type='checkbox' ><label for='attrs-8497ab1d-e637-4980-a866-b64fdeecc062' title='Show/Hide attributes'><svg class='icon xr-icon-file-text2'><use xlink:href='#icon-file-text2'></use></svg></label><input id='data-53a7dc24-d3c6-45be-980f-06131a8d5726' class='xr-var-data-in' type='checkbox'><label for='data-53a7dc24-d3c6-45be-980f-06131a8d5726' title='Show/Hide data repr'><svg class='icon xr-icon-database'><use xlink:href='#icon-database'></use></svg></label><div class='xr-var-attrs'><dl class='xr-attrs'><dt><span>Class :</span></dt><dd>DATA</dd><dt><span>grid_mapping :</span></dt><dd>crs</dd><dt><span>long_name :</span></dt><dd>Soil Water Index with T=5</dd><dt><span>units :</span></dt><dd>%</dd><dt><span>valid_range :</span></dt><dd>[  0 200]</dd></dl></div><div class='xr-var-data'><pre>[6480000 values with dtype=float32]</pre></div></li><li class='xr-var-item'><div class='xr-var-name'><span>SWI_010</span></div><div class='xr-var-dims'>(lat, lon)</div><div class='xr-var-dtype'>float32</div><div class='xr-var-preview xr-preview'>...</div><input id='attrs-8e419860-a100-4ca5-8b93-050f4bc53fbb' class='xr-var-attrs-in' type='checkbox' ><label for='attrs-8e419860-a100-4ca5-8b93-050f4bc53fbb' title='Show/Hide attributes'><svg class='icon xr-icon-file-text2'><use xlink:href='#icon-file-text2'></use></svg></label><input id='data-6d5eccf7-4414-47c8-8a69-29fb30a1b8cc' class='xr-var-data-in' type='checkbox'><label for='data-6d5eccf7-4414-47c8-8a69-29fb30a1b8cc' title='Show/Hide data repr'><svg class='icon xr-icon-database'><use xlink:href='#icon-database'></use></svg></label><div class='xr-var-attrs'><dl class='xr-attrs'><dt><span>Class :</span></dt><dd>DATA</dd><dt><span>grid_mapping :</span></dt><dd>crs</dd><dt><span>long_name :</span></dt><dd>Soil Water Index with T=10</dd><dt><span>units :</span></dt><dd>%</dd><dt><span>valid_range :</span></dt><dd>[  0 200]</dd></dl></div><div class='xr-var-data'><pre>[6480000 values with dtype=float32]</pre></div></li><li class='xr-var-item'><div class='xr-var-name'><span>SWI_001</span></div><div class='xr-var-dims'>(lat, lon)</div><div class='xr-var-dtype'>float32</div><div class='xr-var-preview xr-preview'>...</div><input id='attrs-7bb867e4-a794-4794-b4c9-ce1df0a8d68a' class='xr-var-attrs-in' type='checkbox' ><label for='attrs-7bb867e4-a794-4794-b4c9-ce1df0a8d68a' title='Show/Hide attributes'><svg class='icon xr-icon-file-text2'><use xlink:href='#icon-file-text2'></use></svg></label><input id='data-51aab1cf-a460-41f3-bc73-980c2d987368' class='xr-var-data-in' type='checkbox'><label for='data-51aab1cf-a460-41f3-bc73-980c2d987368' title='Show/Hide data repr'><svg class='icon xr-icon-database'><use xlink:href='#icon-database'></use></svg></label><div class='xr-var-attrs'><dl class='xr-attrs'><dt><span>Class :</span></dt><dd>DATA</dd><dt><span>grid_mapping :</span></dt><dd>crs</dd><dt><span>long_name :</span></dt><dd>Soil Water Index with T=1</dd><dt><span>units :</span></dt><dd>%</dd><dt><span>valid_range :</span></dt><dd>[  0 200]</dd></dl></div><div class='xr-var-data'><pre>[6480000 values with dtype=float32]</pre></div></li><li class='xr-var-item'><div class='xr-var-name'><span>SWI_015</span></div><div class='xr-var-dims'>(lat, lon)</div><div class='xr-var-dtype'>float32</div><div class='xr-var-preview xr-preview'>...</div><input id='attrs-2078d13d-0f0b-4350-9f2c-53b81a0f9993' class='xr-var-attrs-in' type='checkbox' ><label for='attrs-2078d13d-0f0b-4350-9f2c-53b81a0f9993' title='Show/Hide attributes'><svg class='icon xr-icon-file-text2'><use xlink:href='#icon-file-text2'></use></svg></label><input id='data-97828224-c6c5-4eb9-92e5-aca84c530fde' class='xr-var-data-in' type='checkbox'><label for='data-97828224-c6c5-4eb9-92e5-aca84c530fde' title='Show/Hide data repr'><svg class='icon xr-icon-database'><use xlink:href='#icon-database'></use></svg></label><div class='xr-var-attrs'><dl class='xr-attrs'><dt><span>Class :</span></dt><dd>DATA</dd><dt><span>grid_mapping :</span></dt><dd>crs</dd><dt><span>long_name :</span></dt><dd>Soil Water Index with T=15</dd><dt><span>units :</span></dt><dd>%</dd><dt><span>valid_range :</span></dt><dd>[  0 200]</dd></dl></div><div class='xr-var-data'><pre>[6480000 values with dtype=float32]</pre></div></li><li class='xr-var-item'><div class='xr-var-name'><span>SWI_100</span></div><div class='xr-var-dims'>(lat, lon)</div><div class='xr-var-dtype'>float32</div><div class='xr-var-preview xr-preview'>...</div><input id='attrs-d90ad441-b35c-40d2-9bae-184b1a69c0c4' class='xr-var-attrs-in' type='checkbox' ><label for='attrs-d90ad441-b35c-40d2-9bae-184b1a69c0c4' title='Show/Hide attributes'><svg class='icon xr-icon-file-text2'><use xlink:href='#icon-file-text2'></use></svg></label><input id='data-ea09a23f-bee3-404c-ac78-68c7e844abb2' class='xr-var-data-in' type='checkbox'><label for='data-ea09a23f-bee3-404c-ac78-68c7e844abb2' title='Show/Hide data repr'><svg class='icon xr-icon-database'><use xlink:href='#icon-database'></use></svg></label><div class='xr-var-attrs'><dl class='xr-attrs'><dt><span>Class :</span></dt><dd>DATA</dd><dt><span>grid_mapping :</span></dt><dd>crs</dd><dt><span>long_name :</span></dt><dd>Soil Water Index with T=100</dd><dt><span>units :</span></dt><dd>%</dd><dt><span>valid_range :</span></dt><dd>[  0 200]</dd></dl></div><div class='xr-var-data'><pre>[6480000 values with dtype=float32]</pre></div></li><li class='xr-var-item'><div class='xr-var-name'><span>SWI_040</span></div><div class='xr-var-dims'>(lat, lon)</div><div class='xr-var-dtype'>float32</div><div class='xr-var-preview xr-preview'>...</div><input id='attrs-184047ee-d8c1-4a37-a3d7-dc4b02573377' class='xr-var-attrs-in' type='checkbox' ><label for='attrs-184047ee-d8c1-4a37-a3d7-dc4b02573377' title='Show/Hide attributes'><svg class='icon xr-icon-file-text2'><use xlink:href='#icon-file-text2'></use></svg></label><input id='data-11083483-8f51-4073-8d4e-cfb6e1d6574e' class='xr-var-data-in' type='checkbox'><label for='data-11083483-8f51-4073-8d4e-cfb6e1d6574e' title='Show/Hide data repr'><svg class='icon xr-icon-database'><use xlink:href='#icon-database'></use></svg></label><div class='xr-var-attrs'><dl class='xr-attrs'><dt><span>Class :</span></dt><dd>DATA</dd><dt><span>grid_mapping :</span></dt><dd>crs</dd><dt><span>long_name :</span></dt><dd>Soil Water Index with T=40</dd><dt><span>units :</span></dt><dd>%</dd><dt><span>valid_range :</span></dt><dd>[  0 200]</dd></dl></div><div class='xr-var-data'><pre>[6480000 values with dtype=float32]</pre></div></li><li class='xr-var-item'><div class='xr-var-name'><span>SWI_060</span></div><div class='xr-var-dims'>(lat, lon)</div><div class='xr-var-dtype'>float32</div><div class='xr-var-preview xr-preview'>...</div><input id='attrs-3bade3df-2837-4a58-aeae-a1f9f9d40e7f' class='xr-var-attrs-in' type='checkbox' ><label for='attrs-3bade3df-2837-4a58-aeae-a1f9f9d40e7f' title='Show/Hide attributes'><svg class='icon xr-icon-file-text2'><use xlink:href='#icon-file-text2'></use></svg></label><input id='data-73138d88-4602-4012-a619-935c8041787e' class='xr-var-data-in' type='checkbox'><label for='data-73138d88-4602-4012-a619-935c8041787e' title='Show/Hide data repr'><svg class='icon xr-icon-database'><use xlink:href='#icon-database'></use></svg></label><div class='xr-var-attrs'><dl class='xr-attrs'><dt><span>Class :</span></dt><dd>DATA</dd><dt><span>grid_mapping :</span></dt><dd>crs</dd><dt><span>long_name :</span></dt><dd>Soil Water Index with T=60</dd><dt><span>units :</span></dt><dd>%</dd><dt><span>valid_range :</span></dt><dd>[  0 200]</dd></dl></div><div class='xr-var-data'><pre>[6480000 values with dtype=float32]</pre></div></li><li class='xr-var-item'><div class='xr-var-name'><span>SWI_020</span></div><div class='xr-var-dims'>(lat, lon)</div><div class='xr-var-dtype'>float32</div><div class='xr-var-preview xr-preview'>...</div><input id='attrs-d34e4711-9305-4dee-80c8-9c43696d25d9' class='xr-var-attrs-in' type='checkbox' ><label for='attrs-d34e4711-9305-4dee-80c8-9c43696d25d9' title='Show/Hide attributes'><svg class='icon xr-icon-file-text2'><use xlink:href='#icon-file-text2'></use></svg></label><input id='data-6d21ae37-0918-4663-abac-bbd4961f3f2e' class='xr-var-data-in' type='checkbox'><label for='data-6d21ae37-0918-4663-abac-bbd4961f3f2e' title='Show/Hide data repr'><svg class='icon xr-icon-database'><use xlink:href='#icon-database'></use></svg></label><div class='xr-var-attrs'><dl class='xr-attrs'><dt><span>Class :</span></dt><dd>DATA</dd><dt><span>grid_mapping :</span></dt><dd>crs</dd><dt><span>long_name :</span></dt><dd>Soil Water Index with T=20</dd><dt><span>units :</span></dt><dd>%</dd><dt><span>valid_range :</span></dt><dd>[  0 200]</dd></dl></div><div class='xr-var-data'><pre>[6480000 values with dtype=float32]</pre></div></li><li class='xr-var-item'><div class='xr-var-name'><span>QFLAG_040</span></div><div class='xr-var-dims'>(lat, lon)</div><div class='xr-var-dtype'>float32</div><div class='xr-var-preview xr-preview'>...</div><input id='attrs-b942882b-0b33-428b-b049-11e9fa4418a3' class='xr-var-attrs-in' type='checkbox' ><label for='attrs-b942882b-0b33-428b-b049-11e9fa4418a3' title='Show/Hide attributes'><svg class='icon xr-icon-file-text2'><use xlink:href='#icon-file-text2'></use></svg></label><input id='data-37f9bb46-8d3f-4cc1-af0c-cf85e84446a5' class='xr-var-data-in' type='checkbox'><label for='data-37f9bb46-8d3f-4cc1-af0c-cf85e84446a5' title='Show/Hide data repr'><svg class='icon xr-icon-database'><use xlink:href='#icon-database'></use></svg></label><div class='xr-var-attrs'><dl class='xr-attrs'><dt><span>Class :</span></dt><dd>DATA</dd><dt><span>grid_mapping :</span></dt><dd>crs</dd><dt><span>long_name :</span></dt><dd>Quality Flag with T=40</dd><dt><span>units :</span></dt><dd>%</dd><dt><span>valid_range :</span></dt><dd>[  0 200]</dd></dl></div><div class='xr-var-data'><pre>[6480000 values with dtype=float32]</pre></div></li><li class='xr-var-item'><div class='xr-var-name'><span>QFLAG_010</span></div><div class='xr-var-dims'>(lat, lon)</div><div class='xr-var-dtype'>float32</div><div class='xr-var-preview xr-preview'>...</div><input id='attrs-c5694093-7e94-4adf-97d4-9e300718bf4c' class='xr-var-attrs-in' type='checkbox' ><label for='attrs-c5694093-7e94-4adf-97d4-9e300718bf4c' title='Show/Hide attributes'><svg class='icon xr-icon-file-text2'><use xlink:href='#icon-file-text2'></use></svg></label><input id='data-b78ce59c-d241-4feb-b6bb-09a38509213c' class='xr-var-data-in' type='checkbox'><label for='data-b78ce59c-d241-4feb-b6bb-09a38509213c' title='Show/Hide data repr'><svg class='icon xr-icon-database'><use xlink:href='#icon-database'></use></svg></label><div class='xr-var-attrs'><dl class='xr-attrs'><dt><span>Class :</span></dt><dd>DATA</dd><dt><span>grid_mapping :</span></dt><dd>crs</dd><dt><span>long_name :</span></dt><dd>Quality Flag with T=10</dd><dt><span>units :</span></dt><dd>%</dd><dt><span>valid_range :</span></dt><dd>[  0 200]</dd></dl></div><div class='xr-var-data'><pre>[6480000 values with dtype=float32]</pre></div></li><li class='xr-var-item'><div class='xr-var-name'><span>QFLAG_015</span></div><div class='xr-var-dims'>(lat, lon)</div><div class='xr-var-dtype'>float32</div><div class='xr-var-preview xr-preview'>...</div><input id='attrs-0c9cd9be-7754-48a6-98e8-c0b8a938a081' class='xr-var-attrs-in' type='checkbox' ><label for='attrs-0c9cd9be-7754-48a6-98e8-c0b8a938a081' title='Show/Hide attributes'><svg class='icon xr-icon-file-text2'><use xlink:href='#icon-file-text2'></use></svg></label><input id='data-81a37649-f20c-4727-bfa6-7efefbc2466c' class='xr-var-data-in' type='checkbox'><label for='data-81a37649-f20c-4727-bfa6-7efefbc2466c' title='Show/Hide data repr'><svg class='icon xr-icon-database'><use xlink:href='#icon-database'></use></svg></label><div class='xr-var-attrs'><dl class='xr-attrs'><dt><span>Class :</span></dt><dd>DATA</dd><dt><span>grid_mapping :</span></dt><dd>crs</dd><dt><span>long_name :</span></dt><dd>Quality Flag with T=15</dd><dt><span>units :</span></dt><dd>%</dd><dt><span>valid_range :</span></dt><dd>[  0 200]</dd></dl></div><div class='xr-var-data'><pre>[6480000 values with dtype=float32]</pre></div></li><li class='xr-var-item'><div class='xr-var-name'><span>QFLAG_100</span></div><div class='xr-var-dims'>(lat, lon)</div><div class='xr-var-dtype'>float32</div><div class='xr-var-preview xr-preview'>...</div><input id='attrs-344472ab-95f5-443a-8d14-99dda3cedf1c' class='xr-var-attrs-in' type='checkbox' ><label for='attrs-344472ab-95f5-443a-8d14-99dda3cedf1c' title='Show/Hide attributes'><svg class='icon xr-icon-file-text2'><use xlink:href='#icon-file-text2'></use></svg></label><input id='data-befa35f5-4319-4e27-a9e2-904dc894d077' class='xr-var-data-in' type='checkbox'><label for='data-befa35f5-4319-4e27-a9e2-904dc894d077' title='Show/Hide data repr'><svg class='icon xr-icon-database'><use xlink:href='#icon-database'></use></svg></label><div class='xr-var-attrs'><dl class='xr-attrs'><dt><span>Class :</span></dt><dd>DATA</dd><dt><span>grid_mapping :</span></dt><dd>crs</dd><dt><span>long_name :</span></dt><dd>Quality Flag with T=100</dd><dt><span>units :</span></dt><dd>%</dd><dt><span>valid_range :</span></dt><dd>[  0 200]</dd></dl></div><div class='xr-var-data'><pre>[6480000 values with dtype=float32]</pre></div></li><li class='xr-var-item'><div class='xr-var-name'><span>QFLAG_020</span></div><div class='xr-var-dims'>(lat, lon)</div><div class='xr-var-dtype'>float32</div><div class='xr-var-preview xr-preview'>...</div><input id='attrs-63fec5ad-d1cd-46ad-b55c-c11143f354ae' class='xr-var-attrs-in' type='checkbox' ><label for='attrs-63fec5ad-d1cd-46ad-b55c-c11143f354ae' title='Show/Hide attributes'><svg class='icon xr-icon-file-text2'><use xlink:href='#icon-file-text2'></use></svg></label><input id='data-e0f19a57-163c-4366-af01-c467b52d409f' class='xr-var-data-in' type='checkbox'><label for='data-e0f19a57-163c-4366-af01-c467b52d409f' title='Show/Hide data repr'><svg class='icon xr-icon-database'><use xlink:href='#icon-database'></use></svg></label><div class='xr-var-attrs'><dl class='xr-attrs'><dt><span>Class :</span></dt><dd>DATA</dd><dt><span>grid_mapping :</span></dt><dd>crs</dd><dt><span>long_name :</span></dt><dd>Quality Flag with T=20</dd><dt><span>units :</span></dt><dd>%</dd><dt><span>valid_range :</span></dt><dd>[  0 200]</dd></dl></div><div class='xr-var-data'><pre>[6480000 values with dtype=float32]</pre></div></li><li class='xr-var-item'><div class='xr-var-name'><span>QFLAG_005</span></div><div class='xr-var-dims'>(lat, lon)</div><div class='xr-var-dtype'>float32</div><div class='xr-var-preview xr-preview'>...</div><input id='attrs-36e8c87e-65eb-47f0-b43f-faa27eb3f336' class='xr-var-attrs-in' type='checkbox' ><label for='attrs-36e8c87e-65eb-47f0-b43f-faa27eb3f336' title='Show/Hide attributes'><svg class='icon xr-icon-file-text2'><use xlink:href='#icon-file-text2'></use></svg></label><input id='data-2633eaa0-f0b4-4b21-802f-981067f61aeb' class='xr-var-data-in' type='checkbox'><label for='data-2633eaa0-f0b4-4b21-802f-981067f61aeb' title='Show/Hide data repr'><svg class='icon xr-icon-database'><use xlink:href='#icon-database'></use></svg></label><div class='xr-var-attrs'><dl class='xr-attrs'><dt><span>Class :</span></dt><dd>DATA</dd><dt><span>grid_mapping :</span></dt><dd>crs</dd><dt><span>long_name :</span></dt><dd>Quality Flag with T=5</dd><dt><span>units :</span></dt><dd>%</dd><dt><span>valid_range :</span></dt><dd>[  0 200]</dd></dl></div><div class='xr-var-data'><pre>[6480000 values with dtype=float32]</pre></div></li><li class='xr-var-item'><div class='xr-var-name'><span>QFLAG_001</span></div><div class='xr-var-dims'>(lat, lon)</div><div class='xr-var-dtype'>float32</div><div class='xr-var-preview xr-preview'>...</div><input id='attrs-1a8de356-baf9-4be2-a7ad-9253d13e35c7' class='xr-var-attrs-in' type='checkbox' ><label for='attrs-1a8de356-baf9-4be2-a7ad-9253d13e35c7' title='Show/Hide attributes'><svg class='icon xr-icon-file-text2'><use xlink:href='#icon-file-text2'></use></svg></label><input id='data-6e27eefb-84eb-4b23-bfad-57344b7afbc2' class='xr-var-data-in' type='checkbox'><label for='data-6e27eefb-84eb-4b23-bfad-57344b7afbc2' title='Show/Hide data repr'><svg class='icon xr-icon-database'><use xlink:href='#icon-database'></use></svg></label><div class='xr-var-attrs'><dl class='xr-attrs'><dt><span>Class :</span></dt><dd>DATA</dd><dt><span>grid_mapping :</span></dt><dd>crs</dd><dt><span>long_name :</span></dt><dd>Quality Flag with T=1</dd><dt><span>units :</span></dt><dd>%</dd><dt><span>valid_range :</span></dt><dd>[  0 200]</dd></dl></div><div class='xr-var-data'><pre>[6480000 values with dtype=float32]</pre></div></li><li class='xr-var-item'><div class='xr-var-name'><span>QFLAG_060</span></div><div class='xr-var-dims'>(lat, lon)</div><div class='xr-var-dtype'>float32</div><div class='xr-var-preview xr-preview'>...</div><input id='attrs-a592420b-08ff-4ae8-98f8-ce217b89c285' class='xr-var-attrs-in' type='checkbox' ><label for='attrs-a592420b-08ff-4ae8-98f8-ce217b89c285' title='Show/Hide attributes'><svg class='icon xr-icon-file-text2'><use xlink:href='#icon-file-text2'></use></svg></label><input id='data-8337b978-b9e2-4c38-bfb2-2532fc599448' class='xr-var-data-in' type='checkbox'><label for='data-8337b978-b9e2-4c38-bfb2-2532fc599448' title='Show/Hide data repr'><svg class='icon xr-icon-database'><use xlink:href='#icon-database'></use></svg></label><div class='xr-var-attrs'><dl class='xr-attrs'><dt><span>Class :</span></dt><dd>DATA</dd><dt><span>grid_mapping :</span></dt><dd>crs</dd><dt><span>long_name :</span></dt><dd>Quality Flag with T=60</dd><dt><span>units :</span></dt><dd>%</dd><dt><span>valid_range :</span></dt><dd>[  0 200]</dd></dl></div><div class='xr-var-data'><pre>[6480000 values with dtype=float32]</pre></div></li><li class='xr-var-item'><div class='xr-var-name'><span>SSF</span></div><div class='xr-var-dims'>(lat, lon)</div><div class='xr-var-dtype'>float32</div><div class='xr-var-preview xr-preview'>...</div><input id='attrs-8fce66a1-c76e-4da5-b6ba-1a145bd3ec9e' class='xr-var-attrs-in' type='checkbox' ><label for='attrs-8fce66a1-c76e-4da5-b6ba-1a145bd3ec9e' title='Show/Hide attributes'><svg class='icon xr-icon-file-text2'><use xlink:href='#icon-file-text2'></use></svg></label><input id='data-052da79f-b9cb-4005-83a2-7b21fea3400b' class='xr-var-data-in' type='checkbox'><label for='data-052da79f-b9cb-4005-83a2-7b21fea3400b' title='Show/Hide data repr'><svg class='icon xr-icon-database'><use xlink:href='#icon-database'></use></svg></label><div class='xr-var-attrs'><dl class='xr-attrs'><dt><span>Class :</span></dt><dd>DATA</dd><dt><span>flag_meanings :</span></dt><dd>Unknown Unfrozen Frozen Melting_or_Surface_Water Missing</dd><dt><span>flag_values :</span></dt><dd>[  0   1   2   3 255]</dd><dt><span>grid_mapping :</span></dt><dd>crs</dd><dt><span>long_name :</span></dt><dd>Surface State Flag</dd><dt><span>valid_range :</span></dt><dd>[0 4]</dd></dl></div><div class='xr-var-data'><pre>[6480000 values with dtype=float32]</pre></div></li></ul></div></li><li class='xr-section-item'><input id='section-b10bb977-7a95-4d8e-badb-da7dd14424df' class='xr-section-summary-in' type='checkbox'  ><label for='section-b10bb977-7a95-4d8e-badb-da7dd14424df' class='xr-section-summary' >Indexes: <span>(2)</span></label><div class='xr-section-inline-details'></div><div class='xr-section-details'><ul class='xr-var-list'><li class='xr-var-item'><div class='xr-index-name'><div>lat</div></div><div class='xr-index-preview'>PandasIndex</div><div></div><input id='index-72372f4c-cf6f-4627-b52b-9168e9198515' class='xr-index-data-in' type='checkbox'/><label for='index-72372f4c-cf6f-4627-b52b-9168e9198515' title='Show/Hide index repr'><svg class='icon xr-icon-database'><use xlink:href='#icon-database'></use></svg></label><div class='xr-index-data'><pre>PandasIndex(Index([ 89.94999999998977,  89.84999999998978,  89.74999999998978,\n",
       "        89.64999999998979,   89.5499999999898,   89.4499999999898,\n",
       "         89.3499999999898,  89.24999999998981,  89.14999999998982,\n",
       "        89.04999999998982,\n",
       "       ...\n",
       "       -89.05000000000005, -89.15000000000005, -89.25000000000004,\n",
       "       -89.35000000000004, -89.45000000000003, -89.55000000000003,\n",
       "       -89.65000000000002, -89.75000000000001, -89.85000000000001,\n",
       "                   -89.95],\n",
       "      dtype=&#x27;float64&#x27;, name=&#x27;lat&#x27;, length=1800))</pre></div></li><li class='xr-var-item'><div class='xr-index-name'><div>lon</div></div><div class='xr-index-preview'>PandasIndex</div><div></div><input id='index-f521a09e-5214-43ce-ae8a-31f92664be77' class='xr-index-data-in' type='checkbox'/><label for='index-f521a09e-5214-43ce-ae8a-31f92664be77' title='Show/Hide index repr'><svg class='icon xr-icon-database'><use xlink:href='#icon-database'></use></svg></label><div class='xr-index-data'><pre>PandasIndex(Index([            -179.95,             -179.85,             -179.75,\n",
       "                   -179.65,             -179.55, -179.45000000000002,\n",
       "       -179.35000000000002, -179.25000000000003, -179.15000000000003,\n",
       "       -179.05000000000004,\n",
       "       ...\n",
       "         179.0499999999796,  179.14999999997957,   179.2499999999796,\n",
       "        179.34999999997962,  179.44999999997958,  179.54999999997955,\n",
       "        179.64999999997957,   179.7499999999796,  179.84999999997956,\n",
       "        179.94999999997953],\n",
       "      dtype=&#x27;float64&#x27;, name=&#x27;lon&#x27;, length=3600))</pre></div></li></ul></div></li><li class='xr-section-item'><input id='section-c6f8e0c6-da12-4c29-b10c-262227576ed4' class='xr-section-summary-in' type='checkbox'  ><label for='section-c6f8e0c6-da12-4c29-b10c-262227576ed4' class='xr-section-summary' >Attributes: <span>(25)</span></label><div class='xr-section-inline-details'></div><div class='xr-section-details'><dl class='xr-attrs'><dt><span>Conventions :</span></dt><dd>CF-1.6</dd><dt><span>archive_facility :</span></dt><dd>VITO</dd><dt><span>copyright :</span></dt><dd>Copernicus Service information 2023</dd><dt><span>geospatial_lat_max :</span></dt><dd>89.95</dd><dt><span>geospatial_lat_min :</span></dt><dd>-89.95</dd><dt><span>geospatial_lon_max :</span></dt><dd>179.95</dd><dt><span>geospatial_lon_min :</span></dt><dd>-179.95</dd><dt><span>history :</span></dt><dd>2023-06-01 -- SWI NRT Production</dd><dt><span>identifier :</span></dt><dd>urn:cgls:global:swi_v3_0.1degree:SWI_202306011200_GLOBE_ASCAT_V3.2.1</dd><dt><span>institution :</span></dt><dd>TU Wien</dd><dt><span>long_name :</span></dt><dd>Soil Water Index</dd><dt><span>orbit_type :</span></dt><dd>LEO</dd><dt><span>parent_identifier :</span></dt><dd>urn:cgls:global:swi_v3_0.1degree</dd><dt><span>pixel_size :</span></dt><dd>0.1 degrees</dd><dt><span>platform :</span></dt><dd>METOP B+C</dd><dt><span>processing_level :</span></dt><dd>L3</dd><dt><span>processing_mode :</span></dt><dd>NRT Production</dd><dt><span>product_version :</span></dt><dd>V3.1.2</dd><dt><span>references :</span></dt><dd>https://land.copernicus.eu/global/products/swi</dd><dt><span>region_name :</span></dt><dd>GLOBE</dd><dt><span>sensor :</span></dt><dd>ASCAT</dd><dt><span>source :</span></dt><dd>Derived from EO microwave scatterometer observations</dd><dt><span>time_coverage_end :</span></dt><dd>2023-06-01T12:00:00Z</dd><dt><span>time_coverage_start :</span></dt><dd>2023-05-31T12:00:00Z</dd><dt><span>title :</span></dt><dd>Daily Soil Water Index 0.1degree: GLOBE 2023-06-01T12:00:00Z</dd></dl></div></li></ul></div></div>"
      ],
      "text/plain": [
       "<xarray.Dataset> Size: 441MB\n",
       "Dimensions:    (lat: 1800, lon: 3600)\n",
       "Coordinates:\n",
       "  * lat        (lat) float64 14kB 89.95 89.85 89.75 ... -89.75 -89.85 -89.95\n",
       "  * lon        (lon) float64 29kB -179.9 -179.8 -179.8 ... 179.7 179.8 179.9\n",
       "    time       datetime64[ns] 8B 2023-06-01T12:00:00\n",
       "Data variables: (12/18)\n",
       "    crs        |S1 1B ...\n",
       "    SWI_005    (lat, lon) float32 26MB ...\n",
       "    SWI_010    (lat, lon) float32 26MB ...\n",
       "    SWI_001    (lat, lon) float32 26MB ...\n",
       "    SWI_015    (lat, lon) float32 26MB ...\n",
       "    SWI_100    (lat, lon) float32 26MB ...\n",
       "    ...         ...\n",
       "    QFLAG_100  (lat, lon) float32 26MB ...\n",
       "    QFLAG_020  (lat, lon) float32 26MB ...\n",
       "    QFLAG_005  (lat, lon) float32 26MB ...\n",
       "    QFLAG_001  (lat, lon) float32 26MB ...\n",
       "    QFLAG_060  (lat, lon) float32 26MB ...\n",
       "    SSF        (lat, lon) float32 26MB ...\n",
       "Attributes: (12/25)\n",
       "    Conventions:          CF-1.6\n",
       "    archive_facility:     VITO\n",
       "    copyright:            Copernicus Service information 2023\n",
       "    geospatial_lat_max:   89.95\n",
       "    geospatial_lat_min:   -89.95\n",
       "    geospatial_lon_max:   179.95\n",
       "    ...                   ...\n",
       "    region_name:          GLOBE\n",
       "    sensor:               ASCAT\n",
       "    source:               Derived from EO microwave scatterometer observations\n",
       "    time_coverage_end:    2023-06-01T12:00:00Z\n",
       "    time_coverage_start:  2023-05-31T12:00:00Z\n",
       "    title:                Daily Soil Water Index 0.1degree: GLOBE 2023-06-01T..."
      ]
     },
     "execution_count": 26,
     "metadata": {},
     "output_type": "execute_result"
    }
   ],
   "source": [
    "data = ncfile.isel(time=0)\n",
    "data"
   ]
  },
  {
   "cell_type": "markdown",
   "id": "9a8b1cf9-600d-433b-821c-33ab0ff279c3",
   "metadata": {},
   "source": [
    "## Visualize the data"
   ]
  },
  {
   "cell_type": "code",
   "execution_count": 27,
   "id": "a940407a-0720-4718-8e73-c8e3e3e78aeb",
   "metadata": {},
   "outputs": [],
   "source": [
    "m = Maps(layer=\"all\", figsize=(6, 4))\n",
    "m.add_feature.preset(\"coastline\", \"ocean\")"
   ]
  },
  {
   "cell_type": "markdown",
   "id": "20835784-f28f-49ed-a14f-9b04edcb922b",
   "metadata": {},
   "source": [
    "### SWI layer\n",
    "Create a new layer to plot the SWI"
   ]
  },
  {
   "cell_type": "code",
   "execution_count": 28,
   "id": "687b68b9-5b6f-4ff4-a534-169bac7fb301",
   "metadata": {},
   "outputs": [],
   "source": [
    "m_swi40 = m.new_layer(\"SWI 40\")\n",
    "m.show_layer(m_swi40.layer)"
   ]
  },
  {
   "cell_type": "markdown",
   "id": "8234a6dd-a408-45a1-8618-efa8812cc135",
   "metadata": {},
   "source": [
    "Plot the \"Soil Water Index\" with T=40"
   ]
  },
  {
   "cell_type": "code",
   "execution_count": 29,
   "id": "b7e0968c-be6b-4ced-8cbc-a3b3e334124d",
   "metadata": {},
   "outputs": [],
   "source": [
    "m_swi40.set_data(data, \"lon\", \"lat\", parameter=\"SWI_040\", crs=ncfile.crs.spatial_ref)\n",
    "m_swi40.set_shape.shade_raster()\n",
    "m_swi40.plot_map()"
   ]
  },
  {
   "cell_type": "markdown",
   "id": "55910579-dc3f-42c8-bf9f-bb86cb101d84",
   "metadata": {},
   "source": [
    "Add a colorbar"
   ]
  },
  {
   "cell_type": "code",
   "execution_count": 30,
   "id": "23444fe9-a14f-4b14-bf0e-7aad49c3f714",
   "metadata": {},
   "outputs": [],
   "source": [
    "_ = m_swi40.add_colorbar(hist_bins=50, label=\"Soil Water Index (T=40)\")"
   ]
  },
  {
   "cell_type": "markdown",
   "id": "dd7c6bc9-ff8f-4f18-90d1-668db72fbd99",
   "metadata": {},
   "source": [
    "### QFLAG layer"
   ]
  },
  {
   "cell_type": "markdown",
   "id": "307dbe45-fb9a-4a69-866d-8e3ca5ba9de3",
   "metadata": {},
   "source": [
    "Create a colormap that goes from red to transparent to overlay the QFLAG on top of the SWI values"
   ]
  },
  {
   "cell_type": "code",
   "execution_count": 31,
   "id": "26b982ae-7808-4524-97ab-9bce7eeadb48",
   "metadata": {},
   "outputs": [
    {
     "data": {
      "image/png": "[encoded data removed]",
      "text/html": [
       "<div style=\"vertical-align: middle;\"><strong>qflag cmap</strong> </div><div class=\"cmap\"><img alt=\"qflag cmap colormap\" title=\"qflag cmap\" style=\"border: 1px solid #555;\" src=\"data:image/png;base64,iVBORw0KGgoAAAANSUhEUgAAAgAAAABACAYAAABsv8+/AAAAGXRFWHRUaXRsZQBxZmxhZyBjbWFwIGNvbG9ybWFwEJmGzQAAAB90RVh0RGVzY3JpcHRpb24AcWZsYWcgY21hcCBjb2xvcm1hcGqxR4MAAAAwdEVYdEF1dGhvcgBNYXRwbG90bGliIHYzLjguNCwgaHR0cHM6Ly9tYXRwbG90bGliLm9yZ2TOsrQAAAAydEVYdFNvZnR3YXJlAE1hdHBsb3RsaWIgdjMuOC40LCBodHRwczovL21hdHBsb3RsaWIub3JnSmgtkwAAAShJREFUeJzt1jEBwDAMwLB0/DmnZznM0mMKPjuz86yqqqr+vvMNAJBjAAAgyAAAQJABAIAgAwAAQQYAAIIMAAAEGQAACDIAABBkAAAgyAAAQJABAIAgAwAAQQYAAIIMAAAEGQAACDIAABBkAAAgyAAAQJABAIAgAwAAQQYAAIIMAAAEGQAACDIAABBkAAAgyAAAQJABAIAgAwAAQQYAAIIMAAAEGQAACDIAABBkAAAgyAAAQJABAIAgAwAAQQYAAIIMAAAEGQAACDIAABBkAAAgyAAAQJABAIAgAwAAQQYAAIIMAAAEGQAACDIAABBkAAAgyAAAQJABAIAgAwAAQQYAAIIMAAAEGQAACDIAABBkAAAgyAAAQJABAIAgAwAAQQYAAIIMAAAEXYLG/4CB0vySAAAAAElFTkSuQmCC\"></div><div style=\"vertical-align: middle; max-width: 514px; display: flex; justify-content: space-between;\"><div style=\"float: left;\"><div title=\"#ff0000ff\" style=\"display: inline-block; width: 1em; height: 1em; margin: 0; vertical-align: middle; border: 1px solid #555; background-color: #ff0000ff;\"></div> under</div><div style=\"margin: 0 auto; display: inline-block;\">bad <div title=\"#00000000\" style=\"display: inline-block; width: 1em; height: 1em; margin: 0; vertical-align: middle; border: 1px solid #555; background-color: #00000000;\"></div></div><div style=\"float: right;\">over <div title=\"#ff000001\" style=\"display: inline-block; width: 1em; height: 1em; margin: 0; vertical-align: middle; border: 1px solid #555; background-color: #ff000001;\"></div></div>"
      ],
      "text/plain": [
       "<matplotlib.colors.ListedColormap at 0x2601e3b2a10>"
      ]
     },
     "execution_count": 31,
     "metadata": {},
     "output_type": "execute_result"
    }
   ],
   "source": [
    "from matplotlib.colors import ListedColormap\n",
    "cmap = ListedColormap([(1, 0, 0, i/255) for i in range(255, 0, -1)], name=\"qflag cmap\")\n",
    "cmap"
   ]
  },
  {
   "cell_type": "markdown",
   "id": "d21f312c-8bfb-4384-a8cc-dee97040ade5",
   "metadata": {},
   "source": [
    "Create a new layer to plot the Quality Flag for the SWI"
   ]
  },
  {
   "cell_type": "code",
   "execution_count": 32,
   "id": "65144253-ba44-4b14-90f8-7d9245c6c314",
   "metadata": {},
   "outputs": [],
   "source": [
    "m_qflag40 = m.new_layer(\"QFLAG 40\")\n",
    "m_qflag40.set_data(data, \"lon\", \"lat\", parameter=\"QFLAG_040\", crs=ncfile.crs.spatial_ref)\n",
    "m_qflag40.set_shape.shade_raster()\n",
    "m_qflag40.plot_map(vmin=0, vmax=100, cmap=cmap)"
   ]
  },
  {
   "cell_type": "markdown",
   "id": "36ef5748-2fdf-4f8c-b120-9a7d1ddc1c90",
   "metadata": {},
   "source": [
    "Add a colorbar but put it on a dedicated layer so it is only visible if we really want to see it."
   ]
  },
  {
   "cell_type": "code",
   "execution_count": 33,
   "id": "9bf2158a-00c2-4a6f-990f-de697ccb2b39",
   "metadata": {},
   "outputs": [],
   "source": [
    "cb = m_qflag40.add_colorbar(hist_kwargs=dict(log=True), layer=\"QFLAG 40 colorbar\")"
   ]
  },
  {
   "cell_type": "markdown",
   "id": "68e38f2f-1abd-45b1-8c34-b0031449f11a",
   "metadata": {},
   "source": [
    "### SSF layer\n",
    "Create a new layer to plot the \"Surface State Flag\""
   ]
  },
  {
   "cell_type": "code",
   "execution_count": 34,
   "id": "1eb6da83-21b5-41b4-a433-25da1288d5f2",
   "metadata": {},
   "outputs": [],
   "source": [
    "m_ssf = m.new_layer(\"SSF\")"
   ]
  },
  {
   "cell_type": "code",
   "execution_count": 35,
   "id": "3ec00808-9701-40b3-9f88-eeffe5795bbf",
   "metadata": {},
   "outputs": [],
   "source": [
    "m_ssf.set_data(data, \"lon\", \"lat\", parameter=\"SSF\", crs=ncfile.crs.spatial_ref)\n",
    "m_ssf.set_shape.shade_raster()\n",
    "m_ssf.set_classify.UserDefined(bins=[0.5, 1.5, 2.5, 3.5])\n",
    "m_ssf.plot_map(cmap=\"RdYlGn_r\", vmin=0.5, vmax=3.5)"
   ]
  },
  {
   "cell_type": "markdown",
   "id": "884591f7-d027-4520-a915-b7b3a8a04782",
   "metadata": {},
   "source": [
    "Add a colorbar but put it on a dedicated layer so it is only visible if we really want to see it.\n",
    "\n",
    "- Since we use a classified dataset, we can use `hist_bins=\"bins\"` to show only classification bins in the histogram\n",
    "- We can use `cb.set_bin_labels` to quickly label the bins"
   ]
  },
  {
   "cell_type": "code",
   "execution_count": 36,
   "id": "4fbd69fc-2c21-4b1d-a344-d9e7e9244105",
   "metadata": {},
   "outputs": [],
   "source": [
    "cb = m_ssf.add_colorbar(hist_bins=\"bins\", hist_kwargs=dict(log=True), layer=\"SSF colorbar\")\n",
    "cb.set_bin_labels([0.5, 1.5, 2.5, 3.5], [\"unknown\", \"unfrozen\", \"frozen\", \"melting or surface water\", \"missing\"])"
   ]
  },
  {
   "cell_type": "markdown",
   "id": "98b1a20a-1e94-4827-8183-20d6d5e7f60f",
   "metadata": {},
   "source": [
    "## Attach some callbacks"
   ]
  },
  {
   "cell_type": "markdown",
   "id": "cf705d8c-b04b-4d56-949e-d45a3a79dbd8",
   "metadata": {},
   "source": [
    "- By default, callbacks only trigger on the assigned layer.  \n",
    "  Setting `m.cb.pick.set_execute_on_all_layers(True)` makes the callback trigger irrespective of the visible layer!\n",
    "- The `text` of an annotation can be either a static string or a callback that returns a string!\n",
    "- We can fix the position of an annotation with `xytext` (and `textcoords`)"
   ]
  },
  {
   "cell_type": "code",
   "execution_count": 37,
   "id": "1b7293fa-f3d7-4a30-bb50-96964033f802",
   "metadata": {},
   "outputs": [],
   "source": [
    "m_swi40.cb.pick.attach.annotate()\n",
    "m_swi40.cb.pick.set_execute_on_all_layers(True)\n",
    "\n",
    "m_ssf.cb.pick.attach.annotate(xytext=(0.03, 0.1), textcoords=\"axes fraction\", arrowprops=None, text=lambda val, **kwargs: f\"SSF={val}\", layer=\"all\")\n",
    "m_ssf.cb.pick.set_execute_on_all_layers(True)\n",
    "\n",
    "m_qflag40.cb.pick.attach.annotate(xytext=(0.03, 0.2), textcoords=\"axes fraction\", arrowprops=None, text=lambda val, **kwargs: f\"QFLAG={val}\", layer=\"all\")\n",
    "m_qflag40.cb.pick.set_execute_on_all_layers(True)"
   ]
  },
  {
   "cell_type": "code",
   "execution_count": 42,
   "id": "d999fe15-ba50-49f4-8659-26e5df519dda",
   "metadata": {},
   "outputs": [
    {
     "data": {
      "image/png": "[encoded data removed]"
     },
     "metadata": {},
     "output_type": "display_data"
    }
   ],
   "source": [
    "m.show() # only required for \"widget\" backend"
   ]
  },
  {
   "cell_type": "markdown",
   "id": "3275a357-cbd5-4939-a102-8e9a9c258740",
   "metadata": {},
   "source": [
    "### IPython Widgets"
   ]
  },
  {
   "cell_type": "markdown",
   "id": "8ec8d9bb-5f9d-46d7-88b2-69dff7a63e9f",
   "metadata": {},
   "source": [
    "Within **Jupyter Notebooks** we can use **[IPython Widgets][ipywidgets]** to quickly create interactive browser controls like scrollbars, buttons etc. \n",
    "\n",
    "[EOmaps][eomaps] provides a set of useful [pre-configured widgets][eomaps_widgets] to interact with your maps\n",
    "\n",
    "\n",
    "[ipywidgets]: https://ipywidgets.readthedocs.io/en/latest/\n",
    "[eomaps]: https://eomaps.readthedocs.io/\n",
    "[eomaps_widgets]: https://eomaps.readthedocs.io/en/latest/notebooks/widgets.html"
   ]
  },
  {
   "cell_type": "code",
   "execution_count": 39,
   "id": "1f9cdf7c-91d2-4021-9044-e01bf89a018e",
   "metadata": {},
   "outputs": [],
   "source": [
    "from eomaps import widgets"
   ]
  },
  {
   "cell_type": "code",
   "execution_count": 40,
   "id": "c615c089-ef16-4ea7-ae01-760b81325edc",
   "metadata": {
    "editable": true,
    "slideshow": {
     "slide_type": ""
    },
    "tags": []
   },
   "outputs": [
    {
     "data": {
      "application/vnd.jupyter.widget-view+json": {
       "model_id": "d5b3fb70e89149629cd3cec8e0a103a3",
       "version_major": 2,
       "version_minor": 0
      },
      "text/plain": [
       "LayerOverlaySlider(value=0.0, description=\"Overlay\\n'SSF':\", layout=Layout(width='400px'), max=1.0, step=0.01)"
      ]
     },
     "execution_count": 40,
     "metadata": {},
     "output_type": "execute_result"
    }
   ],
   "source": [
    "widgets.LayerOverlaySlider(m, \"SSF\", layout=dict(width=\"400px\"))"
   ]
  },
  {
   "cell_type": "code",
   "execution_count": 41,
   "id": "bb93eeb7-8d11-462a-a418-f637e0ce5182",
   "metadata": {},
   "outputs": [
    {
     "data": {
      "application/vnd.jupyter.widget-view+json": {
       "model_id": "da57d70f02084fc3a89df7adefe5f57d",
       "version_major": 2,
       "version_minor": 0
      },
      "text/plain": [
       "VBox(children=(LayerButton(description='SWI T=40 (+ red QFLAG overlay)', layout=Layout(width='400px'), style=B…"
      ]
     },
     "metadata": {},
     "output_type": "display_data"
    }
   ],
   "source": [
    "layout = dict(width=\"300px\")\n",
    "buttons = [\n",
    "    widgets.LayerButton(m, [\"SWI 40\", \"QFLAG 40\"], description=\"SWI T=40 (+ red QFLAG overlay)\"),\n",
    "    widgets.LayerButton(m, [\"QFLAG 40\", \"QFLAG 40 colorbar\"], description=\"QFLAG T=40\"),\n",
    "    widgets.LayerButton(m, [\"SSF\", \"SSF colorbar\"], description=\"SSF\") \n",
    "]\n",
    "for b in buttons:\n",
    "    b.style.button_color = 'lightblue'\n",
    "    b.style.font_size = \"13pt\"\n",
    "    b.layout.width = \"400px\"\n",
    "\n",
    "display(widgets.ipywidgets.VBox(buttons))"
   ]
  },
  {
   "cell_type": "markdown",
   "id": "338c1fae-c9df-40e9-962c-dfccf16505d9",
   "metadata": {
    "editable": true,
    "slideshow": {
     "slide_type": ""
    },
    "tags": []
   },
   "source": [
    "## Quick plot functions"
   ]
  },
  {
   "cell_type": "code",
   "execution_count": 20,
   "id": "7f0482a9-4e37-428d-bb5f-4e846e0d5c77",
   "metadata": {},
   "outputs": [],
   "source": [
    "filepath = next(Path(\"gridded_data\").iterdir())\n",
    "\n",
    "m_quick = Maps.from_file.NetCDF(filepath, parameter=\"SWI_001\", data_crs=4326, isel=dict(time=0), shape=\"shade_raster\", coastline=True)"
   ]
  },
  {
   "cell_type": "markdown",
   "id": "6758b8f9-a49e-4bc8-9979-ec1f36b9dc78",
   "metadata": {
    "editable": true,
    "slideshow": {
     "slide_type": ""
    },
    "tags": []
   },
   "source": [
    "# [$\\Rightarrow$ Spatio-temporal data analysis](<03 Spatiotemporal_analysis.ipynb>)"
   ]
  }
 ],
 "metadata": {
  "kernelspec": {
   "display_name": "Python 3 (ipykernel)",
   "language": "python",
   "name": "python3"
  },
  "language_info": {
   "codemirror_mode": {
    "name": "ipython",
    "version": 3
   },
   "file_extension": ".py",
   "mimetype": "text/x-python",
   "name": "python",
   "nbconvert_exporter": "python",
   "pygments_lexer": "ipython3",
   "version": "3.11.4"
  },
  "widgets": {
   "application/vnd.jupyter.widget-state+json": {
    "state": {
     "039ea162a00841a09d6c4f88beb8489e": {
      "model_module": "@jupyter-widgets/base",
      "model_module_version": "2.0.0",
      "model_name": "LayoutModel",
      "state": {
       "width": "400px"
      }
     },
     "1ec90d67e0e346199b0a64ccd85ca43c": {
      "model_module": "@jupyter-widgets/controls",
      "model_module_version": "2.0.0",
      "model_name": "ButtonStyleModel",
      "state": {
       "button_color": "lightblue",
       "font_family": null,
       "font_size": "13pt",
       "font_style": null,
       "font_variant": null,
       "font_weight": null,
       "text_color": null,
       "text_decoration": null
      }
     },
     "253ef8897a30466aa381d0c967ff994c": {
      "model_module": "@jupyter-widgets/base",
      "model_module_version": "2.0.0",
      "model_name": "LayoutModel",
      "state": {}
     },
     "2a2917b522c947eba50e2564c8aecb6c": {
      "model_module": "@jupyter-widgets/base",
      "model_module_version": "2.0.0",
      "model_name": "LayoutModel",
      "state": {}
     },
     "3d4992e71fbd4e21b7185f345d3d3c8a": {
      "model_module": "@jupyter-widgets/controls",
      "model_module_version": "2.0.0",
      "model_name": "FloatSliderModel",
      "state": {
       "behavior": "drag-tap",
       "description": "Overlay\n'SSF':",
       "layout": "IPY_MODEL_5b4f49102169499686b64b45e72f2f70",
       "max": 1,
       "step": 0.01,
       "style": "IPY_MODEL_aeb528b120c4455aba0598307143b784"
      }
     },
     "425d6fa6249948809e335a5c0ca0d45b": {
      "model_module": "@jupyter-widgets/controls",
      "model_module_version": "2.0.0",
      "model_name": "FloatSliderModel",
      "state": {
       "behavior": "drag-tap",
       "description": "Overlay\n'SSF':",
       "layout": "IPY_MODEL_039ea162a00841a09d6c4f88beb8489e",
       "max": 1,
       "step": 0.01,
       "style": "IPY_MODEL_7f6a0dfcecb0444fb32a7bd4fd1cfa8a"
      }
     },
     "4a20314041c2426ab914c0c958a09042": {
      "model_module": "@jupyter-widgets/controls",
      "model_module_version": "2.0.0",
      "model_name": "ButtonModel",
      "state": {
       "description": "QFLAG T=40",
       "layout": "IPY_MODEL_acecba7f10eb4e49a98e1f2054543b41",
       "style": "IPY_MODEL_d27e48c2178b4d1aa1d1b3d124893b5b",
       "tooltip": null
      }
     },
     "4cb271c014ff446fb2a11ecab275b179": {
      "model_module": "@jupyter-widgets/controls",
      "model_module_version": "2.0.0",
      "model_name": "ButtonModel",
      "state": {
       "description": "QFLAG T=40",
       "layout": "IPY_MODEL_fc7ab2a56eb94732a5fd563dd20e24c5",
       "style": "IPY_MODEL_1ec90d67e0e346199b0a64ccd85ca43c",
       "tooltip": null
      }
     },
     "4fd5aac6af8d4c048de21c4ab1bd456b": {
      "model_module": "@jupyter-widgets/base",
      "model_module_version": "2.0.0",
      "model_name": "LayoutModel",
      "state": {
       "width": "400px"
      }
     },
     "57eb92c1b94b4a1b9fa44b2f94712026": {
      "model_module": "@jupyter-widgets/controls",
      "model_module_version": "2.0.0",
      "model_name": "FloatSliderModel",
      "state": {
       "behavior": "drag-tap",
       "description": "Overlay\n'SSF':",
       "layout": "IPY_MODEL_2a2917b522c947eba50e2564c8aecb6c",
       "max": 1,
       "step": 0.01,
       "style": "IPY_MODEL_ce93312136a54cfcaee8f172bae5bd18"
      }
     },
     "5b4f49102169499686b64b45e72f2f70": {
      "model_module": "@jupyter-widgets/base",
      "model_module_version": "2.0.0",
      "model_name": "LayoutModel",
      "state": {
       "width": "300px"
      }
     },
     "67f6c91489794187929ef85f2ec95c97": {
      "model_module": "@jupyter-widgets/controls",
      "model_module_version": "2.0.0",
      "model_name": "VBoxModel",
      "state": {
       "children": [
        "IPY_MODEL_db421abca3af4b92b1ed144b1dfe3efb",
        "IPY_MODEL_4cb271c014ff446fb2a11ecab275b179",
        "IPY_MODEL_a0b9294c5532464cb5aee95c52c7c3c1"
       ],
       "layout": "IPY_MODEL_253ef8897a30466aa381d0c967ff994c"
      }
     },
     "7acefa58f8b0489d83a4191d7a4eb1f7": {
      "model_module": "@jupyter-widgets/base",
      "model_module_version": "2.0.0",
      "model_name": "LayoutModel",
      "state": {}
     },
     "7ee7ebff21d94de4a41a00ddfc12e697": {
      "model_module": "@jupyter-widgets/base",
      "model_module_version": "2.0.0",
      "model_name": "LayoutModel",
      "state": {
       "width": "400px"
      }
     },
     "7f6a0dfcecb0444fb32a7bd4fd1cfa8a": {
      "model_module": "@jupyter-widgets/controls",
      "model_module_version": "2.0.0",
      "model_name": "SliderStyleModel",
      "state": {
       "description_width": ""
      }
     },
     "a0b9294c5532464cb5aee95c52c7c3c1": {
      "model_module": "@jupyter-widgets/controls",
      "model_module_version": "2.0.0",
      "model_name": "ButtonModel",
      "state": {
       "description": "SSF",
       "layout": "IPY_MODEL_4fd5aac6af8d4c048de21c4ab1bd456b",
       "style": "IPY_MODEL_e1186856a9504449bcd60037284bdca5",
       "tooltip": null
      }
     },
     "acecba7f10eb4e49a98e1f2054543b41": {
      "model_module": "@jupyter-widgets/base",
      "model_module_version": "2.0.0",
      "model_name": "LayoutModel",
      "state": {
       "width": "400px"
      }
     },
     "aeb528b120c4455aba0598307143b784": {
      "model_module": "@jupyter-widgets/controls",
      "model_module_version": "2.0.0",
      "model_name": "SliderStyleModel",
      "state": {
       "description_width": ""
      }
     },
     "b1c1c6dea16d41aa8785d12c3edea9d8": {
      "model_module": "@jupyter-widgets/controls",
      "model_module_version": "2.0.0",
      "model_name": "SliderStyleModel",
      "state": {
       "description_width": ""
      }
     },
     "cd43a36f676d40f1916d7ee5f4245ce3": {
      "model_module": "@jupyter-widgets/base",
      "model_module_version": "2.0.0",
      "model_name": "LayoutModel",
      "state": {
       "width": "400px"
      }
     },
     "ce93312136a54cfcaee8f172bae5bd18": {
      "model_module": "@jupyter-widgets/controls",
      "model_module_version": "2.0.0",
      "model_name": "SliderStyleModel",
      "state": {
       "description_width": ""
      }
     },
     "cee9fca503434435b026f86bfa4ec2df": {
      "model_module": "@jupyter-widgets/base",
      "model_module_version": "2.0.0",
      "model_name": "LayoutModel",
      "state": {
       "width": "400px"
      }
     },
     "d27e48c2178b4d1aa1d1b3d124893b5b": {
      "model_module": "@jupyter-widgets/controls",
      "model_module_version": "2.0.0",
      "model_name": "ButtonStyleModel",
      "state": {
       "button_color": "lightblue",
       "font_family": null,
       "font_size": "13pt",
       "font_style": null,
       "font_variant": null,
       "font_weight": null,
       "text_color": null,
       "text_decoration": null
      }
     },
     "d5b3fb70e89149629cd3cec8e0a103a3": {
      "model_module": "@jupyter-widgets/controls",
      "model_module_version": "2.0.0",
      "model_name": "FloatSliderModel",
      "state": {
       "behavior": "drag-tap",
       "description": "Overlay\n'SSF':",
       "layout": "IPY_MODEL_cee9fca503434435b026f86bfa4ec2df",
       "max": 1,
       "step": 0.01,
       "style": "IPY_MODEL_b1c1c6dea16d41aa8785d12c3edea9d8"
      }
     },
     "da57d70f02084fc3a89df7adefe5f57d": {
      "model_module": "@jupyter-widgets/controls",
      "model_module_version": "2.0.0",
      "model_name": "VBoxModel",
      "state": {
       "children": [
        "IPY_MODEL_e256e102258e48858192f072ddaaa384",
        "IPY_MODEL_4a20314041c2426ab914c0c958a09042",
        "IPY_MODEL_f2a0dc64f0c2471d895b530280787b8a"
       ],
       "layout": "IPY_MODEL_7acefa58f8b0489d83a4191d7a4eb1f7"
      }
     },
     "db421abca3af4b92b1ed144b1dfe3efb": {
      "model_module": "@jupyter-widgets/controls",
      "model_module_version": "2.0.0",
      "model_name": "ButtonModel",
      "state": {
       "description": "SWI T=40 (+ red QFLAG overlay)",
       "layout": "IPY_MODEL_7ee7ebff21d94de4a41a00ddfc12e697",
       "style": "IPY_MODEL_e3a75cc2ca334f5eba0c2e4c73e1fc5b",
       "tooltip": null
      }
     },
     "dc10965dcf324d5d8e1dc1cd7cec6522": {
      "model_module": "@jupyter-widgets/controls",
      "model_module_version": "2.0.0",
      "model_name": "ButtonStyleModel",
      "state": {
       "button_color": "lightblue",
       "font_family": null,
       "font_size": "13pt",
       "font_style": null,
       "font_variant": null,
       "font_weight": null,
       "text_color": null,
       "text_decoration": null
      }
     },
     "e1186856a9504449bcd60037284bdca5": {
      "model_module": "@jupyter-widgets/controls",
      "model_module_version": "2.0.0",
      "model_name": "ButtonStyleModel",
      "state": {
       "button_color": "lightblue",
       "font_family": null,
       "font_size": "13pt",
       "font_style": null,
       "font_variant": null,
       "font_weight": null,
       "text_color": null,
       "text_decoration": null
      }
     },
     "e256e102258e48858192f072ddaaa384": {
      "model_module": "@jupyter-widgets/controls",
      "model_module_version": "2.0.0",
      "model_name": "ButtonModel",
      "state": {
       "description": "SWI T=40 (+ red QFLAG overlay)",
       "layout": "IPY_MODEL_fa70df37e7df416d84ff0d9dffab650a",
       "style": "IPY_MODEL_fbfb667e9cff4231910a0bab175fdeee",
       "tooltip": null
      }
     },
     "e3a75cc2ca334f5eba0c2e4c73e1fc5b": {
      "model_module": "@jupyter-widgets/controls",
      "model_module_version": "2.0.0",
      "model_name": "ButtonStyleModel",
      "state": {
       "button_color": "lightblue",
       "font_family": null,
       "font_size": "13pt",
       "font_style": null,
       "font_variant": null,
       "font_weight": null,
       "text_color": null,
       "text_decoration": null
      }
     },
     "f2a0dc64f0c2471d895b530280787b8a": {
      "model_module": "@jupyter-widgets/controls",
      "model_module_version": "2.0.0",
      "model_name": "ButtonModel",
      "state": {
       "description": "SSF",
       "layout": "IPY_MODEL_cd43a36f676d40f1916d7ee5f4245ce3",
       "style": "IPY_MODEL_dc10965dcf324d5d8e1dc1cd7cec6522",
       "tooltip": null
      }
     },
     "fa70df37e7df416d84ff0d9dffab650a": {
      "model_module": "@jupyter-widgets/base",
      "model_module_version": "2.0.0",
      "model_name": "LayoutModel",
      "state": {
       "width": "400px"
      }
     },
     "fbfb667e9cff4231910a0bab175fdeee": {
      "model_module": "@jupyter-widgets/controls",
      "model_module_version": "2.0.0",
      "model_name": "ButtonStyleModel",
      "state": {
       "button_color": "lightblue",
       "font_family": null,
       "font_size": "13pt",
       "font_style": null,
       "font_variant": null,
       "font_weight": null,
       "text_color": null,
       "text_decoration": null
      }
     },
     "fc7ab2a56eb94732a5fd563dd20e24c5": {
      "model_module": "@jupyter-widgets/base",
      "model_module_version": "2.0.0",
      "model_name": "LayoutModel",
      "state": {
       "width": "400px"
      }
     }
    },
    "version_major": 2,
    "version_minor": 0
   }
  }
 },
 "nbformat": 4,
 "nbformat_minor": 5
}
