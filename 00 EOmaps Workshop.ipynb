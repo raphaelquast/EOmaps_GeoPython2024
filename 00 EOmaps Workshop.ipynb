{
 "cells": [
  {
   "cell_type": "markdown",
   "id": "c7f585f2-0484-4520-8639-1d6a3264ff90",
   "metadata": {
    "editable": true,
    "slideshow": {
     "slide_type": ""
    },
    "tags": []
   },
   "source": [
    "# EOmaps Workshop GeoPython 2024\n",
    "<font size=3>Interactive geo-data analysis with EOmaps and the scientific python infrastructure.</font>"
   ]
  },
  {
   "cell_type": "markdown",
   "id": "9f3201ca-365f-496d-bd55-4b7cae493e69",
   "metadata": {
    "editable": true,
    "jp-MarkdownHeadingCollapsed": true,
    "slideshow": {
     "slide_type": ""
    },
    "tags": []
   },
   "source": [
    "## Getting Started\n",
    "\n",
    "<div style=\"border: 0px solid; padding:10px 20px 10px 10px; display:inline-block; border-radius:10px; background-color:rgba(100,100,100,.1)\"> \n",
    "\n",
    "1. Clone the workshop repository containing the **example notebooks** and **data**:  \n",
    "   <font size=5><b>\n",
    "   $\\Rightarrow$ <a href=\"https://github.com/raphaelquast/EOmaps_GeoPython2024\">github.com/raphaelquast/EOmaps_GeoPython2024</a>\n",
    "   </b></font>\n",
    "\n",
    "3. Follow instructions in the **README** to setup all you need\n",
    "\n",
    "</div>"
   ]
  },
  {
   "cell_type": "markdown",
   "id": "cb7f6584-3f87-43a5-9afd-9ba28304654f",
   "metadata": {
    "editable": true,
    "slideshow": {
     "slide_type": ""
    },
    "tags": []
   },
   "source": [
    "## What's this workshop about?"
   ]
  },
  {
   "cell_type": "markdown",
   "id": "9a4eb0d0-2e6c-4923-be9a-74e852465ba6",
   "metadata": {
    "editable": true,
    "slideshow": {
     "slide_type": ""
    },
    "tags": []
   },
   "source": [
    "We will have a look at [**EOmaps**][docs] and see how it can help you with your geographic data analysis workflows!\n",
    "\n",
    "\n",
    "<div style=\"border: 1px solid; padding:10px; display:inline-block; border-radius:10px\"> \n",
    "\n",
    "[EOmaps][docs] is **free** (permissive BSD 3-clause license) and **open-source**!\n",
    "\n",
    "- The source code is hosted on [**GitHub**][github].\n",
    "- It provides an extensive [**Documentation**][docs] with many examples!\n",
    "\n",
    "<div class=\"alert alert-block alert-success\" style=\"display:inline-block; border-radius:10px;\">\n",
    "    \n",
    "**Interested in contributing to EOmaps?** $\\Rightarrow$ checkout the [**contribution guide**][contrib] on how to get started!\n",
    "    \n",
    "</div>\n",
    "\n",
    "<br>\n",
    "<div align=\"center\" style=\"padding:0px 20px 0px 0px; display:inline-block;\">\n",
    "\n",
    "[![pypi](https://img.shields.io/pypi/v/eomaps)](https://pypi.org/project/eomaps/)\n",
    "[![Conda Version](https://img.shields.io/conda/vn/conda-forge/eomaps.svg)](https://anaconda.org/conda-forge/eomaps)\n",
    "[![Documentation Status](https://readthedocs.org/projects/eomaps/badge/?version=latest)](https://eomaps.readthedocs.io/en/latest/?badge=latest) \n",
    "\n",
    "</div>\n",
    "\n",
    "<div align=\"center\" style=\"padding:0px 20px 0px 0px; display:inline-block;\">\n",
    "    \n",
    "[![tests](https://github.com/raphaelquast/EOmaps/actions/workflows/testMaps.yml/badge.svg?branch=master)](https://github.com/raphaelquast/EOmaps/actions/workflows/testMaps.yml) \n",
    "[![codecov](https://codecov.io/gh/raphaelquast/EOmaps/graph/badge.svg)](https://codecov.io/gh/raphaelquast/EOmaps)\n",
    "\n",
    "</div>\n",
    "<br>\n",
    "<div align=\"center\" style=\"padding:0px 20px 0px 0px; display:inline-block;\">\n",
    "\n",
    "[![pyOpenSci](https://tinyurl.com/y22nb8up)](https://github.com/pyOpenSci/software-submission/issues/138)\n",
    "[![License: BSD 3 clause](https://img.shields.io/badge/License-BSD_3_clause-blue.svg)](https://github.com/raphaelquast/EOmaps/blob/master/LICENSE)\n",
    "[![10.5281/zenodo.6459598](https://zenodo.org/badge/410829039.svg)](https://zenodo.org/badge/latestdoi/410829039)\n",
    "\n",
    "</div>\n",
    "\n",
    "\n",
    "\n",
    "</div>\n",
    "\n",
    "\n",
    "[github]: https://github.com/raphaelquast/EOmaps\n",
    "[docs]: https://eomaps.readthedocs.io\n",
    "[contrib]: https://eomaps.readthedocs.io/en/latest/contribute.html\n"
   ]
  },
  {
   "cell_type": "markdown",
   "id": "743eac52-b9ac-40e4-a545-796f9b306fcb",
   "metadata": {
    "editable": true,
    "slideshow": {
     "slide_type": ""
    },
    "tags": []
   },
   "source": [
    "## General notes on Jupyter Notebooks"
   ]
  },
  {
   "attachments": {},
   "cell_type": "markdown",
   "id": "e6f4a7d5-4280-49d8-a8e7-6fed1ec76bdf",
   "metadata": {
    "editable": true,
    "jp-MarkdownHeadingCollapsed": true,
    "slideshow": {
     "slide_type": ""
    },
    "tags": []
   },
   "source": [
    "In this workshop we will use **Jupyter Notebooks** as they are nice for presenting.    \n",
    "When working with an IDE, make sure to checkout the [FAQ][FAQ] how to get the most out of [EOmaps][eomaps]!\n",
    "\n",
    "[**EOmaps**][eomaps] is built on top of [**matplotlib**][matplotlib] which supports several different **static or interactive frameworks**!  \n",
    "\n",
    "Within **Jupyter Notebooks**, you can use the following magic commands to select the backend you want to use:\n",
    "- `%matplotlib qt`  \n",
    "  **Interactive (popup)** figures with the **Qt** gui framework (requires `Qt` and `qtpy`)  \n",
    "  (Allows you to use the [CompanionWidget][companion])\n",
    "\n",
    "- `%matplotlib tk`  \n",
    "  **Interactive (popup)** figures with the (python-native) **tkinter** framework\n",
    "\n",
    "- `%matplotlib widget`  \n",
    "  **Interactive (inline)** figures (requires `ipympl`)  \n",
    "  (It is possible to use the [CompanionWidget][companion] if you also run `%gui qt` )\n",
    "\n",
    "- `%matplotlib inline`  \n",
    "  **Static (inline)** figures  \n",
    "  (Note that you can always print static inline snapshots irrespective of the backend with `m.snapshot()`)\n",
    "  \n",
    "- `%matplotlib agg`  \n",
    "  **No-GUI** framework (useful if you're only interested in exporting images)\n",
    "\n",
    "- `%matplotlib webagg`  \n",
    "  Embedd **interactive** figure in html\n",
    "\n",
    "... and there's even more! For a full list of available backends, check `%matplotlib --list`  \n",
    "  or have a look at the [matplotlib docs on backends][mpl_backends]\n",
    "\n",
    "[eomaps]: https://eomaps.readthedocs.io/en/latest/\n",
    "[FAQ]: https://eomaps.readthedocs.io/en/latest/FAQ.html\n",
    "[matplotlib]: https://matplotlib.org/\n",
    "[companion]: https://eomaps.readthedocs.io/en/latest/api_companion_widget.html\n",
    "[mpl_backends]: https://matplotlib.org/stable/users/explain/figure/backends.html"
   ]
  },
  {
   "cell_type": "markdown",
   "id": "400927ab-3699-434e-8f7b-3648caa69da0",
   "metadata": {
    "editable": true,
    "slideshow": {
     "slide_type": ""
    },
    "tags": []
   },
   "source": [
    "# [$\\Rightarrow$ EOmaps Basics](<01 Basics.ipynb>)\n",
    "A (very) quick walk through the capabilities of EOmaps\n"
   ]
  },
  {
   "cell_type": "markdown",
   "id": "34619eb3-c30c-4c57-b0c4-9464702ca0ce",
   "metadata": {
    "editable": true,
    "slideshow": {
     "slide_type": ""
    },
    "tags": []
   },
   "source": [
    "# [$\\Rightarrow$ Data Visualization](<02 Data Visualization.ipynb>)\n",
    "\n",
    "Basics on data visualization with EOmaps"
   ]
  },
  {
   "cell_type": "markdown",
   "id": "b39ecc1e-0662-48ce-941c-1249d9828d94",
   "metadata": {
    "editable": true,
    "slideshow": {
     "slide_type": ""
    },
    "tags": []
   },
   "source": [
    "# [$\\Rightarrow$ Spatio-temporal data analysis](<03 Spatiotemporal_analysis.ipynb>)\n",
    "\n",
    "Multi-dimensional data analysis"
   ]
  },
  {
   "cell_type": "markdown",
   "id": "e2eafaac-a377-429d-a2ed-f3873e8a411b",
   "metadata": {
    "editable": true,
    "slideshow": {
     "slide_type": ""
    },
    "tags": []
   },
   "source": [
    "# [$\\Rightarrow$ Irregularly sampled data](<04 Irregularly Sampled Data.ipynb>)\n",
    "\n",
    "Working with data on non-rectangular grids"
   ]
  },
  {
   "cell_type": "code",
   "execution_count": null,
   "id": "b8d261e5-b7fb-4f8d-89c5-ef5d5a50fcf4",
   "metadata": {
    "editable": true,
    "slideshow": {
     "slide_type": ""
    },
    "tags": []
   },
   "outputs": [],
   "source": []
  }
 ],
 "metadata": {
  "kernelspec": {
   "display_name": "Python 3 (ipykernel)",
   "language": "python",
   "name": "python3"
  },
  "language_info": {
   "codemirror_mode": {
    "name": "ipython",
    "version": 3
   },
   "file_extension": ".py",
   "mimetype": "text/x-python",
   "name": "python",
   "nbconvert_exporter": "python",
   "pygments_lexer": "ipython3",
   "version": "3.11.4"
  },
  "widgets": {
   "application/vnd.jupyter.widget-state+json": {
    "state": {},
    "version_major": 2,
    "version_minor": 0
   }
  }
 },
 "nbformat": 4,
 "nbformat_minor": 5
}
